{
 "cells": [
  {
   "cell_type": "code",
   "execution_count": 3,
   "metadata": {
    "scrolled": true
   },
   "outputs": [],
   "source": [
    "# import different libraries\n",
    "import pandas as pd\n",
    "import matplotlib.pyplot as plt\n",
    "import matplotlib as mpl\n",
    "import numpy as np\n",
    "import seaborn as sns\n",
    "%matplotlib inline"
   ]
  },
  {
   "cell_type": "code",
   "execution_count": 4,
   "metadata": {},
   "outputs": [
    {
     "name": "stdout",
     "output_type": "stream",
     "text": [
      "<class 'pandas.core.frame.DataFrame'>\n",
      "RangeIndex: 66721 entries, 0 to 66720\n",
      "Data columns (total 17 columns):\n",
      " #   Column                                  Non-Null Count  Dtype \n",
      "---  ------                                  --------------  ----- \n",
      " 0   Organization Name                       66720 non-null  object\n",
      " 1   CB Rank (Company)                       66721 non-null  object\n",
      " 2   Headquarters Regions                    66721 non-null  object\n",
      " 3   Category Groups                         66721 non-null  object\n",
      " 4   Number of Founders                      66721 non-null  object\n",
      " 5   Founders                                66721 non-null  object\n",
      " 6   Number of Employees                     58894 non-null  object\n",
      " 7   Number of Funding Rounds                66721 non-null  object\n",
      " 8   Last Funding Type                       66721 non-null  object\n",
      " 9   Total Funding Amount                    66719 non-null  object\n",
      " 10  Total Funding Amount Currency           66721 non-null  object\n",
      " 11  Total Funding Amount Currency (in USD)  66717 non-null  object\n",
      " 12  Organization                            30003 non-null  object\n",
      " 13  Names                                   30003 non-null  object\n",
      " 14  Group Gender                            30003 non-null  object\n",
      " 15  Genders                                 30003 non-null  object\n",
      " 16  Job Titles                              30003 non-null  object\n",
      "dtypes: object(17)\n",
      "memory usage: 8.7+ MB\n"
     ]
    },
    {
     "name": "stderr",
     "output_type": "stream",
     "text": [
      "/usr/lib/python3/dist-packages/IPython/core/interactiveshell.py:2718: DtypeWarning: Columns (6,9,11,13) have mixed types.Specify dtype option on import or set low_memory=False.\n",
      "  interactivity=interactivity, compiler=compiler, result=result)\n"
     ]
    }
   ],
   "source": [
    "new_df = pd.read_csv('final_dataset3.csv')\n",
    "new_df = new_df.drop(['Unnamed: 0', 'Organization Name URL', ], axis=1)\n",
    "new_df.info()"
   ]
  },
  {
   "cell_type": "code",
   "execution_count": 5,
   "metadata": {},
   "outputs": [
    {
     "data": {
      "text/plain": [
       "(66152, 17)"
      ]
     },
     "execution_count": 5,
     "metadata": {},
     "output_type": "execute_result"
    }
   ],
   "source": [
    "new_df = new_df.drop_duplicates(subset=['Organization Name'])\n",
    "new_df.shape"
   ]
  },
  {
   "cell_type": "code",
   "execution_count": 6,
   "metadata": {},
   "outputs": [
    {
     "data": {
      "text/plain": [
       "(29501, 17)"
      ]
     },
     "execution_count": 6,
     "metadata": {},
     "output_type": "execute_result"
    }
   ],
   "source": [
    "new_df = new_df[new_df['Group Gender'].notnull()]\n",
    "new_df.shape"
   ]
  },
  {
   "cell_type": "code",
   "execution_count": 7,
   "metadata": {},
   "outputs": [
    {
     "data": {
      "text/html": [
       "<div>\n",
       "<style scoped>\n",
       "    .dataframe tbody tr th:only-of-type {\n",
       "        vertical-align: middle;\n",
       "    }\n",
       "\n",
       "    .dataframe tbody tr th {\n",
       "        vertical-align: top;\n",
       "    }\n",
       "\n",
       "    .dataframe thead th {\n",
       "        text-align: right;\n",
       "    }\n",
       "</style>\n",
       "<table border=\"1\" class=\"dataframe\">\n",
       "  <thead>\n",
       "    <tr style=\"text-align: right;\">\n",
       "      <th></th>\n",
       "      <th>Organization Name</th>\n",
       "      <th>CB Rank (Company)</th>\n",
       "      <th>Headquarters Regions</th>\n",
       "      <th>Category Groups</th>\n",
       "      <th>Number of Founders</th>\n",
       "      <th>Founders</th>\n",
       "      <th>Number of Employees</th>\n",
       "      <th>Number of Funding Rounds</th>\n",
       "      <th>Last Funding Type</th>\n",
       "      <th>Total Funding Amount</th>\n",
       "      <th>Total Funding Amount Currency</th>\n",
       "      <th>Total Funding Amount Currency (in USD)</th>\n",
       "      <th>Organization</th>\n",
       "      <th>Names</th>\n",
       "      <th>Group Gender</th>\n",
       "      <th>Genders</th>\n",
       "      <th>Job Titles</th>\n",
       "    </tr>\n",
       "  </thead>\n",
       "  <tbody>\n",
       "    <tr>\n",
       "      <th>1</th>\n",
       "      <td>Baetes</td>\n",
       "      <td>80,003</td>\n",
       "      <td>European Union (EU), Nordic Countries, Scandin...</td>\n",
       "      <td>Clothing and Apparel, Commerce and Shopping, D...</td>\n",
       "      <td>3</td>\n",
       "      <td>Erik Sjoberg, Filip Waak, Fredrik Heiding</td>\n",
       "      <td>NaN</td>\n",
       "      <td>1</td>\n",
       "      <td>Convertible Note</td>\n",
       "      <td>32000</td>\n",
       "      <td>EUR</td>\n",
       "      <td>39572</td>\n",
       "      <td>Baetes</td>\n",
       "      <td>['Erik Sjoberg', 'Erik Sjoberg']</td>\n",
       "      <td>Male only</td>\n",
       "      <td>['Male', 'Male']</td>\n",
       "      <td>['Founder &amp; CEO', 'Founder &amp; CEO']</td>\n",
       "    </tr>\n",
       "    <tr>\n",
       "      <th>3</th>\n",
       "      <td>Rendy.io</td>\n",
       "      <td>80,009</td>\n",
       "      <td>Latin America</td>\n",
       "      <td>Commerce and Shopping, Hardware, Sales and Mar...</td>\n",
       "      <td>2</td>\n",
       "      <td>Gerardo Mora, Israel Medina</td>\n",
       "      <td>1-10</td>\n",
       "      <td>2</td>\n",
       "      <td>Seed</td>\n",
       "      <td>100000</td>\n",
       "      <td>USD</td>\n",
       "      <td>100000</td>\n",
       "      <td>Rendy.io</td>\n",
       "      <td>['Israel Medina', 'Israel Medina']</td>\n",
       "      <td>Male only</td>\n",
       "      <td>['Male', 'Male']</td>\n",
       "      <td>['Founder &amp; CEO', 'Founder &amp; CEO']</td>\n",
       "    </tr>\n",
       "    <tr>\n",
       "      <th>9</th>\n",
       "      <td>Leap</td>\n",
       "      <td>80,020</td>\n",
       "      <td>European Union (EU)</td>\n",
       "      <td>Internet Services, Sports</td>\n",
       "      <td>5</td>\n",
       "      <td>Christo Peev, Felix Quinton, Georgi Karadzhov,...</td>\n",
       "      <td>11-50</td>\n",
       "      <td>3</td>\n",
       "      <td>Seed</td>\n",
       "      <td>60000</td>\n",
       "      <td>EUR</td>\n",
       "      <td>79761</td>\n",
       "      <td>Leap</td>\n",
       "      <td>['Amish Tolia', 'Remco van den Elzen', 'Christ...</td>\n",
       "      <td>Male only</td>\n",
       "      <td>['Male', 'Male', 'Male', 'Male', 'Male', 'Male']</td>\n",
       "      <td>['Founder &amp; CEO', 'Founder &amp; COO', 'Other Foun...</td>\n",
       "    </tr>\n",
       "    <tr>\n",
       "      <th>13</th>\n",
       "      <td>Wekho</td>\n",
       "      <td>80,035</td>\n",
       "      <td>Greater Miami Area, East Coast, Southern US</td>\n",
       "      <td>Apps, Internet Services, Media and Entertainme...</td>\n",
       "      <td>1</td>\n",
       "      <td>Fedor Saldivia</td>\n",
       "      <td>1-10</td>\n",
       "      <td>3</td>\n",
       "      <td>Seed</td>\n",
       "      <td>350000</td>\n",
       "      <td>USD</td>\n",
       "      <td>350000</td>\n",
       "      <td>Wekho</td>\n",
       "      <td>['Fedor Saldivia', 'Fedor Saldivia']</td>\n",
       "      <td>Male only</td>\n",
       "      <td>['Male', 'Male']</td>\n",
       "      <td>['Founder &amp; CEO', 'Founder &amp; CEO']</td>\n",
       "    </tr>\n",
       "    <tr>\n",
       "      <th>16</th>\n",
       "      <td>Intelline</td>\n",
       "      <td>80,038</td>\n",
       "      <td>Great Lakes</td>\n",
       "      <td>Energy, Manufacturing, Science and Engineering...</td>\n",
       "      <td>2</td>\n",
       "      <td>Chris Mathew, Kyle Faller</td>\n",
       "      <td>1-10</td>\n",
       "      <td>2</td>\n",
       "      <td>Grant</td>\n",
       "      <td>15000</td>\n",
       "      <td>CAD</td>\n",
       "      <td>11391</td>\n",
       "      <td>Intelline</td>\n",
       "      <td>Kyle Faller</td>\n",
       "      <td>Male only</td>\n",
       "      <td>Male</td>\n",
       "      <td>Founder &amp; CEO</td>\n",
       "    </tr>\n",
       "  </tbody>\n",
       "</table>\n",
       "</div>"
      ],
      "text/plain": [
       "   Organization Name CB Rank (Company)  \\\n",
       "1             Baetes            80,003   \n",
       "3           Rendy.io            80,009   \n",
       "9               Leap            80,020   \n",
       "13             Wekho            80,035   \n",
       "16         Intelline            80,038   \n",
       "\n",
       "                                 Headquarters Regions  \\\n",
       "1   European Union (EU), Nordic Countries, Scandin...   \n",
       "3                                       Latin America   \n",
       "9                                 European Union (EU)   \n",
       "13        Greater Miami Area, East Coast, Southern US   \n",
       "16                                        Great Lakes   \n",
       "\n",
       "                                      Category Groups Number of Founders  \\\n",
       "1   Clothing and Apparel, Commerce and Shopping, D...                  3   \n",
       "3   Commerce and Shopping, Hardware, Sales and Mar...                  2   \n",
       "9                           Internet Services, Sports                  5   \n",
       "13  Apps, Internet Services, Media and Entertainme...                  1   \n",
       "16  Energy, Manufacturing, Science and Engineering...                  2   \n",
       "\n",
       "                                             Founders Number of Employees  \\\n",
       "1           Erik Sjoberg, Filip Waak, Fredrik Heiding                 NaN   \n",
       "3                         Gerardo Mora, Israel Medina                1-10   \n",
       "9   Christo Peev, Felix Quinton, Georgi Karadzhov,...               11-50   \n",
       "13                                     Fedor Saldivia                1-10   \n",
       "16                          Chris Mathew, Kyle Faller                1-10   \n",
       "\n",
       "   Number of Funding Rounds Last Funding Type Total Funding Amount  \\\n",
       "1                         1  Convertible Note                32000   \n",
       "3                         2              Seed               100000   \n",
       "9                         3              Seed                60000   \n",
       "13                        3              Seed               350000   \n",
       "16                        2             Grant                15000   \n",
       "\n",
       "   Total Funding Amount Currency Total Funding Amount Currency (in USD)  \\\n",
       "1                            EUR                                  39572   \n",
       "3                            USD                                 100000   \n",
       "9                            EUR                                  79761   \n",
       "13                           USD                                 350000   \n",
       "16                           CAD                                  11391   \n",
       "\n",
       "   Organization                                              Names  \\\n",
       "1        Baetes                   ['Erik Sjoberg', 'Erik Sjoberg']   \n",
       "3      Rendy.io                 ['Israel Medina', 'Israel Medina']   \n",
       "9          Leap  ['Amish Tolia', 'Remco van den Elzen', 'Christ...   \n",
       "13        Wekho               ['Fedor Saldivia', 'Fedor Saldivia']   \n",
       "16    Intelline                                        Kyle Faller   \n",
       "\n",
       "   Group Gender                                           Genders  \\\n",
       "1     Male only                                  ['Male', 'Male']   \n",
       "3     Male only                                  ['Male', 'Male']   \n",
       "9     Male only  ['Male', 'Male', 'Male', 'Male', 'Male', 'Male']   \n",
       "13    Male only                                  ['Male', 'Male']   \n",
       "16    Male only                                              Male   \n",
       "\n",
       "                                           Job Titles  \n",
       "1                  ['Founder & CEO', 'Founder & CEO']  \n",
       "3                  ['Founder & CEO', 'Founder & CEO']  \n",
       "9   ['Founder & CEO', 'Founder & COO', 'Other Foun...  \n",
       "13                 ['Founder & CEO', 'Founder & CEO']  \n",
       "16                                      Founder & CEO  "
      ]
     },
     "execution_count": 7,
     "metadata": {},
     "output_type": "execute_result"
    }
   ],
   "source": [
    "new_df.head()"
   ]
  },
  {
   "cell_type": "code",
   "execution_count": 8,
   "metadata": {},
   "outputs": [],
   "source": [
    "new_df['Number of Funding Rounds'] = new_df['Number of Funding Rounds'].astype(float)\n",
    "new_df['Number of Founders'] = new_df['Number of Founders'].astype(float)\n",
    "new_df['Total Funding Amount Currency (in USD)'] = new_df['Total Funding Amount Currency (in USD)'].astype(float)\n",
    "new_df['Total Funding Amount'] = new_df['Total Funding Amount'].astype(float)"
   ]
  },
  {
   "cell_type": "code",
   "execution_count": 9,
   "metadata": {},
   "outputs": [
    {
     "name": "stdout",
     "output_type": "stream",
     "text": [
      "<class 'pandas.core.frame.DataFrame'>\n",
      "Int64Index: 29501 entries, 1 to 66720\n",
      "Data columns (total 17 columns):\n",
      " #   Column                                  Non-Null Count  Dtype  \n",
      "---  ------                                  --------------  -----  \n",
      " 0   Organization Name                       29501 non-null  object \n",
      " 1   CB Rank (Company)                       29501 non-null  object \n",
      " 2   Headquarters Regions                    29501 non-null  object \n",
      " 3   Category Groups                         29501 non-null  object \n",
      " 4   Number of Founders                      29501 non-null  float64\n",
      " 5   Founders                                29501 non-null  object \n",
      " 6   Number of Employees                     27145 non-null  object \n",
      " 7   Number of Funding Rounds                29501 non-null  float64\n",
      " 8   Last Funding Type                       29501 non-null  object \n",
      " 9   Total Funding Amount                    29501 non-null  float64\n",
      " 10  Total Funding Amount Currency           29501 non-null  object \n",
      " 11  Total Funding Amount Currency (in USD)  29501 non-null  float64\n",
      " 12  Organization                            29501 non-null  object \n",
      " 13  Names                                   29501 non-null  object \n",
      " 14  Group Gender                            29501 non-null  object \n",
      " 15  Genders                                 29501 non-null  object \n",
      " 16  Job Titles                              29501 non-null  object \n",
      "dtypes: float64(4), object(13)\n",
      "memory usage: 4.1+ MB\n"
     ]
    }
   ],
   "source": [
    "new_df.info()"
   ]
  },
  {
   "cell_type": "code",
   "execution_count": 10,
   "metadata": {},
   "outputs": [
    {
     "data": {
      "text/plain": [
       "array(['Convertible Note', 'Seed', 'Grant', 'Equity Crowdfunding',\n",
       "       'Angel', 'Debt Financing', 'Pre-Seed', 'Venture - Series Unknown',\n",
       "       'Product Crowdfunding', 'Non-equity Assistance', 'Series B',\n",
       "       'Series C', 'Private Equity', 'Undisclosed', 'Post-IPO Equity',\n",
       "       'Series A', 'Series E', 'Corporate Round', 'Initial Coin Offering',\n",
       "       'Series D', 'Post-IPO Debt', 'Series F', 'Secondary Market',\n",
       "       'Series H', 'Series G', 'Series I', 'Series J',\n",
       "       'Post-IPO Secondary'], dtype=object)"
      ]
     },
     "execution_count": 10,
     "metadata": {},
     "output_type": "execute_result"
    }
   ],
   "source": [
    "new_df['Last Funding Type'].unique()"
   ]
  },
  {
   "cell_type": "code",
   "execution_count": 11,
   "metadata": {},
   "outputs": [
    {
     "data": {
      "text/plain": [
       "(29501, 17)"
      ]
     },
     "execution_count": 11,
     "metadata": {},
     "output_type": "execute_result"
    }
   ],
   "source": [
    "null = new_df['Category Groups'].notnull()\n",
    "new_df = new_df[null]\n",
    "new_df.shape"
   ]
  },
  {
   "cell_type": "code",
   "execution_count": 12,
   "metadata": {
    "scrolled": true
   },
   "outputs": [
    {
     "data": {
      "text/plain": [
       "(29501, 17)"
      ]
     },
     "execution_count": 12,
     "metadata": {},
     "output_type": "execute_result"
    }
   ],
   "source": [
    "null = new_df['Headquarters Regions'].notnull()\n",
    "new_df = new_df[null]\n",
    "new_df.shape"
   ]
  },
  {
   "cell_type": "code",
   "execution_count": 13,
   "metadata": {
    "scrolled": true
   },
   "outputs": [
    {
     "name": "stdout",
     "output_type": "stream",
     "text": [
      "Female only     2350\n",
      "Male only      25100\n",
      "Mixed           2051\n",
      "Name: Group Gender, dtype: int64\n"
     ]
    },
    {
     "data": {
      "image/png": "[encoded data removed]",
      "text/plain": [
       "<Figure size 432x144 with 1 Axes>"
      ]
     },
     "metadata": {},
     "output_type": "display_data"
    }
   ],
   "source": [
    "categories_counts= new_df['Group Gender'].value_counts().sort_index()\n",
    "plt.figure(figsize=(6,2))\n",
    "sns.barplot(y=categories_counts.index, x=categories_counts.values)\n",
    "print(categories_counts)"
   ]
  },
  {
   "cell_type": "code",
   "execution_count": 14,
   "metadata": {},
   "outputs": [],
   "source": [
    "df_cat = pd.concat([pd.Series(row['Total Funding Amount Currency (in USD)'], row['Category Groups'].split(','))              \n",
    "                    for _, row in new_df.iterrows()]).reset_index()"
   ]
  },
  {
   "cell_type": "code",
   "execution_count": 15,
   "metadata": {},
   "outputs": [],
   "source": [
    "# cat_dict = {'Company':[], 'Founders Gender':[], 'Total Funding':[]}\n",
    "# for _, row in new_df.iterrows():\n",
    "#     cat_dict['Company'].append(row[])"
   ]
  },
  {
   "cell_type": "code",
   "execution_count": 16,
   "metadata": {},
   "outputs": [],
   "source": [
    "df_cat.rename(columns={'index':'Category', '0':'Total Funding'}, \n",
    "                 inplace=True)"
   ]
  },
  {
   "cell_type": "code",
   "execution_count": 17,
   "metadata": {},
   "outputs": [
    {
     "data": {
      "text/plain": [
       "104748"
      ]
     },
     "execution_count": 17,
     "metadata": {},
     "output_type": "execute_result"
    }
   ],
   "source": [
    "len(df_cat)"
   ]
  },
  {
   "cell_type": "code",
   "execution_count": 18,
   "metadata": {},
   "outputs": [
    {
     "data": {
      "text/html": [
       "<div>\n",
       "<style scoped>\n",
       "    .dataframe tbody tr th:only-of-type {\n",
       "        vertical-align: middle;\n",
       "    }\n",
       "\n",
       "    .dataframe tbody tr th {\n",
       "        vertical-align: top;\n",
       "    }\n",
       "\n",
       "    .dataframe thead th {\n",
       "        text-align: right;\n",
       "    }\n",
       "</style>\n",
       "<table border=\"1\" class=\"dataframe\">\n",
       "  <thead>\n",
       "    <tr style=\"text-align: right;\">\n",
       "      <th></th>\n",
       "      <th>Category</th>\n",
       "      <th>0</th>\n",
       "    </tr>\n",
       "  </thead>\n",
       "  <tbody>\n",
       "    <tr>\n",
       "      <th>0</th>\n",
       "      <td>Clothing and Apparel</td>\n",
       "      <td>39572.0</td>\n",
       "    </tr>\n",
       "    <tr>\n",
       "      <th>1</th>\n",
       "      <td>Commerce and Shopping</td>\n",
       "      <td>39572.0</td>\n",
       "    </tr>\n",
       "    <tr>\n",
       "      <th>2</th>\n",
       "      <td>Design</td>\n",
       "      <td>39572.0</td>\n",
       "    </tr>\n",
       "    <tr>\n",
       "      <th>3</th>\n",
       "      <td>Commerce and Shopping</td>\n",
       "      <td>100000.0</td>\n",
       "    </tr>\n",
       "    <tr>\n",
       "      <th>4</th>\n",
       "      <td>Hardware</td>\n",
       "      <td>100000.0</td>\n",
       "    </tr>\n",
       "  </tbody>\n",
       "</table>\n",
       "</div>"
      ],
      "text/plain": [
       "                 Category         0\n",
       "0    Clothing and Apparel   39572.0\n",
       "1   Commerce and Shopping   39572.0\n",
       "2                  Design   39572.0\n",
       "3   Commerce and Shopping  100000.0\n",
       "4                Hardware  100000.0"
      ]
     },
     "execution_count": 18,
     "metadata": {},
     "output_type": "execute_result"
    }
   ],
   "source": [
    "df_cat.head()"
   ]
  },
  {
   "cell_type": "code",
   "execution_count": 19,
   "metadata": {},
   "outputs": [
    {
     "name": "stdout",
     "output_type": "stream",
     "text": [
      "['Clothing and Apparel' ' Commerce and Shopping' ' Design'\n",
      " 'Commerce and Shopping' ' Hardware' ' Sales and Marketing' ' Software'\n",
      " 'Internet Services' ' Sports' 'Apps' ' Internet Services'\n",
      " ' Media and Entertainment' ' Travel and Tourism' ' Video' 'Energy'\n",
      " ' Manufacturing' ' Science and Engineering' ' Sustainability'\n",
      " 'Health Care' ' Consumer Electronics' ' Consumer Goods' ' Health Care'\n",
      " ' Content and Publishing' ' Mobile' 'Information Technology'\n",
      " ' Information Technology' 'Community and Lifestyle' ' Real Estate'\n",
      " 'Biotechnology' ' Messaging and Telecommunications' ' Platforms'\n",
      " ' Privacy and Security' 'Content and Publishing' 'Consumer Goods'\n",
      " 'Hardware' 'Consumer Electronics' ' Transportation' ' Education' 'Gaming'\n",
      " ' Financial Services' 'Travel and Tourism' 'Data and Analytics'\n",
      " ' Professional Services' ' Payments' 'Advertising' 'Education'\n",
      " ' Community and Lifestyle' ' Music and Audio' ' Food and Beverage'\n",
      " 'Manufacturing' 'Media and Entertainment' 'Real Estate'\n",
      " 'Financial Services' ' Natural Resources' 'Artificial Intelligence'\n",
      " ' Data and Analytics' ' Navigation and Mapping' ' Apps'\n",
      " 'Privacy and Security' ' Events' 'Natural Resources' 'Events'\n",
      " ' Government and Military' 'Government and Military'\n",
      " 'Administrative Services' ' Lending and Investments' 'Food and Beverage'\n",
      " ' Gaming' 'Software' 'Agriculture and Farming' 'Transportation' 'Design'\n",
      " ' Energy' 'Science and Engineering' 'Professional Services'\n",
      " ' Artificial Intelligence' ' Advertising' 'Mobile' ' Biotechnology'\n",
      " 'Sales and Marketing' ' Clothing and Apparel' 'Navigation and Mapping'\n",
      " 'Sports' 'Sustainability' 'Platforms' 'Messaging and Telecommunications'\n",
      " 'Payments' ' Agriculture and Farming']\n",
      "88\n"
     ]
    }
   ],
   "source": [
    "cb_categories = df_cat['Category'].unique()\n",
    "print(cb_categories)\n",
    "print(len(cb_categories))"
   ]
  },
  {
   "cell_type": "code",
   "execution_count": 20,
   "metadata": {},
   "outputs": [],
   "source": [
    "df_cat['Category'] = df_cat['Category'].str.strip()"
   ]
  },
  {
   "cell_type": "code",
   "execution_count": 21,
   "metadata": {},
   "outputs": [
    {
     "name": "stdout",
     "output_type": "stream",
     "text": [
      "['Clothing and Apparel' 'Commerce and Shopping' 'Design' 'Hardware'\n",
      " 'Sales and Marketing' 'Software' 'Internet Services' 'Sports' 'Apps'\n",
      " 'Media and Entertainment' 'Travel and Tourism' 'Video' 'Energy'\n",
      " 'Manufacturing' 'Science and Engineering' 'Sustainability' 'Health Care'\n",
      " 'Consumer Electronics' 'Consumer Goods' 'Content and Publishing' 'Mobile'\n",
      " 'Information Technology' 'Community and Lifestyle' 'Real Estate'\n",
      " 'Biotechnology' 'Messaging and Telecommunications' 'Platforms'\n",
      " 'Privacy and Security' 'Transportation' 'Education' 'Gaming'\n",
      " 'Financial Services' 'Data and Analytics' 'Professional Services'\n",
      " 'Payments' 'Advertising' 'Music and Audio' 'Food and Beverage'\n",
      " 'Natural Resources' 'Artificial Intelligence' 'Navigation and Mapping'\n",
      " 'Events' 'Government and Military' 'Administrative Services'\n",
      " 'Lending and Investments' 'Agriculture and Farming']\n",
      "46\n"
     ]
    }
   ],
   "source": [
    "cb_categories = df_cat['Category'].unique()\n",
    "print(cb_categories)\n",
    "print(len(cb_categories))"
   ]
  },
  {
   "cell_type": "code",
   "execution_count": 22,
   "metadata": {},
   "outputs": [
    {
     "name": "stdout",
     "output_type": "stream",
     "text": [
      "Software                            14116\n",
      "Internet Services                    7319\n",
      "Information Technology               5994\n",
      "Health Care                          5017\n",
      "Data and Analytics                   4960\n",
      "Science and Engineering              4858\n",
      "Hardware                             4779\n",
      "Mobile                               4317\n",
      "Commerce and Shopping                4287\n",
      "Media and Entertainment              4210\n",
      "Financial Services                   3617\n",
      "Sales and Marketing                  2867\n",
      "Apps                                 2661\n",
      "Artificial Intelligence              2410\n",
      "Consumer Electronics                 2078\n",
      "Transportation                       1954\n",
      "Biotechnology                        1931\n",
      "Design                               1609\n",
      "Education                            1582\n",
      "Community and Lifestyle              1530\n",
      "Real Estate                          1461\n",
      "Food and Beverage                    1372\n",
      "Advertising                          1288\n",
      "Privacy and Security                 1260\n",
      "Content and Publishing               1246\n",
      "Travel and Tourism                   1185\n",
      "Professional Services                1177\n",
      "Payments                             1129\n",
      "Sports                               1113\n",
      "Manufacturing                        1094\n",
      "Video                                1036\n",
      "Consumer Goods                        931\n",
      "Sustainability                        908\n",
      "Lending and Investments               862\n",
      "Energy                                825\n",
      "Clothing and Apparel                  797\n",
      "Gaming                                746\n",
      "Messaging and Telecommunications      673\n",
      "Platforms                             543\n",
      "Events                                515\n",
      "Music and Audio                       472\n",
      "Administrative Services               457\n",
      "Natural Resources                     442\n",
      "Navigation and Mapping                431\n",
      "Agriculture and Farming               394\n",
      "Government and Military               295\n",
      "Name: Category, dtype: int64\n"
     ]
    },
    {
     "data": {
      "image/png": "[encoded data removed]",
      "text/plain": [
       "<Figure size 864x1008 with 1 Axes>"
      ]
     },
     "metadata": {},
     "output_type": "display_data"
    }
   ],
   "source": [
    "categories_counts= df_cat['Category'].value_counts()\n",
    "plt.figure(figsize=(12,14))\n",
    "sns.barplot(y=categories_counts.index, x=categories_counts.values)\n",
    "print(categories_counts)"
   ]
  },
  {
   "cell_type": "code",
   "execution_count": 23,
   "metadata": {},
   "outputs": [],
   "source": [
    "#simplifying categories\n",
    "df_cat.loc[df_cat['Category'].str.contains('Finance|FinTech|Financial|Banking', case=False), 'Main Category'] = 'Finance'\n",
    "df_cat.loc[df_cat['Category'].str.contains('Biotechnology', case=False), 'Main Category'] = 'Biotechnology'\n",
    "df_cat.loc[df_cat['Category'].str.contains('Health Care', case=False), 'Main Category'] = 'Health Care'\n",
    "df_cat.loc[df_cat['Category'].str.contains('E-Commerce|Commerce', case=False), 'Main Category'] = 'Commerce'\n",
    "df_cat.loc[df_cat['Category'].str.contains('Software', case=False), 'Main Category'] = 'Software'\n",
    "df_cat.loc[df_cat['Category'].str.contains('Internet', case=False), 'Main Category'] = 'Internet'\n",
    "df_cat.loc[df_cat['Category'].str.contains('Information Technology', case=False), 'Main Category'] = 'Information Technology'\n",
    "df_cat.loc[df_cat['Category'].str.contains('Education', case=False), 'Main Category'] = 'Education'\n",
    "df_cat.loc[df_cat['Category'].str.contains('Network Security|Cyber Security', case=False), 'Main Category'] = 'Security'\n",
    "df_cat.loc[df_cat['Category'].str.contains('Real Estate', case=False), 'Main Category'] = 'Real Estate'\n",
    "df_cat.loc[df_cat['Category'].str.contains('Tourism', case=False), 'Main Category'] = 'Tourism'\n",
    "df_cat.loc[df_cat['Category'].str.contains('Artificial Intelligence', case=False), 'Main Category'] = 'Artificial Intelligence'\n",
    "df_cat.loc[df_cat['Category'].str.contains('Food', case=False), 'Main Category'] = 'Food'\n",
    "df_cat.loc[df_cat['Category'].str.contains('Advertising', case=False), 'Main Category'] = 'Advertising'\n",
    "df_cat.loc[df_cat['Category'].str.contains('Fashion', case=False), 'Main Category'] = 'Fashion'\n",
    "df_cat.loc[df_cat['Category'].str.contains('Data', case=False), 'Main Category'] = 'Data'\n",
    "df_cat.loc[df_cat['Category'].str.contains('Robotics', case=False), 'Main Category'] = 'Robotics'\n",
    "df_cat.loc[df_cat['Category'].str.contains('Gaming', case=False), 'Main Category'] = 'Gaming'\n",
    "df_cat.loc[df_cat['Category'].str.contains('Sports', case=False), 'Main Category'] = 'Sports'\n",
    "df_cat.loc[df_cat['Category'].str.contains('Entertainment', case=False), 'Main Category'] = 'Entertainment'\n",
    "df_cat.loc[df_cat['Category'].str.contains('Insurance', case=False), 'Main Category'] = 'Insurance'\n",
    "df_cat.loc[df_cat['Category'].str.contains('Energy', case=False), 'Main Category'] = 'Energy'\n",
    "df_cat.loc[df_cat['Category'].str.contains('Manufacturing', case=False), 'Main Category'] = 'Manufacturing'"
   ]
  },
  {
   "cell_type": "code",
   "execution_count": 24,
   "metadata": {},
   "outputs": [
    {
     "data": {
      "text/html": [
       "<div>\n",
       "<style scoped>\n",
       "    .dataframe tbody tr th:only-of-type {\n",
       "        vertical-align: middle;\n",
       "    }\n",
       "\n",
       "    .dataframe tbody tr th {\n",
       "        vertical-align: top;\n",
       "    }\n",
       "\n",
       "    .dataframe thead th {\n",
       "        text-align: right;\n",
       "    }\n",
       "</style>\n",
       "<table border=\"1\" class=\"dataframe\">\n",
       "  <thead>\n",
       "    <tr style=\"text-align: right;\">\n",
       "      <th></th>\n",
       "      <th>Category</th>\n",
       "      <th>0</th>\n",
       "      <th>Main Category</th>\n",
       "    </tr>\n",
       "  </thead>\n",
       "  <tbody>\n",
       "    <tr>\n",
       "      <th>0</th>\n",
       "      <td>Clothing and Apparel</td>\n",
       "      <td>39572.0</td>\n",
       "      <td>NaN</td>\n",
       "    </tr>\n",
       "    <tr>\n",
       "      <th>1</th>\n",
       "      <td>Commerce and Shopping</td>\n",
       "      <td>39572.0</td>\n",
       "      <td>Commerce</td>\n",
       "    </tr>\n",
       "    <tr>\n",
       "      <th>2</th>\n",
       "      <td>Design</td>\n",
       "      <td>39572.0</td>\n",
       "      <td>NaN</td>\n",
       "    </tr>\n",
       "    <tr>\n",
       "      <th>3</th>\n",
       "      <td>Commerce and Shopping</td>\n",
       "      <td>100000.0</td>\n",
       "      <td>Commerce</td>\n",
       "    </tr>\n",
       "    <tr>\n",
       "      <th>4</th>\n",
       "      <td>Hardware</td>\n",
       "      <td>100000.0</td>\n",
       "      <td>NaN</td>\n",
       "    </tr>\n",
       "  </tbody>\n",
       "</table>\n",
       "</div>"
      ],
      "text/plain": [
       "                Category         0 Main Category\n",
       "0   Clothing and Apparel   39572.0           NaN\n",
       "1  Commerce and Shopping   39572.0      Commerce\n",
       "2                 Design   39572.0           NaN\n",
       "3  Commerce and Shopping  100000.0      Commerce\n",
       "4               Hardware  100000.0           NaN"
      ]
     },
     "execution_count": 24,
     "metadata": {},
     "output_type": "execute_result"
    }
   ],
   "source": [
    "df_cat.head()"
   ]
  },
  {
   "cell_type": "code",
   "execution_count": 28,
   "metadata": {},
   "outputs": [],
   "source": [
    " def compute_percentage(x, column_values):\n",
    "      pct = float(x/column_values.sum()) * 100\n",
    "      return round(pct, 2)"
   ]
  },
  {
   "cell_type": "code",
   "execution_count": 31,
   "metadata": {},
   "outputs": [
    {
     "name": "stdout",
     "output_type": "stream",
     "text": [
      "19\n",
      "Software                   0.218761\n",
      "Internet                   0.113425\n",
      "Information Technology     0.092891\n",
      "Health Care                0.077750\n",
      "Data                       0.076867\n",
      "Commerce                   0.066437\n",
      "Entertainment              0.065244\n",
      "Finance                    0.056054\n",
      "Artificial Intelligence    0.037349\n",
      "Biotechnology              0.029925\n",
      "Education                  0.024517\n",
      "Real Estate                0.022642\n",
      "Food                       0.021262\n",
      "Advertising                0.019961\n",
      "Tourism                    0.018364\n",
      "Sports                     0.017249\n",
      "Manufacturing              0.016954\n",
      "Energy                     0.012785\n",
      "Gaming                     0.011561\n",
      "Name: Main Category, dtype: float64\n"
     ]
    },
    {
     "data": {
      "image/png": "[encoded data removed]",
      "text/plain": [
       "<Figure size 576x576 with 1 Axes>"
      ]
     },
     "metadata": {},
     "output_type": "display_data"
    }
   ],
   "source": [
    "categories_counts= df_cat['Main Category'].value_counts()\n",
    "plt.figure(figsize=(8,8))\n",
    "sns.barplot(y=categories_counts.index, x=categories_counts.values)\n",
    "print(len(categories_counts))\n",
    "print(categories_counts/categories_counts.sum())"
   ]
  },
  {
   "cell_type": "code",
   "execution_count": 24,
   "metadata": {
    "scrolled": false
   },
   "outputs": [
    {
     "ename": "KeyError",
     "evalue": "'Group Gender'",
     "output_type": "error",
     "traceback": [
      "\u001b[0;31m---------------------------------------------------------------------------\u001b[0m",
      "\u001b[0;31mKeyError\u001b[0m                                  Traceback (most recent call last)",
      "\u001b[0;32m/home/bossou/.local/lib/python3.6/site-packages/pandas/core/indexes/base.py\u001b[0m in \u001b[0;36mget_loc\u001b[0;34m(self, key, method, tolerance)\u001b[0m\n\u001b[1;32m   2645\u001b[0m             \u001b[0;32mtry\u001b[0m\u001b[0;34m:\u001b[0m\u001b[0;34m\u001b[0m\u001b[0;34m\u001b[0m\u001b[0m\n\u001b[0;32m-> 2646\u001b[0;31m                 \u001b[0;32mreturn\u001b[0m \u001b[0mself\u001b[0m\u001b[0;34m.\u001b[0m\u001b[0m_engine\u001b[0m\u001b[0;34m.\u001b[0m\u001b[0mget_loc\u001b[0m\u001b[0;34m(\u001b[0m\u001b[0mkey\u001b[0m\u001b[0;34m)\u001b[0m\u001b[0;34m\u001b[0m\u001b[0;34m\u001b[0m\u001b[0m\n\u001b[0m\u001b[1;32m   2647\u001b[0m             \u001b[0;32mexcept\u001b[0m \u001b[0mKeyError\u001b[0m\u001b[0;34m:\u001b[0m\u001b[0;34m\u001b[0m\u001b[0;34m\u001b[0m\u001b[0m\n",
      "\u001b[0;32mpandas/_libs/index.pyx\u001b[0m in \u001b[0;36mpandas._libs.index.IndexEngine.get_loc\u001b[0;34m()\u001b[0m\n",
      "\u001b[0;32mpandas/_libs/index.pyx\u001b[0m in \u001b[0;36mpandas._libs.index.IndexEngine.get_loc\u001b[0;34m()\u001b[0m\n",
      "\u001b[0;32mpandas/_libs/hashtable_class_helper.pxi\u001b[0m in \u001b[0;36mpandas._libs.hashtable.PyObjectHashTable.get_item\u001b[0;34m()\u001b[0m\n",
      "\u001b[0;32mpandas/_libs/hashtable_class_helper.pxi\u001b[0m in \u001b[0;36mpandas._libs.hashtable.PyObjectHashTable.get_item\u001b[0;34m()\u001b[0m\n",
      "\u001b[0;31mKeyError\u001b[0m: 'Group Gender'",
      "\nDuring handling of the above exception, another exception occurred:\n",
      "\u001b[0;31mKeyError\u001b[0m                                  Traceback (most recent call last)",
      "\u001b[0;32m<ipython-input-24-e3589eaa943a>\u001b[0m in \u001b[0;36m<module>\u001b[0;34m()\u001b[0m\n\u001b[1;32m      3\u001b[0m \u001b[0;32mfor\u001b[0m \u001b[0mi\u001b[0m \u001b[0;32min\u001b[0m \u001b[0mcb_categories\u001b[0m\u001b[0;34m:\u001b[0m\u001b[0;34m\u001b[0m\u001b[0;34m\u001b[0m\u001b[0m\n\u001b[1;32m      4\u001b[0m     \u001b[0mgender_Categories\u001b[0m \u001b[0;34m=\u001b[0m \u001b[0mdf_cat\u001b[0m\u001b[0;34m[\u001b[0m\u001b[0mdf_cat\u001b[0m\u001b[0;34m[\u001b[0m\u001b[0;34m'Category'\u001b[0m\u001b[0;34m]\u001b[0m \u001b[0;34m==\u001b[0m \u001b[0mi\u001b[0m\u001b[0;34m]\u001b[0m\u001b[0;34m\u001b[0m\u001b[0;34m\u001b[0m\u001b[0m\n\u001b[0;32m----> 5\u001b[0;31m     \u001b[0mcategories_counts\u001b[0m\u001b[0;34m=\u001b[0m \u001b[0mgender_Categories\u001b[0m\u001b[0;34m[\u001b[0m\u001b[0;34m'Group Gender'\u001b[0m\u001b[0;34m]\u001b[0m\u001b[0;34m.\u001b[0m\u001b[0mvalue_counts\u001b[0m\u001b[0;34m(\u001b[0m\u001b[0;34m)\u001b[0m\u001b[0;34m.\u001b[0m\u001b[0msort_index\u001b[0m\u001b[0;34m(\u001b[0m\u001b[0;34m)\u001b[0m\u001b[0;34m\u001b[0m\u001b[0;34m\u001b[0m\u001b[0m\n\u001b[0m\u001b[1;32m      6\u001b[0m     \u001b[0mplt\u001b[0m\u001b[0;34m.\u001b[0m\u001b[0mfigure\u001b[0m\u001b[0;34m(\u001b[0m\u001b[0mfigsize\u001b[0m\u001b[0;34m=\u001b[0m\u001b[0;34m(\u001b[0m\u001b[0;36m6\u001b[0m\u001b[0;34m,\u001b[0m\u001b[0;36m2\u001b[0m\u001b[0;34m)\u001b[0m\u001b[0;34m)\u001b[0m\u001b[0;34m\u001b[0m\u001b[0;34m\u001b[0m\u001b[0m\n\u001b[1;32m      7\u001b[0m     \u001b[0mplt\u001b[0m\u001b[0;34m.\u001b[0m\u001b[0mtitle\u001b[0m\u001b[0;34m(\u001b[0m\u001b[0mi\u001b[0m\u001b[0;34m)\u001b[0m\u001b[0;34m\u001b[0m\u001b[0;34m\u001b[0m\u001b[0m\n",
      "\u001b[0;32m/home/bossou/.local/lib/python3.6/site-packages/pandas/core/frame.py\u001b[0m in \u001b[0;36m__getitem__\u001b[0;34m(self, key)\u001b[0m\n\u001b[1;32m   2798\u001b[0m             \u001b[0;32mif\u001b[0m \u001b[0mself\u001b[0m\u001b[0;34m.\u001b[0m\u001b[0mcolumns\u001b[0m\u001b[0;34m.\u001b[0m\u001b[0mnlevels\u001b[0m \u001b[0;34m>\u001b[0m \u001b[0;36m1\u001b[0m\u001b[0;34m:\u001b[0m\u001b[0;34m\u001b[0m\u001b[0;34m\u001b[0m\u001b[0m\n\u001b[1;32m   2799\u001b[0m                 \u001b[0;32mreturn\u001b[0m \u001b[0mself\u001b[0m\u001b[0;34m.\u001b[0m\u001b[0m_getitem_multilevel\u001b[0m\u001b[0;34m(\u001b[0m\u001b[0mkey\u001b[0m\u001b[0;34m)\u001b[0m\u001b[0;34m\u001b[0m\u001b[0;34m\u001b[0m\u001b[0m\n\u001b[0;32m-> 2800\u001b[0;31m             \u001b[0mindexer\u001b[0m \u001b[0;34m=\u001b[0m \u001b[0mself\u001b[0m\u001b[0;34m.\u001b[0m\u001b[0mcolumns\u001b[0m\u001b[0;34m.\u001b[0m\u001b[0mget_loc\u001b[0m\u001b[0;34m(\u001b[0m\u001b[0mkey\u001b[0m\u001b[0;34m)\u001b[0m\u001b[0;34m\u001b[0m\u001b[0;34m\u001b[0m\u001b[0m\n\u001b[0m\u001b[1;32m   2801\u001b[0m             \u001b[0;32mif\u001b[0m \u001b[0mis_integer\u001b[0m\u001b[0;34m(\u001b[0m\u001b[0mindexer\u001b[0m\u001b[0;34m)\u001b[0m\u001b[0;34m:\u001b[0m\u001b[0;34m\u001b[0m\u001b[0;34m\u001b[0m\u001b[0m\n\u001b[1;32m   2802\u001b[0m                 \u001b[0mindexer\u001b[0m \u001b[0;34m=\u001b[0m \u001b[0;34m[\u001b[0m\u001b[0mindexer\u001b[0m\u001b[0;34m]\u001b[0m\u001b[0;34m\u001b[0m\u001b[0;34m\u001b[0m\u001b[0m\n",
      "\u001b[0;32m/home/bossou/.local/lib/python3.6/site-packages/pandas/core/indexes/base.py\u001b[0m in \u001b[0;36mget_loc\u001b[0;34m(self, key, method, tolerance)\u001b[0m\n\u001b[1;32m   2646\u001b[0m                 \u001b[0;32mreturn\u001b[0m \u001b[0mself\u001b[0m\u001b[0;34m.\u001b[0m\u001b[0m_engine\u001b[0m\u001b[0;34m.\u001b[0m\u001b[0mget_loc\u001b[0m\u001b[0;34m(\u001b[0m\u001b[0mkey\u001b[0m\u001b[0;34m)\u001b[0m\u001b[0;34m\u001b[0m\u001b[0;34m\u001b[0m\u001b[0m\n\u001b[1;32m   2647\u001b[0m             \u001b[0;32mexcept\u001b[0m \u001b[0mKeyError\u001b[0m\u001b[0;34m:\u001b[0m\u001b[0;34m\u001b[0m\u001b[0;34m\u001b[0m\u001b[0m\n\u001b[0;32m-> 2648\u001b[0;31m                 \u001b[0;32mreturn\u001b[0m \u001b[0mself\u001b[0m\u001b[0;34m.\u001b[0m\u001b[0m_engine\u001b[0m\u001b[0;34m.\u001b[0m\u001b[0mget_loc\u001b[0m\u001b[0;34m(\u001b[0m\u001b[0mself\u001b[0m\u001b[0;34m.\u001b[0m\u001b[0m_maybe_cast_indexer\u001b[0m\u001b[0;34m(\u001b[0m\u001b[0mkey\u001b[0m\u001b[0;34m)\u001b[0m\u001b[0;34m)\u001b[0m\u001b[0;34m\u001b[0m\u001b[0;34m\u001b[0m\u001b[0m\n\u001b[0m\u001b[1;32m   2649\u001b[0m         \u001b[0mindexer\u001b[0m \u001b[0;34m=\u001b[0m \u001b[0mself\u001b[0m\u001b[0;34m.\u001b[0m\u001b[0mget_indexer\u001b[0m\u001b[0;34m(\u001b[0m\u001b[0;34m[\u001b[0m\u001b[0mkey\u001b[0m\u001b[0;34m]\u001b[0m\u001b[0;34m,\u001b[0m \u001b[0mmethod\u001b[0m\u001b[0;34m=\u001b[0m\u001b[0mmethod\u001b[0m\u001b[0;34m,\u001b[0m \u001b[0mtolerance\u001b[0m\u001b[0;34m=\u001b[0m\u001b[0mtolerance\u001b[0m\u001b[0;34m)\u001b[0m\u001b[0;34m\u001b[0m\u001b[0;34m\u001b[0m\u001b[0m\n\u001b[1;32m   2650\u001b[0m         \u001b[0;32mif\u001b[0m \u001b[0mindexer\u001b[0m\u001b[0;34m.\u001b[0m\u001b[0mndim\u001b[0m \u001b[0;34m>\u001b[0m \u001b[0;36m1\u001b[0m \u001b[0;32mor\u001b[0m \u001b[0mindexer\u001b[0m\u001b[0;34m.\u001b[0m\u001b[0msize\u001b[0m \u001b[0;34m>\u001b[0m \u001b[0;36m1\u001b[0m\u001b[0;34m:\u001b[0m\u001b[0;34m\u001b[0m\u001b[0;34m\u001b[0m\u001b[0m\n",
      "\u001b[0;32mpandas/_libs/index.pyx\u001b[0m in \u001b[0;36mpandas._libs.index.IndexEngine.get_loc\u001b[0;34m()\u001b[0m\n",
      "\u001b[0;32mpandas/_libs/index.pyx\u001b[0m in \u001b[0;36mpandas._libs.index.IndexEngine.get_loc\u001b[0;34m()\u001b[0m\n",
      "\u001b[0;32mpandas/_libs/hashtable_class_helper.pxi\u001b[0m in \u001b[0;36mpandas._libs.hashtable.PyObjectHashTable.get_item\u001b[0;34m()\u001b[0m\n",
      "\u001b[0;32mpandas/_libs/hashtable_class_helper.pxi\u001b[0m in \u001b[0;36mpandas._libs.hashtable.PyObjectHashTable.get_item\u001b[0;34m()\u001b[0m\n",
      "\u001b[0;31mKeyError\u001b[0m: 'Group Gender'"
     ]
    }
   ],
   "source": [
    "# categories = ['Software','Finance','Health Care','Internet','Biotechnology','Commerce','Information Technology','Entertainment','Tourism',\n",
    "# 'Food','Real Estate','Energy','Advertising','Education','Gaming','Manufacturing','Transportation','Data','Sports']\n",
    "for i in cb_categories:\n",
    "    gender_Categories = df_cat[df_cat['Category'] == i]\n",
    "    categories_counts= gender_Categories['Group Gender'].value_counts().sort_index()\n",
    "    plt.figure(figsize=(6,2))\n",
    "    plt.title(i)\n",
    "    sns.barplot(y=categories_counts.index, x=categories_counts.values)"
   ]
  },
  {
   "cell_type": "code",
   "execution_count": null,
   "metadata": {
    "scrolled": true
   },
   "outputs": [],
   "source": [
    "#simplifying regions\n",
    "new_df.loc[new_df['Headquarters Regions'].str.contains('Asia-Pacific', case=False), 'Headquarters Regions'] = 'APAC'\n",
    "new_df.loc[new_df['Headquarters Regions'].str.contains('European Union', case=False), 'Headquarters Regions'] = 'EU'\n",
    "new_df.loc[new_df['Headquarters Regions'].str.contains('San Francisco Bay Area', case=False), 'Headquarters Regions'] = 'Bay'\n",
    "new_df.loc[new_df['Headquarters Regions'].str.contains('Greater New York Area, East Coast, Northeastern US', case=False), 'Headquarters Regions'] = 'NY'\n",
    "new_df.loc[new_df['Headquarters Regions'].str.contains('Greater Boston Area, East Coast, New England', case=False), 'Headquarters Regions'] = 'BS'\n",
    "new_df.loc[new_df['Headquarters Regions'].str.contains('Greater Los Angeles Area, West Coast, Western US', case=False), 'Headquarters Regions'] = 'LA'"
   ]
  },
  {
   "cell_type": "code",
   "execution_count": null,
   "metadata": {},
   "outputs": [],
   "source": [
    "new_df = new_df[(new_df['Headquarters Regions'] == 'EU')| (new_df['Headquarters Regions'] == 'Bay')| (new_df['Headquarters Regions'] == 'APAC')| (new_df['Headquarters Regions'] == 'NY')| (new_df['Headquarters Regions'] == 'LA')| (new_df['Headquarters Regions'] == 'BS')]\n",
    "new_df"
   ]
  },
  {
   "cell_type": "code",
   "execution_count": null,
   "metadata": {},
   "outputs": [],
   "source": [
    "categories_counts= new_df['Headquarters Regions'].value_counts()\n",
    "plt.figure(figsize=(8,8))\n",
    "sns.barplot(y=categories_counts.index, x=categories_counts.values)\n",
    "print(categories_counts)"
   ]
  },
  {
   "cell_type": "code",
   "execution_count": null,
   "metadata": {
    "scrolled": true
   },
   "outputs": [],
   "source": [
    "#creating subdatasets for the top 6 regions\n",
    "data_EU = new_df[new_df['Headquarters Regions'] == 'EU']\n",
    "data_Bay = new_df[new_df['Headquarters Regions'] == 'Bay']\n",
    "data_APAC = new_df[new_df['Headquarters Regions'] == 'APAC']\n",
    "data_NY = new_df[new_df['Headquarters Regions'] == 'NY']\n",
    "data_LA = new_df[new_df['Headquarters Regions'] == 'LA']\n",
    "data_BO = new_df[new_df['Headquarters Regions'] == 'BS']"
   ]
  },
  {
   "cell_type": "code",
   "execution_count": null,
   "metadata": {
    "scrolled": false
   },
   "outputs": [],
   "source": [
    "plt.figure(figsize=(17,8))\n",
    "ax = sns.countplot(x='Headquarters Regions', hue='Group Gender', data=new_df, order=[\"Bay\", \"EU\", \"APAC\", \"NY\", \"LA\", \"BS\"], hue_order=[\"Female only\", \"Male only\", \"Mixed\"])\n",
    "ax.axes.set_title(\"Number of companies by region\", fontsize=22)\n",
    "plt.setp(ax.get_xticklabels(), rotation=0, fontsize=10)\n",
    "plt.legend(fontsize=15, title=\"Regions\");\n",
    "\n",
    "# fig, axes = plt.subplots(nrows=3, ncols=2,figsize=(13,10))\n",
    "\n",
    "# categories_counts= data_EU['Group Gender'].value_counts().sort_index()\n",
    "# sns.barplot(y=categories_counts.index, x=categories_counts.values, ax=axes[0,0])\n",
    "# axes[0,0].set_title('EU')\n",
    "\n",
    "# categories_counts= data_Bay['Group Gender'].value_counts().sort_index()\n",
    "# sns.barplot(y=categories_counts.index, x=categories_counts.values, ax=axes[0,1])\n",
    "# axes[0,1].set_title('Bay')\n",
    "\n",
    "# categories_counts= data_APAC['Group Gender'].value_counts().sort_index()\n",
    "# sns.barplot(y=categories_counts.index, x=categories_counts.values, ax=axes[1,0])\n",
    "# axes[1,0].set_title('APAC')\n",
    "\n",
    "# categories_counts= data_NY['Group Gender'].value_counts().sort_index()\n",
    "# sns.barplot(y=categories_counts.index, x=categories_counts.values, ax=axes[1,1])\n",
    "# axes[1,1].set_title('NY')\n",
    "\n",
    "# categories_counts= data_LA['Group Gender'].value_counts().sort_index()\n",
    "# sns.barplot(y=categories_counts.index, x=categories_counts.values, ax=axes[2,0])\n",
    "# axes[2,0].set_title('LA')\n",
    "\n",
    "# categories_counts= data_BO['Group Gender'].value_counts().sort_index()\n",
    "# sns.barplot(y=categories_counts.index, x=categories_counts.values, ax=axes[2,1])\n",
    "# axes[2,1].set_title('BO')\n",
    "\n",
    "# fig.tight_layout()"
   ]
  },
  {
   "cell_type": "code",
   "execution_count": null,
   "metadata": {},
   "outputs": [],
   "source": [
    "col_names =  ['Region', 'Total Funding', 'Average Funding', 'Top 10 Average Funding']\n",
    "funding  = pd.DataFrame(columns = col_names)\n",
    "funding.loc[0] = ['Bay', data_Bay['Total Funding Amount Currency (in USD)'].sum(), data_Bay['Total Funding Amount Currency (in USD)'].sum()/len(data_Bay), data_Bay['Total Funding Amount Currency (in USD)'].nlargest(10).sum()/10]\n",
    "funding.loc[1] = ['EU', data_EU['Total Funding Amount Currency (in USD)'].sum(), data_EU['Total Funding Amount Currency (in USD)'].sum()/len(data_EU), data_EU['Total Funding Amount Currency (in USD)'].nlargest(10).sum()/10]\n",
    "funding.loc[2] = ['APAC', data_APAC['Total Funding Amount Currency (in USD)'].sum(), data_APAC['Total Funding Amount Currency (in USD)'].sum()/len(data_APAC), data_APAC['Total Funding Amount Currency (in USD)'].nlargest(10).sum()/10]\n",
    "funding.loc[3] = ['NY', data_NY['Total Funding Amount Currency (in USD)'].sum(), data_NY['Total Funding Amount Currency (in USD)'].sum()/len(data_NY), data_NY['Total Funding Amount Currency (in USD)'].nlargest(10).sum()/10]\n",
    "funding.loc[4] = ['LA', data_LA['Total Funding Amount Currency (in USD)'].sum(), data_LA['Total Funding Amount Currency (in USD)'].sum()/len(data_LA), data_LA['Total Funding Amount Currency (in USD)'].nlargest(10).sum()/10]\n",
    "funding.loc[5] = ['BS', data_BO['Total Funding Amount Currency (in USD)'].sum(), data_BO['Total Funding Amount Currency (in USD)'].sum()/len(data_BO), data_BO['Total Funding Amount Currency (in USD)'].nlargest(10).sum()/10]\n",
    "funding = funding.sort_values('Total Funding', ascending=False).sort_index()\n",
    "funding.plot.bar(x='Region', y='Total Funding', rot=0)\n",
    "funding = funding.sort_values('Average Funding', ascending=False).sort_index()\n",
    "funding.plot.bar(x='Region', y='Average Funding', rot=0)\n",
    "funding = funding.sort_values('Top 10 Average Funding', ascending=False).sort_index()\n",
    "funding.plot.bar(x='Region', y='Top 10 Average Funding', rot=0)"
   ]
  },
  {
   "cell_type": "code",
   "execution_count": null,
   "metadata": {},
   "outputs": [],
   "source": [
    "#average vs total bay/apac (too many comapines in Bay area)\n",
    "Bay_10 = data_Bay.sort_values('Total Funding Amount Currency (in USD)', ascending=False).head(10)\n",
    "rg = Bay_10.plot.bar(x='Organization Name', y='Total Funding Amount Currency (in USD)', rot=0, figsize=(10,5),title = 'Bay Top 10')\n",
    "plt.setp(rg.get_xticklabels(), rotation=90)\n",
    "\n",
    "EU_10 = data_EU.sort_values('Total Funding Amount Currency (in USD)', ascending=False).head(10)\n",
    "rg = EU_10.plot.bar(x='Organization Name', y='Total Funding Amount Currency (in USD)', rot=0, figsize=(10,5),title = 'EU Top 10')\n",
    "plt.setp(rg.get_xticklabels(), rotation=90)\n",
    "\n",
    "APAC_10 = data_APAC.sort_values('Total Funding Amount Currency (in USD)', ascending=False).head(10)\n",
    "rg = APAC_10.plot.bar(x='Organization Name', y='Total Funding Amount Currency (in USD)', rot=0, figsize=(10,5),title = 'APAC Top 10')\n",
    "plt.setp(rg.get_xticklabels(), rotation=90)\n",
    "\n",
    "NY_10 = data_NY.sort_values('Total Funding Amount Currency (in USD)', ascending=False).head(10)\n",
    "rg = NY_10.plot.bar(x='Organization Name', y='Total Funding Amount Currency (in USD)', rot=0, figsize=(10,5),title = 'NY Top 10')\n",
    "plt.setp(rg.get_xticklabels(), rotation=90)\n",
    "\n",
    "LA_10 = data_LA.sort_values('Total Funding Amount Currency (in USD)', ascending=False).head(10)\n",
    "rg = LA_10.plot.bar(x='Organization Name', y='Total Funding Amount Currency (in USD)', rot=0, figsize=(10,5),title = 'LA Top 10')\n",
    "plt.setp(rg.get_xticklabels(), rotation=90)\n",
    "\n",
    "BO_10 = data_BO.sort_values('Total Funding Amount Currency (in USD)', ascending=False).head(10)\n",
    "rg = BO_10.plot.bar(x='Organization Name', y='Total Funding Amount Currency (in USD)', rot=0, figsize=(10,5),title = 'BO Top 10')\n",
    "plt.setp(rg.get_xticklabels(), rotation=90)"
   ]
  },
  {
   "cell_type": "code",
   "execution_count": null,
   "metadata": {},
   "outputs": [],
   "source": [
    "cats = ['Software','Finance','Health Care','Internet','Biotechnology','Commerce','Information Technology','Entertainment','Tourism',\n",
    "'Food','Real Estate','Energy','Advertising','Education','Gaming','Manufacturing','Transportation','Data','Sports']\n",
    "\n",
    "df_cat = new_df[new_df['Category Groups'] == 'Software']\n",
    "for i in cats:\n",
    "    df = new_df[new_df['Category Groups'] == i]\n",
    "    df_cat = df_cat.append(df)\n",
    "\n",
    "regions = ['EU','APAC', 'NY', 'LA','BS']\n",
    "\n",
    "df_cat_reg = df_cat[df_cat['Headquarters Regions'] == 'Bay']\n",
    "for i in regions:\n",
    "    df = df_cat[df_cat['Headquarters Regions'] == i]\n",
    "    df_cat_reg = df_cat_reg.append(df)"
   ]
  },
  {
   "cell_type": "code",
   "execution_count": null,
   "metadata": {},
   "outputs": [],
   "source": [
    "plt.figure(figsize=(17,8))\n",
    "ax = sns.countplot(x='Category Groups', hue='Headquarters Regions', data=df_cat_reg)\n",
    "ax.axes.set_title(\"Breakdown of Categories by Regions\", fontsize=22)\n",
    "plt.setp(ax.get_xticklabels(), rotation=90, fontsize=10)\n",
    "plt.legend(fontsize=15, title=\"Regions\");"
   ]
  },
  {
   "cell_type": "code",
   "execution_count": null,
   "metadata": {},
   "outputs": [],
   "source": [
    "#creating subdatasets for the top 6 regions\n",
    "data_EU_cat = df_cat[df_cat['Headquarters Regions'] == 'EU']\n",
    "data_Bay_cat = df_cat[df_cat['Headquarters Regions'] == 'Bay']\n",
    "data_APAC_cat = df_cat[df_cat['Headquarters Regions'] == 'APAC']\n",
    "data_NY_cat = df_cat[df_cat['Headquarters Regions'] == 'NY']\n",
    "data_LA_cat = df_cat[df_cat['Headquarters Regions'] == 'LA']\n",
    "data_BO_cat = df_cat[df_cat['Headquarters Regions'] == 'BS']"
   ]
  },
  {
   "cell_type": "code",
   "execution_count": null,
   "metadata": {},
   "outputs": [],
   "source": [
    "fig, axes = plt.subplots(nrows=2, ncols=3,figsize=(30,13))\n",
    "\n",
    "categories_counts= data_Bay_cat['Category Groups'].value_counts()\n",
    "sns.barplot(y=categories_counts.index, x=categories_counts.values, ax=axes[0,0])\n",
    "axes[0,0].set_title('Bay')\n",
    "\n",
    "categories_counts= data_EU_cat['Category Groups'].value_counts()\n",
    "sns.barplot(y=categories_counts.index, x=categories_counts.values, ax=axes[0,1])\n",
    "axes[0,1].set_title('EU')\n",
    "\n",
    "categories_counts= data_APAC_cat['Category Groups'].value_counts()\n",
    "sns.barplot(y=categories_counts.index, x=categories_counts.values, ax=axes[0,2])\n",
    "axes[0,2].set_title('APAC')\n",
    "\n",
    "categories_counts= data_NY_cat['Category Groups'].value_counts()\n",
    "sns.barplot(y=categories_counts.index, x=categories_counts.values, ax=axes[1,0])\n",
    "axes[1,0].set_title('NY')\n",
    "\n",
    "categories_counts= data_LA_cat['Category Groups'].value_counts()\n",
    "sns.barplot(y=categories_counts.index, x=categories_counts.values, ax=axes[1,1])\n",
    "axes[1,1].set_title('LA')\n",
    "\n",
    "categories_counts= data_BO_cat['Category Groups'].value_counts()\n",
    "sns.barplot(y=categories_counts.index, x=categories_counts.values, ax=axes[1,2])\n",
    "axes[1,2].set_title('BS')\n",
    "\n",
    "fig.tight_layout()"
   ]
  },
  {
   "cell_type": "code",
   "execution_count": null,
   "metadata": {},
   "outputs": [],
   "source": [
    "categories_counts= new_df['Number of Funding Rounds'].value_counts().sort_index()\n",
    "plt.figure(figsize=(15,7))\n",
    "plt.title('Number of Funding Rounds')\n",
    "categories_counts.plot.bar(x='Number of Funding Rounds', rot=0)\n",
    "print(categories_counts)"
   ]
  },
  {
   "cell_type": "code",
   "execution_count": null,
   "metadata": {},
   "outputs": [],
   "source": [
    "categories_counts= new_df['Last Funding Type'].value_counts()\n",
    "plt.figure(figsize=(15,7))\n",
    "plt.title('Last Funding Type')\n",
    "categories_counts.plot.bar(x='Last Funding Type', rot=90)\n",
    "print(categories_counts)"
   ]
  },
  {
   "cell_type": "code",
   "execution_count": null,
   "metadata": {},
   "outputs": [],
   "source": [
    "categories_counts= data_EU['Number of Funding Rounds'].value_counts().sort_index()\n",
    "plt.figure(figsize=(15,7))\n",
    "categories_counts.plot.bar(x='Number of Funding Rounds', rot=0,title = 'EU')\n",
    "\n",
    "categories_counts= data_Bay['Number of Funding Rounds'].value_counts().sort_index()\n",
    "plt.figure(figsize=(15,7))\n",
    "categories_counts.plot.bar(x='Number of Funding Rounds', rot=0,title = 'Bay')\n",
    "\n",
    "categories_counts= data_APAC['Number of Funding Rounds'].value_counts().sort_index()\n",
    "plt.figure(figsize=(15,7))\n",
    "categories_counts.plot.bar(x='Number of Funding Rounds', rot=0,title = 'APAC')\n",
    "\n",
    "categories_counts= data_LA['Number of Funding Rounds'].value_counts().sort_index()\n",
    "plt.figure(figsize=(15,7))\n",
    "categories_counts.plot.bar(x='Number of Funding Rounds', rot=0,title = 'LA')\n",
    "\n",
    "categories_counts= data_NY['Number of Funding Rounds'].value_counts().sort_index()\n",
    "plt.figure(figsize=(15,7))\n",
    "categories_counts.plot.bar(x='Number of Funding Rounds', rot=0,title = 'NY')\n",
    "\n",
    "categories_counts= data_BO['Number of Funding Rounds'].value_counts().sort_index()\n",
    "plt.figure(figsize=(15,7))\n",
    "categories_counts.plot.bar(x='Number of Funding Rounds', rot=0,title = 'BS')"
   ]
  },
  {
   "cell_type": "code",
   "execution_count": null,
   "metadata": {},
   "outputs": [],
   "source": []
  },
  {
   "cell_type": "code",
   "execution_count": null,
   "metadata": {
    "scrolled": true
   },
   "outputs": [],
   "source": [
    "# categories_counts= new_df['Funding Status'].value_counts().nlargest(30).sort_index()\n",
    "# plt.figure(figsize=(5,7))\n",
    "# sns.barplot(y=categories_counts.index, x=categories_counts.values)\n",
    "# print(categories_counts)"
   ]
  },
  {
   "cell_type": "code",
   "execution_count": null,
   "metadata": {
    "scrolled": true
   },
   "outputs": [],
   "source": [
    "# fig, axes = plt.subplots(nrows=2, ncols=3,figsize=(20,13))\n",
    "\n",
    "# categories_counts= data_EU['Funding Status'].value_counts().nlargest(30).sort_index()\n",
    "# sns.barplot(y=categories_counts.index, x=categories_counts.values, ax=axes[0,0])\n",
    "# axes[0,0].set_title('EU')\n",
    "\n",
    "# categories_counts= data_Bay['Funding Status'].value_counts().nlargest(30).sort_index()\n",
    "# sns.barplot(y=categories_counts.index, x=categories_counts.values, ax=axes[0,1])\n",
    "# axes[0,1].set_title('Bay')\n",
    "\n",
    "# categories_counts= data_APAC['Funding Status'].value_counts().nlargest(30).sort_index()\n",
    "# sns.barplot(y=categories_counts.index, x=categories_counts.values, ax=axes[0,2])\n",
    "# axes[0,2].set_title('APAC')\n",
    "\n",
    "# categories_counts= data_LA['Funding Status'].value_counts().nlargest(30).sort_index()\n",
    "# sns.barplot(y=categories_counts.index, x=categories_counts.values, ax=axes[1,0])\n",
    "# axes[1,0].set_title('LA')\n",
    "\n",
    "# categories_counts= data_NY['Funding Status'].value_counts().nlargest(30).sort_index()\n",
    "# sns.barplot(y=categories_counts.index, x=categories_counts.values, ax=axes[1,1])\n",
    "# axes[1,1].set_title('NY')\n",
    "\n",
    "# categories_counts= data_BO['Funding Status'].value_counts().nlargest(30).sort_index()\n",
    "# sns.barplot(y=categories_counts.index, x=categories_counts.values, ax=axes[1,2])\n",
    "# axes[1,2].set_title('BO')\n",
    "\n",
    "# fig.tight_layout()"
   ]
  },
  {
   "cell_type": "code",
   "execution_count": null,
   "metadata": {
    "scrolled": true
   },
   "outputs": [],
   "source": [
    "# categories_counts= new_df['Estimated Revenue Range'].value_counts().nlargest(30)\n",
    "# plt.figure(figsize=(5,7))\n",
    "# sns.barplot(y=categories_counts.index, x=categories_counts.values)\n",
    "# print(categories_counts)"
   ]
  },
  {
   "cell_type": "code",
   "execution_count": null,
   "metadata": {
    "scrolled": true
   },
   "outputs": [],
   "source": [
    "# fig, axes = plt.subplots(nrows=2, ncols=3,figsize=(20,13))\n",
    "\n",
    "# categories_counts= data_EU['Estimated Revenue Range'].value_counts().nlargest(30).sort_index()\n",
    "# sns.barplot(y=categories_counts.index, x=categories_counts.values, ax=axes[0,0], color=\"red\", saturation=.8)\n",
    "# axes[0,0].set_title('EU')\n",
    "\n",
    "# categories_counts= data_Bay['Estimated Revenue Range'].value_counts().nlargest(30).sort_index()\n",
    "# sns.barplot(y=categories_counts.index, x=categories_counts.values, ax=axes[0,1], color=\"red\", saturation=.8)\n",
    "# axes[0,1].set_title('Bay')\n",
    "\n",
    "# categories_counts= data_APAC['Estimated Revenue Range'].value_counts().nlargest(30).sort_index()\n",
    "# sns.barplot(y=categories_counts.index, x=categories_counts.values, ax=axes[0,2], color=\"red\", saturation=.8)\n",
    "# axes[0,2].set_title('APAC')\n",
    "\n",
    "# categories_counts= data_LA['Estimated Revenue Range'].value_counts().nlargest(30).sort_index()\n",
    "# sns.barplot(y=categories_counts.index, x=categories_counts.values, ax=axes[1,0], color=\"red\", saturation=.8)\n",
    "# axes[1,0].set_title('LA')\n",
    "\n",
    "# categories_counts= data_NY['Estimated Revenue Range'].value_counts().nlargest(30).sort_index()\n",
    "# sns.barplot(y=categories_counts.index, x=categories_counts.values, ax=axes[1,1], color=\"red\", saturation=.8)\n",
    "# axes[1,1].set_title('NY')\n",
    "\n",
    "# categories_counts= data_BO['Estimated Revenue Range'].value_counts().nlargest(30).sort_index()\n",
    "# sns.barplot(y=categories_counts.index, x=categories_counts.values, ax=axes[1,2], color=\"red\", saturation=.8)\n",
    "# axes[1,2].set_title('BO')\n",
    "\n",
    "# fig.tight_layout()"
   ]
  },
  {
   "cell_type": "code",
   "execution_count": null,
   "metadata": {
    "scrolled": false
   },
   "outputs": [],
   "source": [
    "col_names =  [ 'Category' , 'Gender','Total Funding', 'Number of Companies','Average Funding']\n",
    "categories = ['Software','Finance','Health Care','Internet','Biotechnology','Commerce','Information Technology','Entertainment','Tourism',\n",
    "'Food','Real Estate','Energy','Advertising','Education','Gaming','Manufacturing','Transportation','Data','Sports']\n",
    "genders = ['Female only', 'Male only', 'Mixed']\n",
    "\n",
    "funding  = pd.DataFrame(columns = col_names)\n",
    "count = 0\n",
    "for i in categories:\n",
    "    for j in genders:\n",
    "            funding.loc[count] = [ i, j, new_df[(new_df['Category Groups']==i)&(new_df['Group Gender']==j)]['Total Funding Amount Currency (in USD)'].sum(),\n",
    "                          len(new_df[(new_df['Category Groups']==i)&(new_df['Group Gender']==j)]),0]\n",
    "            if (funding.at[count,'Number of Companies']!= 0):\n",
    "                funding.at[count,'Average Funding'] = funding.at[count,'Total Funding']/funding.at[count,'Number of Companies']\n",
    "            count = count + 1\n",
    "\n",
    "plt.figure(figsize=(17,8))\n",
    "ax = sns.barplot(x='Category', y='Number of Companies', hue='Gender', data=funding, ci = None, order=['Software','Finance','Health Care','Internet','Biotechnology','Commerce','Information Technology','Entertainment','Tourism',\n",
    "'Food','Real Estate','Energy','Advertising','Education','Gaming','Manufacturing','Transportation','Data','Sports'], hue_order=[\"Female only\", \"Male only\", \"Mixed\"])\n",
    "ax.axes.set_title(\"Number of companies distribution by categories and genders\", fontsize=22)\n",
    "plt.setp(ax.get_xticklabels(), rotation=90, fontsize=10)\n",
    "plt.legend(fontsize=15, title=\"Genders\")\n",
    "\n",
    "plt.figure(figsize=(17,8))\n",
    "ax = sns.barplot(x='Category', y='Total Funding', hue='Gender', data=funding, ci = None, order=['Software','Finance','Health Care','Internet','Biotechnology','Commerce','Information Technology','Entertainment','Tourism',\n",
    "'Food','Real Estate','Energy','Advertising','Education','Gaming','Manufacturing','Transportation','Data','Sports'], hue_order=[\"Female only\", \"Male only\", \"Mixed\"])\n",
    "ax.axes.set_title(\"Total funding distribution by categories and genders\", fontsize=22)\n",
    "plt.setp(ax.get_xticklabels(), rotation=90, fontsize=10)\n",
    "plt.legend(fontsize=15, title=\"Genders\")\n",
    "\n",
    "\n",
    "plt.figure(figsize=(17,8))\n",
    "ax = sns.barplot(x='Category', y='Average Funding', hue='Gender', data=funding, ci = None, order=['Software','Finance','Health Care','Internet','Biotechnology','Commerce','Information Technology','Entertainment','Tourism',\n",
    "'Food','Real Estate','Energy','Advertising','Education','Gaming','Manufacturing','Transportation','Data','Sports'], hue_order=[\"Female only\", \"Male only\", \"Mixed\"])\n",
    "ax.axes.set_title(\"Average funding distribution by categories and genders\", fontsize=22)\n",
    "plt.setp(ax.get_xticklabels(), rotation=90, fontsize=10)\n",
    "plt.legend(fontsize=15, title=\"Genders\")\n",
    "# fig, axes = plt.subplots(nrows=3, ncols=2,figsize=(13,15))\n",
    "\n",
    "# rg=avgfunding_Bay.plot.bar(x='Category', y='Average Funding', rot=0, title = 'Bay', ax=axes[0,0])\n",
    "# plt.setp(rg.get_xticklabels(), rotation=90)\n",
    "# rg=avgfunding_APAC.plot.bar(x='Category', y='Average Funding', rot=0, title = 'APAC', ax=axes[0,1])\n",
    "# plt.setp(rg.get_xticklabels(), rotation=90)\n",
    "# rg=avgfunding_EU.plot.bar(x='Category', y='Average Funding', rot=0, title = 'EU', ax=axes[1,0])\n",
    "# plt.setp(rg.get_xticklabels(), rotation=90)\n",
    "# rg=avgfunding_LA.plot.bar(x='Category', y='Average Funding', rot=0, title = 'LA', ax=axes[1,1])\n",
    "# plt.setp(rg.get_xticklabels(), rotation=90)\n",
    "# rg=avgfunding_NY.plot.bar(x='Category', y='Average Funding', rot=0, title = 'NY', ax=axes[2,0])\n",
    "# plt.setp(rg.get_xticklabels(), rotation=90)\n",
    "# rg=avgfunding_BO.plot.bar(x='Category', y='Average Funding', rot=0, title = 'BO', ax=axes[2,1])\n",
    "# plt.setp(rg.get_xticklabels(), rotation=90)\n",
    "\n",
    "\n",
    "# fig.tight_layout()\n",
    "\n",
    "# totalfunding_Bay = funding.sort_values('Total Funding', ascending=False).sort_index()\n",
    "# avgfunding_Bay = funding.sort_values('Average Funding', ascending=False).sort_index()\n",
    "\n",
    "# count = 0\n",
    "# for i in categories:\n",
    "#     funding.loc[count] = ['APAC', i, data_APAC[data_APAC['Categories']==i]['Total Funding Amount Currency (in USD)'].sum(),\n",
    "#                           len(data_APAC[data_APAC['Categories']==i]), \n",
    "#                           data_APAC[data_APAC['Categories']==i]['Total Funding Amount Currency (in USD)'].sum()/\n",
    "#                           len(data_APAC[data_APAC['Categories']==i])]\n",
    "#     count = count + 1\n",
    "\n",
    "# totalfunding_APAC = funding.sort_values('Total Funding', ascending=False).sort_index()\n",
    "# avgfunding_APAC = funding.sort_values('Average Funding', ascending=False).sort_index()\n",
    "\n",
    "# count = 0\n",
    "# for i in categories:\n",
    "#     funding.loc[count] = ['EU', i, data_EU[data_EU['Categories']==i]['Total Funding Amount Currency (in USD)'].sum(),\n",
    "#                           len(data_EU[data_EU['Categories']==i]), \n",
    "#                           data_EU[data_EU['Categories']==i]['Total Funding Amount Currency (in USD)'].sum()/\n",
    "#                           len(data_EU[data_EU['Categories']==i])]\n",
    "#     count = count + 1\n",
    "\n",
    "# totalfunding_EU = funding.sort_values('Total Funding', ascending=False).sort_index()\n",
    "# avgfunding_EU = funding.sort_values('Average Funding', ascending=False).sort_index()\n",
    "\n",
    "# count = 0\n",
    "# for i in categories:\n",
    "#     funding.loc[count] = ['LA', i, data_LA[data_LA['Categories']==i]['Total Funding Amount Currency (in USD)'].sum(),\n",
    "#                           len(data_LA[data_LA['Categories']==i]), \n",
    "#                           data_LA[data_LA['Categories']==i]['Total Funding Amount Currency (in USD)'].sum()/\n",
    "#                           len(data_LA[data_LA['Categories']==i])]\n",
    "#     count = count + 1\n",
    "\n",
    "# totalfunding_LA = funding.sort_values('Total Funding', ascending=False).sort_index()\n",
    "# avgfunding_LA = funding.sort_values('Average Funding', ascending=False).sort_index()\n",
    "\n",
    "# count = 0\n",
    "# for i in categories:\n",
    "#     funding.loc[count] = ['NY', i, data_NY[data_NY['Categories']==i]['Total Funding Amount Currency (in USD)'].sum(),\n",
    "#                           len(data_NY[data_NY['Categories']==i]), \n",
    "#                           data_NY[data_NY['Categories']==i]['Total Funding Amount Currency (in USD)'].sum()/\n",
    "#                           len(data_NY[data_NY['Categories']==i])]\n",
    "#     count = count + 1\n",
    "\n",
    "# totalfunding_NY = funding.sort_values('Total Funding', ascending=False).sort_index()\n",
    "# avgfunding_NY = funding.sort_values('Average Funding', ascending=False).sort_index()\n",
    "\n",
    "# count = 0\n",
    "# for i in categories:\n",
    "#     funding.loc[count] = ['BO', i, data_BO[data_BO['Categories']==i]['Total Funding Amount Currency (in USD)'].sum(),\n",
    "#                           len(data_BO[data_BO['Categories']==i]), \n",
    "#                           data_BO[data_BO['Categories']==i]['Total Funding Amount Currency (in USD)'].sum()/\n",
    "#                           len(data_BO[data_BO['Categories']==i])]\n",
    "#     count = count + 1\n",
    "\n",
    "# totalfunding_BO = funding.sort_values('Total Funding', ascending=False).sort_index()\n",
    "# avgfunding_BO = funding.sort_values('Average Funding', ascending=False).sort_index()\n",
    "\n",
    "\n",
    "# fig, axes = plt.subplots(nrows=3, ncols=2,figsize=(13,15))\n",
    "\n",
    "# rg=totalfunding_Bay.plot.bar(x='Category', y='Total Funding', rot=0,title = 'Bay', ax=axes[0,0])\n",
    "# plt.setp(rg.get_xticklabels(), rotation=90)\n",
    "# rg=totalfunding_APAC.plot.bar(x='Category', y='Total Funding', rot=0,title = 'APAC', ax=axes[0,1])\n",
    "# plt.setp(rg.get_xticklabels(), rotation=90)\n",
    "# rg=totalfunding_EU.plot.bar(x='Category', y='Total Funding', rot=0,title = 'EU', ax=axes[1,0])\n",
    "# plt.setp(rg.get_xticklabels(), rotation=90)\n",
    "# rg=totalfunding_LA.plot.bar(x='Category', y='Total Funding', rot=0,title = 'LA', ax=axes[1,1])\n",
    "# plt.setp(rg.get_xticklabels(), rotation=90)\n",
    "# rg=totalfunding_NY.plot.bar(x='Category', y='Total Funding', rot=0,title = 'NY', ax=axes[2,0])\n",
    "# plt.setp(rg.get_xticklabels(), rotation=90)\n",
    "# rg=totalfunding_BO.plot.bar(x='Category', y='Total Funding', rot=0,title = 'BO', ax=axes[2,1])\n",
    "# plt.setp(rg.get_xticklabels(), rotation=90)\n",
    "\n",
    "\n",
    "# fig.tight_layout()"
   ]
  },
  {
   "cell_type": "code",
   "execution_count": null,
   "metadata": {},
   "outputs": [],
   "source": [
    "col_names =  [ 'Category' , 'Gender','Total Funding', 'Number of Companies','Average Funding']\n",
    "categories = ['Software','Finance','Health Care','Internet','Biotechnology','Commerce','Information Technology','Entertainment','Tourism',\n",
    "'Food','Real Estate','Energy','Advertising','Education','Gaming','Manufacturing','Transportation','Data','Sports']\n",
    "genders = ['Female only', 'Mixed']\n",
    "\n",
    "funding  = pd.DataFrame(columns = col_names)\n",
    "count = 0\n",
    "for i in categories:\n",
    "    for j in genders:\n",
    "            funding.loc[count] = [ i, j, new_df[(new_df['Category Groups']==i)&(new_df['Group Gender']==j)]['Total Funding Amount Currency (in USD)'].sum(),\n",
    "                          len(new_df[(new_df['Category Groups']==i)&(new_df['Group Gender']==j)]),0]\n",
    "            if (funding.at[count,'Number of Companies']!= 0):\n",
    "                funding.at[count,'Average Funding'] = funding.at[count,'Total Funding']/funding.at[count,'Number of Companies']\n",
    "            count = count + 1\n",
    "\n",
    "plt.figure(figsize=(17,8))\n",
    "ax = sns.barplot(x='Category', y='Number of Companies', hue='Gender', data=funding, ci = None, order=['Software','Finance','Health Care','Internet','Biotechnology','Commerce','Information Technology','Entertainment','Tourism',\n",
    "'Food','Real Estate','Energy','Advertising','Education','Gaming','Manufacturing','Transportation','Data','Sports'], hue_order=[\"Female only\", \"Mixed\"])\n",
    "ax.axes.set_title(\"Number of companies distribution by categories and genders\", fontsize=22)\n",
    "plt.setp(ax.get_xticklabels(), rotation=90, fontsize=10)\n",
    "plt.legend(fontsize=15, title=\"Genders\")\n",
    "\n",
    "plt.figure(figsize=(17,8))\n",
    "ax = sns.barplot(x='Category', y='Total Funding', hue='Gender', data=funding, ci = None, order=['Software','Finance','Health Care','Internet','Biotechnology','Commerce','Information Technology','Entertainment','Tourism',\n",
    "'Food','Real Estate','Energy','Advertising','Education','Gaming','Manufacturing','Transportation','Data','Sports'], hue_order=[\"Female only\", \"Mixed\"])\n",
    "ax.axes.set_title(\"Total funding distribution by categories and genders\", fontsize=22)\n",
    "plt.setp(ax.get_xticklabels(), rotation=90, fontsize=10)\n",
    "plt.legend(fontsize=15, title=\"Genders\")\n",
    "\n",
    "\n",
    "plt.figure(figsize=(17,8))\n",
    "ax = sns.barplot(x='Category', y='Average Funding', hue='Gender', data=funding, ci = None, order=['Software','Finance','Health Care','Internet','Biotechnology','Commerce','Information Technology','Entertainment','Tourism',\n",
    "'Food','Real Estate','Energy','Advertising','Education','Gaming','Manufacturing','Transportation','Data','Sports'], hue_order=[\"Female only\", \"Mixed\"])\n",
    "ax.axes.set_title(\"Average funding distribution by categories and genders\", fontsize=22)\n",
    "plt.setp(ax.get_xticklabels(), rotation=90, fontsize=10)\n",
    "plt.legend(fontsize=15, title=\"Genders\")\n",
    "# fig, axes = plt.subplots(nrows=3, ncols=2,figsize=(13,15))\n",
    "\n",
    "# rg=avgfunding_Bay.plot.bar(x='Category', y='Average Funding', rot=0, title = 'Bay', ax=axes[0,0])\n",
    "# plt.setp(rg.get_xticklabels(), rotation=90)\n",
    "# rg=avgfunding_APAC.plot.bar(x='Category', y='Average Funding', rot=0, title = 'APAC', ax=axes[0,1])\n",
    "# plt.setp(rg.get_xticklabels(), rotation=90)\n",
    "# rg=avgfunding_EU.plot.bar(x='Category', y='Average Funding', rot=0, title = 'EU', ax=axes[1,0])\n",
    "# plt.setp(rg.get_xticklabels(), rotation=90)\n",
    "# rg=avgfunding_LA.plot.bar(x='Category', y='Average Funding', rot=0, title = 'LA', ax=axes[1,1])\n",
    "# plt.setp(rg.get_xticklabels(), rotation=90)\n",
    "# rg=avgfunding_NY.plot.bar(x='Category', y='Average Funding', rot=0, title = 'NY', ax=axes[2,0])\n",
    "# plt.setp(rg.get_xticklabels(), rotation=90)\n",
    "# rg=avgfunding_BO.plot.bar(x='Category', y='Average Funding', rot=0, title = 'BO', ax=axes[2,1])\n",
    "# plt.setp(rg.get_xticklabels(), rotation=90)\n",
    "\n",
    "\n",
    "# fig.tight_layout()\n"
   ]
  },
  {
   "cell_type": "code",
   "execution_count": null,
   "metadata": {
    "scrolled": false
   },
   "outputs": [],
   "source": [
    "#total&average for all genders comparison\n",
    "col_names =  ['Genders', 'Total Funding', 'Average Funding']\n",
    "funding  = pd.DataFrame(columns = col_names)\n",
    "funding.loc[0] = ['Female only', new_df[new_df['Group Gender']=='Female only']['Total Funding Amount Currency (in USD)'].sum(),\n",
    "                  new_df[new_df['Group Gender']=='Female only']['Total Funding Amount Currency (in USD)'].sum()/len(new_df[new_df['Group Gender']=='Female only'])]\n",
    "funding.loc[1] = ['Male only', new_df[new_df['Group Gender']=='Male only']['Total Funding Amount Currency (in USD)'].sum(),\n",
    "                  new_df[new_df['Group Gender']=='Male only']['Total Funding Amount Currency (in USD)'].sum()/len(new_df[new_df['Group Gender']=='Male only'])]\n",
    "funding.loc[2] = ['Mixed', new_df[new_df['Group Gender']=='Mixed']['Total Funding Amount Currency (in USD)'].sum(),\n",
    "                  new_df[new_df['Group Gender']=='Mixed']['Total Funding Amount Currency (in USD)'].sum()/len(new_df[new_df['Group Gender']=='Mixed'])]\n",
    "\n",
    "funding.plot.bar(x='Genders', y='Total Funding', rot=0, title = 'Global Total Funding')\n",
    "funding.plot.bar(x='Genders', y='Average Funding', rot=0, title = 'Global Average Funding')"
   ]
  },
  {
   "cell_type": "code",
   "execution_count": null,
   "metadata": {},
   "outputs": [],
   "source": []
  },
  {
   "cell_type": "code",
   "execution_count": null,
   "metadata": {
    "scrolled": false
   },
   "outputs": [],
   "source": [
    "col_names =  ['Genders', 'Headquarters Regions', 'Total Funding', 'Average Funding']\n",
    "genders = ['Female only', 'Male only', 'Mixed']\n",
    "regions = [\"Bay\", \"EU\", \"APAC\", \"NY\", \"LA\", \"BS\"]\n",
    "funding  = pd.DataFrame(columns = col_names)\n",
    "count = 0\n",
    "for i in genders:\n",
    "    for j in regions:\n",
    "        funding.loc[count] = [i, j, new_df[(new_df['Group Gender']==i) & (new_df['Headquarters Regions']==j)]['Total Funding Amount Currency (in USD)'].sum(),\n",
    "                          new_df[(new_df['Group Gender']==i) & (new_df['Headquarters Regions']==j)]['Total Funding Amount Currency (in USD)'].sum()/\n",
    "                          len(new_df[(new_df['Group Gender']==i) & (new_df['Headquarters Regions']==j)])]\n",
    "        count = count + 1\n",
    "\n",
    "plt.figure(figsize=(17,8))\n",
    "ax = sns.barplot(x='Headquarters Regions', y='Total Funding', hue='Genders', data=funding, ci = None, order=[\"Bay\", \"EU\", \"APAC\", \"NY\", \"LA\", \"BS\"], hue_order=[\"Female only\", \"Male only\", \"Mixed\"])\n",
    "ax.axes.set_title(\"Breakdown of Total Funding by genders and regions\", fontsize=22)\n",
    "plt.setp(ax.get_xticklabels(), rotation=90, fontsize=10)\n",
    "plt.legend(fontsize=15, title=\"Genders\");\n",
    "\n",
    "# col_names =  ['Genders', 'Total Funding', 'Average Funding']\n",
    "# genders = ['Female only', 'Male only', 'Mixed']\n",
    "# funding  = pd.DataFrame(columns = col_names)\n",
    "# count = 0\n",
    "# for i in genders:\n",
    "#     funding.loc[count] = [i, data_Bay[data_Bay['Group Gender']==i]['Total Funding Amount Currency (in USD)'].sum(),\n",
    "#                           data_Bay[data_Bay['Group Gender']==i]['Total Funding Amount Currency (in USD)'].sum()/\n",
    "#                           len(data_Bay[data_Bay['Group Gender']==i])]\n",
    "#     count = count + 1\n",
    "\n",
    "# totalfunding_Bay = funding.sort_values('Total Funding', ascending=False).sort_index()\n",
    "# avgfunding_Bay = funding.sort_values('Average Funding', ascending=False).sort_index()\n",
    "\n",
    "# count = 0\n",
    "# for i in genders:\n",
    "#     funding.loc[count] = [i, data_APAC[data_APAC['Group Gender']==i]['Total Funding Amount Currency (in USD)'].sum(),\n",
    "#                           data_APAC[data_APAC['Group Gender']==i]['Total Funding Amount Currency (in USD)'].sum()/\n",
    "#                           len(data_APAC[data_APAC['Group Gender']==i])]\n",
    "#     count = count + 1\n",
    "    \n",
    "# totalfunding_APAC = funding.sort_values('Total Funding', ascending=False).sort_index()\n",
    "# avgfunding_APAC = funding.sort_values('Average Funding', ascending=False).sort_index()\n",
    "\n",
    "# count = 0\n",
    "\n",
    "# for i in genders:\n",
    "#     funding.loc[count] = [i, data_EU[data_EU['Group Gender']==i]['Total Funding Amount Currency (in USD)'].sum(),\n",
    "#                           data_EU[data_EU['Group Gender']==i]['Total Funding Amount Currency (in USD)'].sum()/\n",
    "#                           len(data_EU[data_EU['Group Gender']==i])]\n",
    "#     count = count + 1\n",
    "\n",
    "# totalfunding_EU = funding.sort_values('Total Funding', ascending=False).sort_index()\n",
    "# avgfunding_EU = funding.sort_values('Average Funding', ascending=False).sort_index()\n",
    "\n",
    "# count = 0\n",
    "# for i in genders:\n",
    "#     funding.loc[count] = [i, data_LA[data_LA['Group Gender']==i]['Total Funding Amount Currency (in USD)'].sum(),\n",
    "#                           data_LA[data_LA['Group Gender']==i]['Total Funding Amount Currency (in USD)'].sum()/\n",
    "#                           len(data_LA[data_LA['Group Gender']==i])]\n",
    "#     count = count + 1\n",
    "\n",
    "# totalfunding_LA = funding.sort_values('Total Funding', ascending=False).sort_index()\n",
    "# avgfunding_LA = funding.sort_values('Average Funding', ascending=False).sort_index()\n",
    "\n",
    "# count = 0\n",
    "# for i in genders:\n",
    "#     funding.loc[count] = [i, data_NY[data_NY['Group Gender']==i]['Total Funding Amount Currency (in USD)'].sum(),\n",
    "#                           data_NY[data_NY['Group Gender']==i]['Total Funding Amount Currency (in USD)'].sum()/\n",
    "#                           len(data_NY[data_NY['Group Gender']==i])]\n",
    "#     count = count + 1\n",
    "\n",
    "# totalfunding_NY = funding.sort_values('Total Funding', ascending=False).sort_index()\n",
    "# avgfunding_NY = funding.sort_values('Average Funding', ascending=False).sort_index()\n",
    "\n",
    "# count = 0\n",
    "# for i in genders:\n",
    "#     funding.loc[count] = [i, data_BO[data_BO['Group Gender']==i]['Total Funding Amount Currency (in USD)'].sum(),\n",
    "#                           data_BO[data_BO['Group Gender']==i]['Total Funding Amount Currency (in USD)'].sum()/\n",
    "#                           len(data_BO[data_BO['Group Gender']==i])]\n",
    "#     count = count + 1\n",
    "\n",
    "# totalfunding_BO = funding.sort_values('Total Funding', ascending=False).sort_index()\n",
    "# avgfunding_BO = funding.sort_values('Average Funding', ascending=False).sort_index()\n",
    "\n",
    "\n",
    "# fig, axes = plt.subplots(nrows=3, ncols=2,figsize=(13,15))\n",
    "\n",
    "# rg=totalfunding_Bay.plot.bar(x='Genders', y='Total Funding', rot=0,title = 'Bay', ax=axes[0,0])\n",
    "# plt.setp(rg.get_xticklabels(), rotation=90)\n",
    "# rg=totalfunding_APAC.plot.bar(x='Genders', y='Total Funding', rot=0,title = 'APAC', ax=axes[0,1])\n",
    "# plt.setp(rg.get_xticklabels(), rotation=90)\n",
    "# rg=totalfunding_EU.plot.bar(x='Genders', y='Total Funding', rot=0,title = 'EU', ax=axes[1,0])\n",
    "# plt.setp(rg.get_xticklabels(), rotation=90)\n",
    "# rg=totalfunding_LA.plot.bar(x='Genders', y='Total Funding', rot=0,title = 'LA', ax=axes[1,1])\n",
    "# plt.setp(rg.get_xticklabels(), rotation=90)\n",
    "# rg=totalfunding_NY.plot.bar(x='Genders', y='Total Funding', rot=0,title = 'NY', ax=axes[2,0])\n",
    "# plt.setp(rg.get_xticklabels(), rotation=90)\n",
    "# rg=totalfunding_BO.plot.bar(x='Genders', y='Total Funding', rot=0,title = 'BO', ax=axes[2,1])\n",
    "# plt.setp(rg.get_xticklabels(), rotation=90)\n",
    "\n",
    "\n",
    "# fig.tight_layout()"
   ]
  },
  {
   "cell_type": "code",
   "execution_count": null,
   "metadata": {
    "scrolled": false
   },
   "outputs": [],
   "source": [
    "plt.figure(figsize=(17,8))\n",
    "ax = sns.barplot(x='Headquarters Regions', y='Average Funding', hue='Genders', data=funding, ci = None, order=[\"Bay\", \"EU\", \"APAC\", \"NY\", \"LA\", \"BS\"], hue_order=[\"Female only\", \"Male only\", \"Mixed\"])\n",
    "ax.axes.set_title(\"Breakdown of Average Funding by genders and regions\", fontsize=22)\n",
    "plt.setp(ax.get_xticklabels(), rotation=90, fontsize=10)\n",
    "plt.legend(fontsize=15, title=\"Genders\");\n",
    "\n",
    "\n",
    "# fig, axes = plt.subplots(nrows=3, ncols=2,figsize=(13,15))\n",
    "\n",
    "# rg=avgfunding_Bay.plot.bar(x='Genders', y='Average Funding', rot=0, title = 'Bay', ax=axes[0,0])\n",
    "# plt.setp(rg.get_xticklabels(), rotation=90)\n",
    "# rg=avgfunding_APAC.plot.bar(x='Genders', y='Average Funding', rot=0, title = 'APAC', ax=axes[0,1])\n",
    "# plt.setp(rg.get_xticklabels(), rotation=90)\n",
    "# rg=avgfunding_EU.plot.bar(x='Genders', y='Average Funding', rot=0, title = 'EU', ax=axes[1,0])\n",
    "# plt.setp(rg.get_xticklabels(), rotation=90)\n",
    "# rg=avgfunding_LA.plot.bar(x='Genders', y='Average Funding', rot=0, title = 'LA', ax=axes[1,1])\n",
    "# plt.setp(rg.get_xticklabels(), rotation=90)\n",
    "# rg=avgfunding_NY.plot.bar(x='Genders', y='Average Funding', rot=0, title = 'NY', ax=axes[2,0])\n",
    "# plt.setp(rg.get_xticklabels(), rotation=90)\n",
    "# rg=avgfunding_BO.plot.bar(x='Genders', y='Average Funding', rot=0, title = 'BO', ax=axes[2,1])\n",
    "# plt.setp(rg.get_xticklabels(), rotation=90)\n",
    "\n",
    "\n",
    "# fig.tight_layout()"
   ]
  },
  {
   "cell_type": "code",
   "execution_count": null,
   "metadata": {},
   "outputs": [],
   "source": [
    "new_df_2 = new_df.dropna()\n",
    "new_df_2.loc[new_df['Number of Employees'].str.contains('1001-5000|5001-10000|10001+', case=False,na=False), 'Number of Employees'] = '1001+'\n",
    "categories_counts= new_df_2['Number of Employees'].value_counts()\n",
    "plt.figure(figsize=(5,3))\n",
    "sns.barplot(y=categories_counts.index, x=categories_counts.values)"
   ]
  },
  {
   "cell_type": "code",
   "execution_count": null,
   "metadata": {},
   "outputs": [],
   "source": [
    "plt.figure(figsize=(17,8))\n",
    "ax = sns.countplot(x='Headquarters Regions', hue='Number of Employees', data=new_df, order=[\"Bay\", \"EU\", \"APAC\", \"NY\", \"LA\", \"BS\"], hue_order=[\"1-10\", \"11-50\", \"51-100\", \"101-250\",\"251-500\",\"501-1000\", \"1001+\"])\n",
    "ax.axes.set_title(\"Number of employees distribution by region\", fontsize=22)\n",
    "plt.setp(ax.get_xticklabels(), rotation=0, fontsize=10)\n",
    "plt.legend(fontsize=15, title=\"Regions\");\n",
    "\n",
    "\n",
    "\n",
    "# fig, axes = plt.subplots(nrows=2, ncols=3,figsize=(20,13))\n",
    "\n",
    "# categories_counts= data_EU['Number of Employees'].value_counts().nlargest(5)\n",
    "# sns.barplot(y=categories_counts.index, x=categories_counts.values, ax=axes[0,0])\n",
    "# axes[0,0].set_title('EU')\n",
    "\n",
    "# categories_counts= data_Bay['Number of Employees'].value_counts().nlargest(5)\n",
    "# sns.barplot(y=categories_counts.index, x=categories_counts.values, ax=axes[0,1])\n",
    "# axes[0,1].set_title('Bay')\n",
    "\n",
    "# categories_counts= data_APAC['Number of Employees'].value_counts().nlargest(5)\n",
    "# sns.barplot(y=categories_counts.index, x=categories_counts.values, ax=axes[0,2])\n",
    "# axes[0,2].set_title('APAC')\n",
    "\n",
    "# categories_counts= data_LA['Number of Employees'].value_counts().nlargest(5)\n",
    "# sns.barplot(y=categories_counts.index, x=categories_counts.values, ax=axes[1,0])\n",
    "# axes[1,0].set_title('LA')\n",
    "\n",
    "# categories_counts= data_NY['Number of Employees'].value_counts().nlargest(5)\n",
    "# sns.barplot(y=categories_counts.index, x=categories_counts.values, ax=axes[1,1])\n",
    "# axes[1,1].set_title('NY')\n",
    "\n",
    "# categories_counts= data_BO['Number of Employees'].value_counts().nlargest(5)\n",
    "# sns.barplot(y=categories_counts.index, x=categories_counts.values, ax=axes[1,2])\n",
    "# axes[1,2].set_title('BS')"
   ]
  },
  {
   "cell_type": "code",
   "execution_count": null,
   "metadata": {},
   "outputs": [],
   "source": []
  }
 ],
 "metadata": {
  "kernelspec": {
   "display_name": "Python 3",
   "language": "python",
   "name": "python3"
  },
  "language_info": {
   "codemirror_mode": {
    "name": "ipython",
    "version": 3
   },
   "file_extension": ".py",
   "mimetype": "text/x-python",
   "name": "python",
   "nbconvert_exporter": "python",
   "pygments_lexer": "ipython3",
   "version": "3.6.9"
  }
 },
 "nbformat": 4,
 "nbformat_minor": 2
}
