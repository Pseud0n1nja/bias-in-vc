{
 "cells": [
  {
   "cell_type": "code",
   "execution_count": 1,
   "metadata": {
    "scrolled": true
   },
   "outputs": [],
   "source": [
    "# import different libraries\n",
    "import pandas as pd\n",
    "import matplotlib.pyplot as plt\n",
    "import matplotlib as mpl\n",
    "import numpy as np\n",
    "import seaborn as sns\n",
    "%matplotlib inline"
   ]
  },
  {
   "cell_type": "code",
   "execution_count": 2,
   "metadata": {},
   "outputs": [
    {
     "name": "stdout",
     "output_type": "stream",
     "text": [
      "<class 'pandas.core.frame.DataFrame'>\n",
      "RangeIndex: 30000 entries, 0 to 29999\n",
      "Data columns (total 60 columns):\n",
      "Organization Name                         30000 non-null object\n",
      "Organization Name URL                     30000 non-null object\n",
      "Categories                                29953 non-null object\n",
      "Headquarters Location                     29917 non-null object\n",
      "Description                               30000 non-null object\n",
      "CB Rank (Company)                         30000 non-null object\n",
      "Headquarters Regions                      27853 non-null object\n",
      "Estimated Revenue Range                   12077 non-null object\n",
      "Operating Status                          30000 non-null object\n",
      "Founded Date                              28997 non-null object\n",
      "Founded Date Precision                    28997 non-null object\n",
      "Exit Date                                 6059 non-null object\n",
      "Exit Date Precision                       6059 non-null object\n",
      "Closed Date                               311 non-null object\n",
      "Closed Date Precision                     423 non-null object\n",
      "Company Type                              24456 non-null object\n",
      "Investor Type                             266 non-null object\n",
      "Investment Stage                          201 non-null object\n",
      "Category Groups                           29881 non-null object\n",
      "Number of Founders                        26693 non-null float64\n",
      "Founders                                  26693 non-null object\n",
      "Number of Employees                       27106 non-null object\n",
      "Number of Funding Rounds                  29396 non-null float64\n",
      "Funding Status                            22787 non-null object\n",
      "Last Funding Date                         29396 non-null object\n",
      "Last Funding Amount                       26585 non-null float64\n",
      "Last Funding Amount Currency              26586 non-null object\n",
      "Last Funding Amount Currency (in USD)     26585 non-null float64\n",
      "Last Funding Type                         29396 non-null object\n",
      "Total Funding Amount                      29340 non-null float64\n",
      "Total Funding Amount Currency             29340 non-null object\n",
      "Total Funding Amount Currency (in USD)    29340 non-null float64\n",
      "Top 5 Investors                           26439 non-null object\n",
      "Number of Lead Investors                  21243 non-null float64\n",
      "Number of Investors                       26440 non-null float64\n",
      "Number of Acquisitions                    4782 non-null float64\n",
      "Acquisition Status                        7752 non-null object\n",
      "IPO Status                                30000 non-null object\n",
      "IPO Date                                  2421 non-null object\n",
      "Delisted Date                             262 non-null object\n",
      "Delisted Date Precision                   333 non-null object\n",
      "Money Raised at IPO                       1103 non-null float64\n",
      "Money Raised at IPO Currency              1103 non-null object\n",
      "Money Raised at IPO Currency (in USD)     1103 non-null float64\n",
      "Valuation at IPO                          731 non-null float64\n",
      "Valuation at IPO Currency                 731 non-null object\n",
      "Valuation at IPO Currency (in USD)        731 non-null float64\n",
      "Number of Events                          10235 non-null float64\n",
      "SimilarWeb - Monthly Visits               27618 non-null object\n",
      "BuiltWith - Active Tech Count             29564 non-null float64\n",
      "Apptopia - Number of Apps                 7687 non-null object\n",
      "Apptopia - Downloads Last 30 Days         4867 non-null object\n",
      "Siftery - Total Products Active           22797 non-null float64\n",
      "IPqwery - Patents Granted                 9146 non-null object\n",
      "IPqwery - Trademarks Registered           9146 non-null object\n",
      "IPqwery - Most Popular Patent Class       4932 non-null object\n",
      "IPqwery - Most Popular Trademark Class    8063 non-null object\n",
      "Aberdeen - IT Spend                       6031 non-null float64\n",
      "Aberdeen - IT Spend Currency              6314 non-null object\n",
      "Aberdeen - IT Spend Currency (in USD)     6031 non-null float64\n",
      "dtypes: float64(18), object(42)\n",
      "memory usage: 13.7+ MB\n"
     ]
    }
   ],
   "source": [
    "cps_2019 = pd.read_csv('cps_2019.csv')\n",
    "cps_2019.info()"
   ]
  },
  {
   "cell_type": "code",
   "execution_count": 3,
   "metadata": {},
   "outputs": [
    {
     "name": "stdout",
     "output_type": "stream",
     "text": [
      "<class 'pandas.core.frame.DataFrame'>\n",
      "RangeIndex: 66721 entries, 0 to 66720\n",
      "Data columns (total 17 columns):\n",
      "Organization Name                         66720 non-null object\n",
      "CB Rank (Company)                         66721 non-null object\n",
      "Headquarters Regions                      66721 non-null object\n",
      "Category Groups                           66721 non-null object\n",
      "Number of Founders                        66721 non-null object\n",
      "Founders                                  66721 non-null object\n",
      "Number of Employees                       58894 non-null object\n",
      "Number of Funding Rounds                  66721 non-null object\n",
      "Last Funding Type                         66721 non-null object\n",
      "Total Funding Amount                      66719 non-null object\n",
      "Total Funding Amount Currency             66721 non-null object\n",
      "Total Funding Amount Currency (in USD)    66717 non-null object\n",
      "Organization                              30003 non-null object\n",
      "Names                                     30003 non-null object\n",
      "Group Gender                              30003 non-null object\n",
      "Genders                                   30003 non-null object\n",
      "Job Titles                                30003 non-null object\n",
      "dtypes: object(17)\n",
      "memory usage: 8.7+ MB\n"
     ]
    },
    {
     "name": "stderr",
     "output_type": "stream",
     "text": [
      "/home/bossou/.local/lib/python3.6/site-packages/IPython/core/interactiveshell.py:3020: DtypeWarning: Columns (6,9,11,13) have mixed types. Specify dtype option on import or set low_memory=False.\n",
      "  interactivity=interactivity, compiler=compiler, result=result)\n"
     ]
    }
   ],
   "source": [
    "new_df = pd.read_csv('final_dataset3.csv')\n",
    "new_df = new_df.drop(['Unnamed: 0', 'Organization Name URL', ], axis=1)\n",
    "new_df.info()"
   ]
  },
  {
   "cell_type": "code",
   "execution_count": 4,
   "metadata": {},
   "outputs": [
    {
     "data": {
      "text/plain": [
       "(66152, 17)"
      ]
     },
     "execution_count": 4,
     "metadata": {},
     "output_type": "execute_result"
    }
   ],
   "source": [
    "new_df = new_df.drop_duplicates(subset=['Organization Name'])\n",
    "new_df.shape"
   ]
  },
  {
   "cell_type": "code",
   "execution_count": 5,
   "metadata": {},
   "outputs": [
    {
     "data": {
      "text/plain": [
       "(29501, 17)"
      ]
     },
     "execution_count": 5,
     "metadata": {},
     "output_type": "execute_result"
    }
   ],
   "source": [
    "new_df = new_df[new_df['Group Gender'].notnull()]\n",
    "new_df.shape"
   ]
  },
  {
   "cell_type": "code",
   "execution_count": 6,
   "metadata": {},
   "outputs": [
    {
     "data": {
      "text/html": [
       "<div>\n",
       "<style scoped>\n",
       "    .dataframe tbody tr th:only-of-type {\n",
       "        vertical-align: middle;\n",
       "    }\n",
       "\n",
       "    .dataframe tbody tr th {\n",
       "        vertical-align: top;\n",
       "    }\n",
       "\n",
       "    .dataframe thead th {\n",
       "        text-align: right;\n",
       "    }\n",
       "</style>\n",
       "<table border=\"1\" class=\"dataframe\">\n",
       "  <thead>\n",
       "    <tr style=\"text-align: right;\">\n",
       "      <th></th>\n",
       "      <th>Organization Name</th>\n",
       "      <th>CB Rank (Company)</th>\n",
       "      <th>Headquarters Regions</th>\n",
       "      <th>Category Groups</th>\n",
       "      <th>Number of Founders</th>\n",
       "      <th>Founders</th>\n",
       "      <th>Number of Employees</th>\n",
       "      <th>Number of Funding Rounds</th>\n",
       "      <th>Last Funding Type</th>\n",
       "      <th>Total Funding Amount</th>\n",
       "      <th>Total Funding Amount Currency</th>\n",
       "      <th>Total Funding Amount Currency (in USD)</th>\n",
       "      <th>Organization</th>\n",
       "      <th>Names</th>\n",
       "      <th>Group Gender</th>\n",
       "      <th>Genders</th>\n",
       "      <th>Job Titles</th>\n",
       "    </tr>\n",
       "  </thead>\n",
       "  <tbody>\n",
       "    <tr>\n",
       "      <th>1</th>\n",
       "      <td>Baetes</td>\n",
       "      <td>80,003</td>\n",
       "      <td>European Union (EU), Nordic Countries, Scandin...</td>\n",
       "      <td>Clothing and Apparel, Commerce and Shopping, D...</td>\n",
       "      <td>3</td>\n",
       "      <td>Erik Sjoberg, Filip Waak, Fredrik Heiding</td>\n",
       "      <td>NaN</td>\n",
       "      <td>1</td>\n",
       "      <td>Convertible Note</td>\n",
       "      <td>32000</td>\n",
       "      <td>EUR</td>\n",
       "      <td>39572</td>\n",
       "      <td>Baetes</td>\n",
       "      <td>['Erik Sjoberg', 'Erik Sjoberg']</td>\n",
       "      <td>Male only</td>\n",
       "      <td>['Male', 'Male']</td>\n",
       "      <td>['Founder &amp; CEO', 'Founder &amp; CEO']</td>\n",
       "    </tr>\n",
       "    <tr>\n",
       "      <th>3</th>\n",
       "      <td>Rendy.io</td>\n",
       "      <td>80,009</td>\n",
       "      <td>Latin America</td>\n",
       "      <td>Commerce and Shopping, Hardware, Sales and Mar...</td>\n",
       "      <td>2</td>\n",
       "      <td>Gerardo Mora, Israel Medina</td>\n",
       "      <td>1-10</td>\n",
       "      <td>2</td>\n",
       "      <td>Seed</td>\n",
       "      <td>100000</td>\n",
       "      <td>USD</td>\n",
       "      <td>100000</td>\n",
       "      <td>Rendy.io</td>\n",
       "      <td>['Israel Medina', 'Israel Medina']</td>\n",
       "      <td>Male only</td>\n",
       "      <td>['Male', 'Male']</td>\n",
       "      <td>['Founder &amp; CEO', 'Founder &amp; CEO']</td>\n",
       "    </tr>\n",
       "    <tr>\n",
       "      <th>9</th>\n",
       "      <td>Leap</td>\n",
       "      <td>80,020</td>\n",
       "      <td>European Union (EU)</td>\n",
       "      <td>Internet Services, Sports</td>\n",
       "      <td>5</td>\n",
       "      <td>Christo Peev, Felix Quinton, Georgi Karadzhov,...</td>\n",
       "      <td>11-50</td>\n",
       "      <td>3</td>\n",
       "      <td>Seed</td>\n",
       "      <td>60000</td>\n",
       "      <td>EUR</td>\n",
       "      <td>79761</td>\n",
       "      <td>Leap</td>\n",
       "      <td>['Amish Tolia', 'Remco van den Elzen', 'Christ...</td>\n",
       "      <td>Male only</td>\n",
       "      <td>['Male', 'Male', 'Male', 'Male', 'Male', 'Male']</td>\n",
       "      <td>['Founder &amp; CEO', 'Founder &amp; COO', 'Other Foun...</td>\n",
       "    </tr>\n",
       "    <tr>\n",
       "      <th>13</th>\n",
       "      <td>Wekho</td>\n",
       "      <td>80,035</td>\n",
       "      <td>Greater Miami Area, East Coast, Southern US</td>\n",
       "      <td>Apps, Internet Services, Media and Entertainme...</td>\n",
       "      <td>1</td>\n",
       "      <td>Fedor Saldivia</td>\n",
       "      <td>1-10</td>\n",
       "      <td>3</td>\n",
       "      <td>Seed</td>\n",
       "      <td>350000</td>\n",
       "      <td>USD</td>\n",
       "      <td>350000</td>\n",
       "      <td>Wekho</td>\n",
       "      <td>['Fedor Saldivia', 'Fedor Saldivia']</td>\n",
       "      <td>Male only</td>\n",
       "      <td>['Male', 'Male']</td>\n",
       "      <td>['Founder &amp; CEO', 'Founder &amp; CEO']</td>\n",
       "    </tr>\n",
       "    <tr>\n",
       "      <th>16</th>\n",
       "      <td>Intelline</td>\n",
       "      <td>80,038</td>\n",
       "      <td>Great Lakes</td>\n",
       "      <td>Energy, Manufacturing, Science and Engineering...</td>\n",
       "      <td>2</td>\n",
       "      <td>Chris Mathew, Kyle Faller</td>\n",
       "      <td>1-10</td>\n",
       "      <td>2</td>\n",
       "      <td>Grant</td>\n",
       "      <td>15000</td>\n",
       "      <td>CAD</td>\n",
       "      <td>11391</td>\n",
       "      <td>Intelline</td>\n",
       "      <td>Kyle Faller</td>\n",
       "      <td>Male only</td>\n",
       "      <td>Male</td>\n",
       "      <td>Founder &amp; CEO</td>\n",
       "    </tr>\n",
       "  </tbody>\n",
       "</table>\n",
       "</div>"
      ],
      "text/plain": [
       "   Organization Name CB Rank (Company)  \\\n",
       "1             Baetes            80,003   \n",
       "3           Rendy.io            80,009   \n",
       "9               Leap            80,020   \n",
       "13             Wekho            80,035   \n",
       "16         Intelline            80,038   \n",
       "\n",
       "                                 Headquarters Regions  \\\n",
       "1   European Union (EU), Nordic Countries, Scandin...   \n",
       "3                                       Latin America   \n",
       "9                                 European Union (EU)   \n",
       "13        Greater Miami Area, East Coast, Southern US   \n",
       "16                                        Great Lakes   \n",
       "\n",
       "                                      Category Groups Number of Founders  \\\n",
       "1   Clothing and Apparel, Commerce and Shopping, D...                  3   \n",
       "3   Commerce and Shopping, Hardware, Sales and Mar...                  2   \n",
       "9                           Internet Services, Sports                  5   \n",
       "13  Apps, Internet Services, Media and Entertainme...                  1   \n",
       "16  Energy, Manufacturing, Science and Engineering...                  2   \n",
       "\n",
       "                                             Founders Number of Employees  \\\n",
       "1           Erik Sjoberg, Filip Waak, Fredrik Heiding                 NaN   \n",
       "3                         Gerardo Mora, Israel Medina                1-10   \n",
       "9   Christo Peev, Felix Quinton, Georgi Karadzhov,...               11-50   \n",
       "13                                     Fedor Saldivia                1-10   \n",
       "16                          Chris Mathew, Kyle Faller                1-10   \n",
       "\n",
       "   Number of Funding Rounds Last Funding Type Total Funding Amount  \\\n",
       "1                         1  Convertible Note                32000   \n",
       "3                         2              Seed               100000   \n",
       "9                         3              Seed                60000   \n",
       "13                        3              Seed               350000   \n",
       "16                        2             Grant                15000   \n",
       "\n",
       "   Total Funding Amount Currency Total Funding Amount Currency (in USD)  \\\n",
       "1                            EUR                                  39572   \n",
       "3                            USD                                 100000   \n",
       "9                            EUR                                  79761   \n",
       "13                           USD                                 350000   \n",
       "16                           CAD                                  11391   \n",
       "\n",
       "   Organization                                              Names  \\\n",
       "1        Baetes                   ['Erik Sjoberg', 'Erik Sjoberg']   \n",
       "3      Rendy.io                 ['Israel Medina', 'Israel Medina']   \n",
       "9          Leap  ['Amish Tolia', 'Remco van den Elzen', 'Christ...   \n",
       "13        Wekho               ['Fedor Saldivia', 'Fedor Saldivia']   \n",
       "16    Intelline                                        Kyle Faller   \n",
       "\n",
       "   Group Gender                                           Genders  \\\n",
       "1     Male only                                  ['Male', 'Male']   \n",
       "3     Male only                                  ['Male', 'Male']   \n",
       "9     Male only  ['Male', 'Male', 'Male', 'Male', 'Male', 'Male']   \n",
       "13    Male only                                  ['Male', 'Male']   \n",
       "16    Male only                                              Male   \n",
       "\n",
       "                                           Job Titles  \n",
       "1                  ['Founder & CEO', 'Founder & CEO']  \n",
       "3                  ['Founder & CEO', 'Founder & CEO']  \n",
       "9   ['Founder & CEO', 'Founder & COO', 'Other Foun...  \n",
       "13                 ['Founder & CEO', 'Founder & CEO']  \n",
       "16                                      Founder & CEO  "
      ]
     },
     "execution_count": 6,
     "metadata": {},
     "output_type": "execute_result"
    }
   ],
   "source": [
    "new_df.head()"
   ]
  },
  {
   "cell_type": "code",
   "execution_count": 7,
   "metadata": {},
   "outputs": [],
   "source": [
    "attribute = 'Number of Funding Rounds'\n",
    "new_df[attribute] = new_df[attribute].astype(float)"
   ]
  },
  {
   "cell_type": "code",
   "execution_count": 8,
   "metadata": {},
   "outputs": [],
   "source": [
    "attribute = 'Number of Founders'\n",
    "new_df[attribute] = new_df[attribute].astype(float)"
   ]
  },
  {
   "cell_type": "code",
   "execution_count": 9,
   "metadata": {},
   "outputs": [],
   "source": [
    "attribute = 'Total Funding Amount Currency (in USD)'\n",
    "# new_df = new_df[new_df[attribute].notna()]\n",
    "# new_df.drop(new_df[new_df[attribute] == attribute].index, axis=0, inplace=True)\n",
    "new_df[attribute] = new_df[attribute].astype(float)"
   ]
  },
  {
   "cell_type": "code",
   "execution_count": 10,
   "metadata": {},
   "outputs": [],
   "source": [
    "attribute = 'Total Funding Amount'\n",
    "# new_df = new_df[new_df[attribute].notna()]\n",
    "# new_df.drop(new_df[new_df[attribute] == attribute].index, axis=0, inplace=True)\n",
    "new_df[attribute] = new_df[attribute].astype(float)"
   ]
  },
  {
   "cell_type": "code",
   "execution_count": 11,
   "metadata": {},
   "outputs": [
    {
     "name": "stdout",
     "output_type": "stream",
     "text": [
      "<class 'pandas.core.frame.DataFrame'>\n",
      "Int64Index: 29501 entries, 1 to 66720\n",
      "Data columns (total 17 columns):\n",
      "Organization Name                         29501 non-null object\n",
      "CB Rank (Company)                         29501 non-null object\n",
      "Headquarters Regions                      29501 non-null object\n",
      "Category Groups                           29501 non-null object\n",
      "Number of Founders                        29501 non-null float64\n",
      "Founders                                  29501 non-null object\n",
      "Number of Employees                       27145 non-null object\n",
      "Number of Funding Rounds                  29501 non-null float64\n",
      "Last Funding Type                         29501 non-null object\n",
      "Total Funding Amount                      29501 non-null float64\n",
      "Total Funding Amount Currency             29501 non-null object\n",
      "Total Funding Amount Currency (in USD)    29501 non-null float64\n",
      "Organization                              29501 non-null object\n",
      "Names                                     29501 non-null object\n",
      "Group Gender                              29501 non-null object\n",
      "Genders                                   29501 non-null object\n",
      "Job Titles                                29501 non-null object\n",
      "dtypes: float64(4), object(13)\n",
      "memory usage: 4.1+ MB\n"
     ]
    }
   ],
   "source": [
    "new_df.info()"
   ]
  },
  {
   "cell_type": "code",
   "execution_count": null,
   "metadata": {
    "scrolled": true
   },
   "outputs": [],
   "source": []
  },
  {
   "cell_type": "code",
   "execution_count": 12,
   "metadata": {},
   "outputs": [
    {
     "data": {
      "text/html": [
       "<div>\n",
       "<style scoped>\n",
       "    .dataframe tbody tr th:only-of-type {\n",
       "        vertical-align: middle;\n",
       "    }\n",
       "\n",
       "    .dataframe tbody tr th {\n",
       "        vertical-align: top;\n",
       "    }\n",
       "\n",
       "    .dataframe thead th {\n",
       "        text-align: right;\n",
       "    }\n",
       "</style>\n",
       "<table border=\"1\" class=\"dataframe\">\n",
       "  <thead>\n",
       "    <tr style=\"text-align: right;\">\n",
       "      <th></th>\n",
       "      <th>Organization Name</th>\n",
       "      <th>CB Rank (Company)</th>\n",
       "      <th>Headquarters Regions</th>\n",
       "      <th>Category Groups</th>\n",
       "      <th>Number of Founders</th>\n",
       "      <th>Founders</th>\n",
       "      <th>Number of Employees</th>\n",
       "      <th>Number of Funding Rounds</th>\n",
       "      <th>Last Funding Type</th>\n",
       "      <th>Total Funding Amount</th>\n",
       "      <th>Total Funding Amount Currency</th>\n",
       "      <th>Total Funding Amount Currency (in USD)</th>\n",
       "      <th>Organization</th>\n",
       "      <th>Names</th>\n",
       "      <th>Group Gender</th>\n",
       "      <th>Genders</th>\n",
       "      <th>Job Titles</th>\n",
       "    </tr>\n",
       "  </thead>\n",
       "  <tbody>\n",
       "    <tr>\n",
       "      <th>1</th>\n",
       "      <td>Baetes</td>\n",
       "      <td>80,003</td>\n",
       "      <td>European Union (EU), Nordic Countries, Scandin...</td>\n",
       "      <td>Clothing and Apparel, Commerce and Shopping, D...</td>\n",
       "      <td>3.0</td>\n",
       "      <td>Erik Sjoberg, Filip Waak, Fredrik Heiding</td>\n",
       "      <td>NaN</td>\n",
       "      <td>1.0</td>\n",
       "      <td>Convertible Note</td>\n",
       "      <td>32000.0</td>\n",
       "      <td>EUR</td>\n",
       "      <td>39572.0</td>\n",
       "      <td>Baetes</td>\n",
       "      <td>['Erik Sjoberg', 'Erik Sjoberg']</td>\n",
       "      <td>Male only</td>\n",
       "      <td>['Male', 'Male']</td>\n",
       "      <td>['Founder &amp; CEO', 'Founder &amp; CEO']</td>\n",
       "    </tr>\n",
       "    <tr>\n",
       "      <th>3</th>\n",
       "      <td>Rendy.io</td>\n",
       "      <td>80,009</td>\n",
       "      <td>Latin America</td>\n",
       "      <td>Commerce and Shopping, Hardware, Sales and Mar...</td>\n",
       "      <td>2.0</td>\n",
       "      <td>Gerardo Mora, Israel Medina</td>\n",
       "      <td>1-10</td>\n",
       "      <td>2.0</td>\n",
       "      <td>Seed</td>\n",
       "      <td>100000.0</td>\n",
       "      <td>USD</td>\n",
       "      <td>100000.0</td>\n",
       "      <td>Rendy.io</td>\n",
       "      <td>['Israel Medina', 'Israel Medina']</td>\n",
       "      <td>Male only</td>\n",
       "      <td>['Male', 'Male']</td>\n",
       "      <td>['Founder &amp; CEO', 'Founder &amp; CEO']</td>\n",
       "    </tr>\n",
       "    <tr>\n",
       "      <th>9</th>\n",
       "      <td>Leap</td>\n",
       "      <td>80,020</td>\n",
       "      <td>European Union (EU)</td>\n",
       "      <td>Internet Services, Sports</td>\n",
       "      <td>5.0</td>\n",
       "      <td>Christo Peev, Felix Quinton, Georgi Karadzhov,...</td>\n",
       "      <td>11-50</td>\n",
       "      <td>3.0</td>\n",
       "      <td>Seed</td>\n",
       "      <td>60000.0</td>\n",
       "      <td>EUR</td>\n",
       "      <td>79761.0</td>\n",
       "      <td>Leap</td>\n",
       "      <td>['Amish Tolia', 'Remco van den Elzen', 'Christ...</td>\n",
       "      <td>Male only</td>\n",
       "      <td>['Male', 'Male', 'Male', 'Male', 'Male', 'Male']</td>\n",
       "      <td>['Founder &amp; CEO', 'Founder &amp; COO', 'Other Foun...</td>\n",
       "    </tr>\n",
       "    <tr>\n",
       "      <th>13</th>\n",
       "      <td>Wekho</td>\n",
       "      <td>80,035</td>\n",
       "      <td>Greater Miami Area, East Coast, Southern US</td>\n",
       "      <td>Apps, Internet Services, Media and Entertainme...</td>\n",
       "      <td>1.0</td>\n",
       "      <td>Fedor Saldivia</td>\n",
       "      <td>1-10</td>\n",
       "      <td>3.0</td>\n",
       "      <td>Seed</td>\n",
       "      <td>350000.0</td>\n",
       "      <td>USD</td>\n",
       "      <td>350000.0</td>\n",
       "      <td>Wekho</td>\n",
       "      <td>['Fedor Saldivia', 'Fedor Saldivia']</td>\n",
       "      <td>Male only</td>\n",
       "      <td>['Male', 'Male']</td>\n",
       "      <td>['Founder &amp; CEO', 'Founder &amp; CEO']</td>\n",
       "    </tr>\n",
       "    <tr>\n",
       "      <th>16</th>\n",
       "      <td>Intelline</td>\n",
       "      <td>80,038</td>\n",
       "      <td>Great Lakes</td>\n",
       "      <td>Energy, Manufacturing, Science and Engineering...</td>\n",
       "      <td>2.0</td>\n",
       "      <td>Chris Mathew, Kyle Faller</td>\n",
       "      <td>1-10</td>\n",
       "      <td>2.0</td>\n",
       "      <td>Grant</td>\n",
       "      <td>15000.0</td>\n",
       "      <td>CAD</td>\n",
       "      <td>11391.0</td>\n",
       "      <td>Intelline</td>\n",
       "      <td>Kyle Faller</td>\n",
       "      <td>Male only</td>\n",
       "      <td>Male</td>\n",
       "      <td>Founder &amp; CEO</td>\n",
       "    </tr>\n",
       "  </tbody>\n",
       "</table>\n",
       "</div>"
      ],
      "text/plain": [
       "   Organization Name CB Rank (Company)  \\\n",
       "1             Baetes            80,003   \n",
       "3           Rendy.io            80,009   \n",
       "9               Leap            80,020   \n",
       "13             Wekho            80,035   \n",
       "16         Intelline            80,038   \n",
       "\n",
       "                                 Headquarters Regions  \\\n",
       "1   European Union (EU), Nordic Countries, Scandin...   \n",
       "3                                       Latin America   \n",
       "9                                 European Union (EU)   \n",
       "13        Greater Miami Area, East Coast, Southern US   \n",
       "16                                        Great Lakes   \n",
       "\n",
       "                                      Category Groups  Number of Founders  \\\n",
       "1   Clothing and Apparel, Commerce and Shopping, D...                 3.0   \n",
       "3   Commerce and Shopping, Hardware, Sales and Mar...                 2.0   \n",
       "9                           Internet Services, Sports                 5.0   \n",
       "13  Apps, Internet Services, Media and Entertainme...                 1.0   \n",
       "16  Energy, Manufacturing, Science and Engineering...                 2.0   \n",
       "\n",
       "                                             Founders Number of Employees  \\\n",
       "1           Erik Sjoberg, Filip Waak, Fredrik Heiding                 NaN   \n",
       "3                         Gerardo Mora, Israel Medina                1-10   \n",
       "9   Christo Peev, Felix Quinton, Georgi Karadzhov,...               11-50   \n",
       "13                                     Fedor Saldivia                1-10   \n",
       "16                          Chris Mathew, Kyle Faller                1-10   \n",
       "\n",
       "    Number of Funding Rounds Last Funding Type  Total Funding Amount  \\\n",
       "1                        1.0  Convertible Note               32000.0   \n",
       "3                        2.0              Seed              100000.0   \n",
       "9                        3.0              Seed               60000.0   \n",
       "13                       3.0              Seed              350000.0   \n",
       "16                       2.0             Grant               15000.0   \n",
       "\n",
       "   Total Funding Amount Currency  Total Funding Amount Currency (in USD)  \\\n",
       "1                            EUR                                 39572.0   \n",
       "3                            USD                                100000.0   \n",
       "9                            EUR                                 79761.0   \n",
       "13                           USD                                350000.0   \n",
       "16                           CAD                                 11391.0   \n",
       "\n",
       "   Organization                                              Names  \\\n",
       "1        Baetes                   ['Erik Sjoberg', 'Erik Sjoberg']   \n",
       "3      Rendy.io                 ['Israel Medina', 'Israel Medina']   \n",
       "9          Leap  ['Amish Tolia', 'Remco van den Elzen', 'Christ...   \n",
       "13        Wekho               ['Fedor Saldivia', 'Fedor Saldivia']   \n",
       "16    Intelline                                        Kyle Faller   \n",
       "\n",
       "   Group Gender                                           Genders  \\\n",
       "1     Male only                                  ['Male', 'Male']   \n",
       "3     Male only                                  ['Male', 'Male']   \n",
       "9     Male only  ['Male', 'Male', 'Male', 'Male', 'Male', 'Male']   \n",
       "13    Male only                                  ['Male', 'Male']   \n",
       "16    Male only                                              Male   \n",
       "\n",
       "                                           Job Titles  \n",
       "1                  ['Founder & CEO', 'Founder & CEO']  \n",
       "3                  ['Founder & CEO', 'Founder & CEO']  \n",
       "9   ['Founder & CEO', 'Founder & COO', 'Other Foun...  \n",
       "13                 ['Founder & CEO', 'Founder & CEO']  \n",
       "16                                      Founder & CEO  "
      ]
     },
     "execution_count": 12,
     "metadata": {},
     "output_type": "execute_result"
    }
   ],
   "source": [
    "new_df.head()"
   ]
  },
  {
   "cell_type": "code",
   "execution_count": 13,
   "metadata": {},
   "outputs": [
    {
     "data": {
      "text/plain": [
       "(29501, 17)"
      ]
     },
     "execution_count": 13,
     "metadata": {},
     "output_type": "execute_result"
    }
   ],
   "source": [
    "null = new_df['Category Groups'].notnull()\n",
    "new_df = new_df[null]\n",
    "new_df.shape"
   ]
  },
  {
   "cell_type": "code",
   "execution_count": 14,
   "metadata": {
    "scrolled": true
   },
   "outputs": [
    {
     "data": {
      "text/plain": [
       "(29501, 17)"
      ]
     },
     "execution_count": 14,
     "metadata": {},
     "output_type": "execute_result"
    }
   ],
   "source": [
    "null = new_df['Headquarters Regions'].notnull()\n",
    "new_df = new_df[null]\n",
    "new_df.shape"
   ]
  },
  {
   "cell_type": "code",
   "execution_count": 15,
   "metadata": {
    "scrolled": true
   },
   "outputs": [
    {
     "name": "stdout",
     "output_type": "stream",
     "text": [
      "Female only     2350\n",
      "Male only      25100\n",
      "Mixed           2051\n",
      "Name: Group Gender, dtype: int64\n"
     ]
    },
    {
     "data": {
      "image/png": "[encoded data removed]",
      "text/plain": [
       "<Figure size 432x144 with 1 Axes>"
      ]
     },
     "metadata": {
      "needs_background": "light"
     },
     "output_type": "display_data"
    }
   ],
   "source": [
    "categories_counts= new_df['Group Gender'].value_counts().sort_index()\n",
    "plt.figure(figsize=(6,2))\n",
    "sns.barplot(y=categories_counts.index, x=categories_counts.values)\n",
    "print(categories_counts)"
   ]
  },
  {
   "cell_type": "code",
   "execution_count": 17,
   "metadata": {
    "scrolled": true
   },
   "outputs": [],
   "source": [
    "#simplifying categories\n",
    "new_df.loc[new_df['Category Groups'].str.contains('Finance|FinTech|Financial|Banking', case=False), 'Categories'] = 'Finance'\n",
    "new_df.loc[new_df['Category Groups'].str.contains('Biotechnology', case=False), 'Categories'] = 'Biotechnology'\n",
    "new_df.loc[new_df['Category Groups'].str.contains('Health Care', case=False), 'Categories'] = 'Health Care'\n",
    "new_df.loc[new_df['Category Groups'].str.contains('E-Commerce', case=False), 'Categories'] = 'E-Commerce'\n",
    "new_df.loc[new_df['Category Groups'].str.contains('Software', case=False), 'Categories'] = 'Software'\n",
    "new_df.loc[new_df['Category Groups'].str.contains('Internet', case=False), 'Categories'] = 'Internet'\n",
    "new_df.loc[new_df['Category Groups'].str.contains('Information Technology', case=False), 'Categories'] = 'Information Technology'\n",
    "new_df.loc[new_df['Category Groups'].str.contains('Education', case=False), 'Categories'] = 'Education'\n",
    "new_df.loc[new_df['Category Groups'].str.contains('Network Security|Cyber Security', case=False), 'Categories'] = 'Security'\n",
    "new_df.loc[new_df['Category Groups'].str.contains('Real Estate', case=False), 'Categories'] = 'Real Estate'\n",
    "new_df.loc[new_df['Category Groups'].str.contains('Tourism', case=False), 'Categories'] = 'Tourism'\n",
    "new_df.loc[new_df['Category Groups'].str.contains('Artificial Intelligence', case=False), 'Categories'] = 'Artificial Intelligence'\n",
    "new_df.loc[new_df['Category Groups'].str.contains('Food', case=False), 'Categories'] = 'Food'\n",
    "new_df.loc[new_df['Category Groups'].str.contains('Advertising', case=False), 'Categories'] = 'Advertising'\n",
    "new_df.loc[new_df['Category Groups'].str.contains('Fashion', case=False), 'Categories'] = 'Fashion'\n",
    "new_df.loc[new_df['Category Groups'].str.contains('Data', case=False), 'Categories'] = 'Data'\n",
    "new_df.loc[new_df['Category Groups'].str.contains('Robotics', case=False), 'Categories'] = 'Robotics'\n",
    "new_df.loc[new_df['Category Groups'].str.contains('Gaming', case=False), 'Categories'] = 'Gaming'\n",
    "new_df.loc[new_df['Category Groups'].str.contains('Sports', case=False), 'Categories'] = 'Sports'\n",
    "new_df.loc[new_df['Category Groups'].str.contains('Entertainment', case=False), 'Categories'] = 'Entertainment'\n",
    "new_df.loc[new_df['Category Groups'].str.contains('Insurance', case=False), 'Categories'] = 'Insurance'"
   ]
  },
  {
   "cell_type": "code",
   "execution_count": null,
   "metadata": {
    "scrolled": false
   },
   "outputs": [],
   "source": [
    "categories_counts= cps['Categories'].value_counts().nlargest(30)\n",
    "plt.figure(figsize=(8,8))\n",
    "sns.barplot(y=categories_counts.index, x=categories_counts.values)"
   ]
  },
  {
   "cell_type": "code",
   "execution_count": null,
   "metadata": {
    "scrolled": false
   },
   "outputs": [],
   "source": [
    "categories = ['Software','Finance', 'Health Care','Internet','Biotechnology','Artificial Intelligence'\n",
    "              ,'Information Technology','Education','Advertising','Data','Food','Real Estate',\n",
    "              'Entertainment','Gaming','Sports','Tourism']\n",
    "for i in categories:\n",
    "    gender_Categories = new_df[new_df['Categories'] == i]\n",
    "    categories_counts= gender_Categories['Group Gender'].value_counts().sort_index()\n",
    "    plt.figure(figsize=(6,2))\n",
    "    plt.title(i)\n",
    "    sns.barplot(y=categories_counts.index, x=categories_counts.values)"
   ]
  },
  {
   "cell_type": "code",
   "execution_count": null,
   "metadata": {
    "scrolled": true
   },
   "outputs": [],
   "source": [
    "#simplifying regions\n",
    "new_df.loc[new_df['Headquarters Regions'].str.contains('Asia-Pacific', case=False), 'Headquarters Regions'] = 'Asia-Pacific (APAC)'\n",
    "new_df.loc[new_df['Headquarters Regions'].str.contains('European Union', case=False), 'Headquarters Regions'] = 'European Union (EU)'\n",
    "new_df.loc[new_df['Headquarters Regions'].str.contains('San Francisco Bay Area', case=False), 'Headquarters Regions'] = 'San Francisco Bay Area, West Coast, Western US'"
   ]
  },
  {
   "cell_type": "code",
   "execution_count": null,
   "metadata": {
    "scrolled": true
   },
   "outputs": [],
   "source": [
    "categories_counts= new_df['Headquarters Regions'].value_counts().nlargest(30)\n",
    "plt.figure(figsize=(8,8))\n",
    "sns.barplot(y=categories_counts.index, x=categories_counts.values)"
   ]
  },
  {
   "cell_type": "code",
   "execution_count": null,
   "metadata": {
    "scrolled": true
   },
   "outputs": [],
   "source": [
    "#creating subdatasets for the top 6 regions\n",
    "data_EU = new_df[new_df['Headquarters Regions'] == 'European Union (EU)']\n",
    "data_Bay = new_df[new_df['Headquarters Regions'] == 'San Francisco Bay Area, West Coast, Western US']\n",
    "data_APAC = new_df[new_df['Headquarters Regions'] == 'Asia-Pacific (APAC)']\n",
    "data_NY = new_df[new_df['Headquarters Regions'] == 'Greater New York Area, East Coast, Northeastern US']\n",
    "data_LA = new_df[new_df['Headquarters Regions'] == 'Greater Los Angeles Area, West Coast, Western US']\n",
    "data_BO = new_df[new_df['Headquarters Regions'] == 'Greater Boston Area, East Coast, New England']"
   ]
  },
  {
   "cell_type": "code",
   "execution_count": null,
   "metadata": {
    "scrolled": false
   },
   "outputs": [],
   "source": [
    "fig, axes = plt.subplots(nrows=3, ncols=2,figsize=(13,10))\n",
    "\n",
    "categories_counts= data_EU['Group Gender'].value_counts().sort_index()\n",
    "sns.barplot(y=categories_counts.index, x=categories_counts.values, ax=axes[0,0])\n",
    "axes[0,0].set_title('EU')\n",
    "\n",
    "categories_counts= data_Bay['Group Gender'].value_counts().sort_index()\n",
    "sns.barplot(y=categories_counts.index, x=categories_counts.values, ax=axes[0,1])\n",
    "axes[0,1].set_title('Bay')\n",
    "\n",
    "categories_counts= data_APAC['Group Gender'].value_counts().sort_index()\n",
    "sns.barplot(y=categories_counts.index, x=categories_counts.values, ax=axes[1,0])\n",
    "axes[1,0].set_title('APAC')\n",
    "\n",
    "categories_counts= data_NY['Group Gender'].value_counts().sort_index()\n",
    "sns.barplot(y=categories_counts.index, x=categories_counts.values, ax=axes[1,1])\n",
    "axes[1,1].set_title('NY')\n",
    "\n",
    "categories_counts= data_LA['Group Gender'].value_counts().sort_index()\n",
    "sns.barplot(y=categories_counts.index, x=categories_counts.values, ax=axes[2,0])\n",
    "axes[2,0].set_title('LA')\n",
    "\n",
    "categories_counts= data_BO['Group Gender'].value_counts().sort_index()\n",
    "sns.barplot(y=categories_counts.index, x=categories_counts.values, ax=axes[2,1])\n",
    "axes[2,1].set_title('BO')\n",
    "\n",
    "fig.tight_layout()"
   ]
  },
  {
   "cell_type": "code",
   "execution_count": null,
   "metadata": {
    "scrolled": true
   },
   "outputs": [],
   "source": [
    "col_names =  ['Region', 'Total Funding', 'Average Funding', 'Top 10 Average Funding']\n",
    "funding  = pd.DataFrame(columns = col_names)\n",
    "funding.loc[0] = ['Bay', data_Bay['Total Funding Amount Currency (in USD)'].sum(), data_Bay['Total Funding Amount Currency (in USD)'].sum()/len(data_Bay), data_Bay['Total Funding Amount Currency (in USD)'].nlargest(10).sum()/10]\n",
    "funding.loc[1] = ['EU', data_EU['Total Funding Amount Currency (in USD)'].sum(), data_EU['Total Funding Amount Currency (in USD)'].sum()/len(data_EU), data_EU['Total Funding Amount Currency (in USD)'].nlargest(10).sum()/10]\n",
    "funding.loc[2] = ['APAC', data_APAC['Total Funding Amount Currency (in USD)'].sum(), data_APAC['Total Funding Amount Currency (in USD)'].sum()/len(data_APAC), data_APAC['Total Funding Amount Currency (in USD)'].nlargest(10).sum()/10]\n",
    "funding.loc[3] = ['NY', data_NY['Total Funding Amount Currency (in USD)'].sum(), data_NY['Total Funding Amount Currency (in USD)'].sum()/len(data_NY), data_NY['Total Funding Amount Currency (in USD)'].nlargest(10).sum()/10]\n",
    "funding.loc[4] = ['LA', data_LA['Total Funding Amount Currency (in USD)'].sum(), data_LA['Total Funding Amount Currency (in USD)'].sum()/len(data_LA), data_LA['Total Funding Amount Currency (in USD)'].nlargest(10).sum()/10]\n",
    "funding.loc[5] = ['BO', data_BO['Total Funding Amount Currency (in USD)'].sum(), data_BO['Total Funding Amount Currency (in USD)'].sum()/len(data_BO), data_BO['Total Funding Amount Currency (in USD)'].nlargest(10).sum()/10]\n",
    "funding = funding.sort_values('Total Funding', ascending=False).sort_index()\n",
    "funding.plot.bar(x='Region', y='Total Funding', rot=0)\n",
    "funding = funding.sort_values('Average Funding', ascending=False).sort_index()\n",
    "funding.plot.bar(x='Region', y='Average Funding', rot=0)\n",
    "funding = funding.sort_values('Top 10 Average Funding', ascending=False).sort_index()\n",
    "funding.plot.bar(x='Region', y='Top 10 Average Funding', rot=0)"
   ]
  },
  {
   "cell_type": "code",
   "execution_count": null,
   "metadata": {
    "scrolled": true
   },
   "outputs": [],
   "source": [
    "Bay_10 = data_Bay.head(10).sort_values('Total Funding Amount Currency (in USD)', ascending=False)\n",
    "rg = Bay_10.plot.bar(x='Organization Name', y='Total Funding Amount Currency (in USD)', rot=0, figsize=(10,5),title = 'Bay Top 10')\n",
    "plt.setp(rg.get_xticklabels(), rotation=90)\n",
    "\n",
    "EU_10 = data_EU.head(10).sort_values('Total Funding Amount Currency (in USD)', ascending=False)\n",
    "rg = EU_10.plot.bar(x='Organization Name', y='Total Funding Amount Currency (in USD)', rot=0, figsize=(10,5),title = 'EU Top 10')\n",
    "plt.setp(rg.get_xticklabels(), rotation=90)\n",
    "\n",
    "APAC_10 = data_APAC.head(10).sort_values('Total Funding Amount Currency (in USD)', ascending=False)\n",
    "rg = APAC_10.plot.bar(x='Organization Name', y='Total Funding Amount Currency (in USD)', rot=0, figsize=(10,5),title = 'APAC Top 10')\n",
    "plt.setp(rg.get_xticklabels(), rotation=90)\n",
    "\n",
    "NY_10 = data_NY.head(10).sort_values('Total Funding Amount Currency (in USD)', ascending=False)\n",
    "rg = NY_10.plot.bar(x='Organization Name', y='Total Funding Amount Currency (in USD)', rot=0, figsize=(10,5),title = 'NY Top 10')\n",
    "plt.setp(rg.get_xticklabels(), rotation=90)\n",
    "\n",
    "LA_10 = data_LA.head(10).sort_values('Total Funding Amount Currency (in USD)', ascending=False)\n",
    "rg = LA_10.plot.bar(x='Organization Name', y='Total Funding Amount Currency (in USD)', rot=0, figsize=(10,5),title = 'LA Top 10')\n",
    "plt.setp(rg.get_xticklabels(), rotation=90)\n",
    "\n",
    "BO_10 = data_BO.head(10).sort_values('Total Funding Amount Currency (in USD)', ascending=False)\n",
    "rg = BO_10.plot.bar(x='Organization Name', y='Total Funding Amount Currency (in USD)', rot=0, figsize=(10,5),title = 'BO Top 10')\n",
    "plt.setp(rg.get_xticklabels(), rotation=90)\n"
   ]
  },
  {
   "cell_type": "code",
   "execution_count": null,
   "metadata": {},
   "outputs": [],
   "source": [
    "cats = ['Finance','E-Commerce','Health Care','Internet','Biotechnology','Artificial Intelligence'\n",
    "              ,'Information Technology','Education','Advertising','Data','Food','Real Estate','Security',\n",
    "              'Entertainment','Gaming','Robotics','Fashion','Sports','Tourism','Insurance']\n",
    "\n",
    "df_cat = new_df[new_df['Categories'] == 'Software']\n",
    "for i in cats:\n",
    "    df = new_df[new_df['Categories'] == i]\n",
    "    df_cat = df_cat.append(df, ignore_index = True)"
   ]
  },
  {
   "cell_type": "code",
   "execution_count": null,
   "metadata": {},
   "outputs": [],
   "source": [
    "regions = ['San Francisco Bay Area, West Coast, Western US', 'Asia-Pacific (APAC)', \n",
    "    'Greater New York Area, East Coast, Northeastern US', 'Greater Los Angeles Area, West Coast, Western US',\n",
    "           'Greater Boston Area, East Coast, New England']\n",
    "\n",
    "df_cat_reg = df_cat[df_cat['Headquarters Regions'] == 'European Union (EU)']\n",
    "for i in regions:\n",
    "    df = df_cat[df_cat['Headquarters Regions'] == i]\n",
    "    df_cat_reg = df_cat_reg.append(df, ignore_index = True)"
   ]
  },
  {
   "cell_type": "code",
   "execution_count": null,
   "metadata": {},
   "outputs": [],
   "source": [
    "plt.figure(figsize=(17,8))\n",
    "ax = sns.countplot(x='Categories', hue='Headquarters Regions', data=df_cat_reg)\n",
    "ax.axes.set_title(\"Breakdown of Categories by Regions\", fontsize=22)\n",
    "plt.setp(ax.get_xticklabels(), rotation=90, fontsize=10)\n",
    "plt.legend(fontsize=15, title=\"Regions\");"
   ]
  },
  {
   "cell_type": "code",
   "execution_count": null,
   "metadata": {},
   "outputs": [],
   "source": [
    "#creating subdatasets for the top 6 regions\n",
    "data_EU_cat = df_cat[df_cat['Headquarters Regions'] == 'European Union (EU)']\n",
    "data_Bay_cat = df_cat[df_cat['Headquarters Regions'] == 'San Francisco Bay Area, West Coast, Western US']\n",
    "data_APAC_cat = df_cat[df_cat['Headquarters Regions'] == 'Asia-Pacific (APAC)']\n",
    "data_NY_cat = df_cat[df_cat['Headquarters Regions'] == 'Greater New York Area, East Coast, Northeastern US']\n",
    "data_LA_cat = df_cat[df_cat['Headquarters Regions'] == 'Greater Los Angeles Area, West Coast, Western US']\n",
    "data_BO_cat = df_cat[df_cat['Headquarters Regions'] == 'Greater Boston Area, East Coast, New England']"
   ]
  },
  {
   "cell_type": "code",
   "execution_count": null,
   "metadata": {
    "scrolled": false
   },
   "outputs": [],
   "source": [
    "fig, axes = plt.subplots(nrows=2, ncols=3,figsize=(30,13))\n",
    "\n",
    "categories_counts= data_Bay_cat['Categories'].value_counts().sort_index()\n",
    "sns.barplot(y=categories_counts.index, x=categories_counts.values, ax=axes[0,0])\n",
    "axes[0,0].set_title('Bay')\n",
    "\n",
    "categories_counts= data_EU_cat['Categories'].value_counts().sort_index()\n",
    "sns.barplot(y=categories_counts.index, x=categories_counts.values, ax=axes[0,1])\n",
    "axes[0,1].set_title('EU')\n",
    "\n",
    "categories_counts= data_APAC_cat['Categories'].value_counts().sort_index()\n",
    "sns.barplot(y=categories_counts.index, x=categories_counts.values, ax=axes[0,2])\n",
    "axes[0,2].set_title('APAC')\n",
    "\n",
    "categories_counts= data_NY_cat['Categories'].value_counts().sort_index()\n",
    "sns.barplot(y=categories_counts.index, x=categories_counts.values, ax=axes[1,0])\n",
    "axes[1,0].set_title('NY')\n",
    "\n",
    "categories_counts= data_LA_cat['Categories'].value_counts().sort_index()\n",
    "sns.barplot(y=categories_counts.index, x=categories_counts.values, ax=axes[1,1])\n",
    "axes[1,1].set_title('LA')\n",
    "\n",
    "categories_counts= data_BO_cat['Categories'].value_counts().sort_index()\n",
    "sns.barplot(y=categories_counts.index, x=categories_counts.values, ax=axes[1,2])\n",
    "axes[1,2].set_title('BO')\n",
    "\n",
    "fig.tight_layout()"
   ]
  },
  {
   "cell_type": "code",
   "execution_count": null,
   "metadata": {
    "scrolled": true
   },
   "outputs": [],
   "source": [
    "categories_counts= new_df['Number of Funding Rounds'].value_counts().sort_index()\n",
    "plt.figure(figsize=(15,7))\n",
    "plt.title('Number of Funding Rounds')\n",
    "categories_counts.plot.bar(x='Number of Funding Rounds', rot=0)"
   ]
  },
  {
   "cell_type": "code",
   "execution_count": null,
   "metadata": {
    "scrolled": true
   },
   "outputs": [],
   "source": [
    "categories_counts= data_EU['Number of Funding Rounds'].value_counts().sort_index()\n",
    "plt.figure(figsize=(15,7))\n",
    "categories_counts.plot.bar(x='Number of Funding Rounds', rot=0,title = 'EU')\n",
    "\n",
    "categories_counts= data_Bay['Number of Funding Rounds'].value_counts().sort_index()\n",
    "plt.figure(figsize=(15,7))\n",
    "categories_counts.plot.bar(x='Number of Funding Rounds', rot=0,title = 'Bay')\n",
    "\n",
    "categories_counts= data_APAC['Number of Funding Rounds'].value_counts().sort_index()\n",
    "plt.figure(figsize=(15,7))\n",
    "categories_counts.plot.bar(x='Number of Funding Rounds', rot=0,title = 'APAC')\n",
    "\n",
    "categories_counts= data_LA['Number of Funding Rounds'].value_counts().sort_index()\n",
    "plt.figure(figsize=(15,7))\n",
    "categories_counts.plot.bar(x='Number of Funding Rounds', rot=0,title = 'LA')\n",
    "\n",
    "categories_counts= data_NY['Number of Funding Rounds'].value_counts().sort_index()\n",
    "plt.figure(figsize=(15,7))\n",
    "categories_counts.plot.bar(x='Number of Funding Rounds', rot=0,title = 'NY')\n",
    "\n",
    "categories_counts= data_BO['Number of Funding Rounds'].value_counts().sort_index()\n",
    "plt.figure(figsize=(15,7))\n",
    "categories_counts.plot.bar(x='Number of Funding Rounds', rot=0,title = 'BO')"
   ]
  },
  {
   "cell_type": "code",
   "execution_count": null,
   "metadata": {
    "scrolled": true
   },
   "outputs": [],
   "source": [
    "categories_counts= new_df['Number of Employees'].value_counts().nlargest(5)\n",
    "plt.figure(figsize=(5,3))\n",
    "sns.barplot(y=categories_counts.index, x=categories_counts.values)\n",
    "print(categories_counts)"
   ]
  },
  {
   "cell_type": "code",
   "execution_count": null,
   "metadata": {
    "scrolled": true
   },
   "outputs": [],
   "source": [
    "fig, axes = plt.subplots(nrows=2, ncols=3,figsize=(20,13))\n",
    "\n",
    "categories_counts= data_EU['Number of Employees'].value_counts().nlargest(5)\n",
    "sns.barplot(y=categories_counts.index, x=categories_counts.values, ax=axes[0,0])\n",
    "axes[0,0].set_title('EU')\n",
    "\n",
    "categories_counts= data_Bay['Number of Employees'].value_counts().nlargest(5)\n",
    "sns.barplot(y=categories_counts.index, x=categories_counts.values, ax=axes[0,1])\n",
    "axes[0,1].set_title('Bay')\n",
    "\n",
    "categories_counts= data_APAC['Number of Employees'].value_counts().nlargest(5)\n",
    "sns.barplot(y=categories_counts.index, x=categories_counts.values, ax=axes[0,2])\n",
    "axes[0,2].set_title('APAC')\n",
    "\n",
    "categories_counts= data_LA['Number of Employees'].value_counts().nlargest(5)\n",
    "sns.barplot(y=categories_counts.index, x=categories_counts.values, ax=axes[1,0])\n",
    "axes[1,0].set_title('LA')\n",
    "\n",
    "categories_counts= data_NY['Number of Employees'].value_counts().nlargest(5)\n",
    "sns.barplot(y=categories_counts.index, x=categories_counts.values, ax=axes[1,1])\n",
    "axes[1,1].set_title('NY')\n",
    "\n",
    "categories_counts= data_BO['Number of Employees'].value_counts().nlargest(5)\n",
    "sns.barplot(y=categories_counts.index, x=categories_counts.values, ax=axes[1,2])\n",
    "axes[1,2].set_title('BO')"
   ]
  },
  {
   "cell_type": "code",
   "execution_count": null,
   "metadata": {
    "scrolled": true
   },
   "outputs": [],
   "source": [
    "categories_counts= new_df['Funding Status'].value_counts().nlargest(30).sort_index()\n",
    "plt.figure(figsize=(5,7))\n",
    "sns.barplot(y=categories_counts.index, x=categories_counts.values)\n",
    "print(categories_counts)"
   ]
  },
  {
   "cell_type": "code",
   "execution_count": null,
   "metadata": {
    "scrolled": true
   },
   "outputs": [],
   "source": [
    "fig, axes = plt.subplots(nrows=2, ncols=3,figsize=(20,13))\n",
    "\n",
    "categories_counts= data_EU['Funding Status'].value_counts().nlargest(30).sort_index()\n",
    "sns.barplot(y=categories_counts.index, x=categories_counts.values, ax=axes[0,0])\n",
    "axes[0,0].set_title('EU')\n",
    "\n",
    "categories_counts= data_Bay['Funding Status'].value_counts().nlargest(30).sort_index()\n",
    "sns.barplot(y=categories_counts.index, x=categories_counts.values, ax=axes[0,1])\n",
    "axes[0,1].set_title('Bay')\n",
    "\n",
    "categories_counts= data_APAC['Funding Status'].value_counts().nlargest(30).sort_index()\n",
    "sns.barplot(y=categories_counts.index, x=categories_counts.values, ax=axes[0,2])\n",
    "axes[0,2].set_title('APAC')\n",
    "\n",
    "categories_counts= data_LA['Funding Status'].value_counts().nlargest(30).sort_index()\n",
    "sns.barplot(y=categories_counts.index, x=categories_counts.values, ax=axes[1,0])\n",
    "axes[1,0].set_title('LA')\n",
    "\n",
    "categories_counts= data_NY['Funding Status'].value_counts().nlargest(30).sort_index()\n",
    "sns.barplot(y=categories_counts.index, x=categories_counts.values, ax=axes[1,1])\n",
    "axes[1,1].set_title('NY')\n",
    "\n",
    "categories_counts= data_BO['Funding Status'].value_counts().nlargest(30).sort_index()\n",
    "sns.barplot(y=categories_counts.index, x=categories_counts.values, ax=axes[1,2])\n",
    "axes[1,2].set_title('BO')\n",
    "\n",
    "fig.tight_layout()"
   ]
  },
  {
   "cell_type": "code",
   "execution_count": null,
   "metadata": {
    "scrolled": true
   },
   "outputs": [],
   "source": [
    "categories_counts= new_df['Estimated Revenue Range'].value_counts().nlargest(30)\n",
    "plt.figure(figsize=(5,7))\n",
    "sns.barplot(y=categories_counts.index, x=categories_counts.values)\n",
    "print(categories_counts)"
   ]
  },
  {
   "cell_type": "code",
   "execution_count": null,
   "metadata": {
    "scrolled": true
   },
   "outputs": [],
   "source": [
    "fig, axes = plt.subplots(nrows=2, ncols=3,figsize=(20,13))\n",
    "\n",
    "categories_counts= data_EU['Estimated Revenue Range'].value_counts().nlargest(30).sort_index()\n",
    "sns.barplot(y=categories_counts.index, x=categories_counts.values, ax=axes[0,0], color=\"red\", saturation=.8)\n",
    "axes[0,0].set_title('EU')\n",
    "\n",
    "categories_counts= data_Bay['Estimated Revenue Range'].value_counts().nlargest(30).sort_index()\n",
    "sns.barplot(y=categories_counts.index, x=categories_counts.values, ax=axes[0,1], color=\"red\", saturation=.8)\n",
    "axes[0,1].set_title('Bay')\n",
    "\n",
    "categories_counts= data_APAC['Estimated Revenue Range'].value_counts().nlargest(30).sort_index()\n",
    "sns.barplot(y=categories_counts.index, x=categories_counts.values, ax=axes[0,2], color=\"red\", saturation=.8)\n",
    "axes[0,2].set_title('APAC')\n",
    "\n",
    "categories_counts= data_LA['Estimated Revenue Range'].value_counts().nlargest(30).sort_index()\n",
    "sns.barplot(y=categories_counts.index, x=categories_counts.values, ax=axes[1,0], color=\"red\", saturation=.8)\n",
    "axes[1,0].set_title('LA')\n",
    "\n",
    "categories_counts= data_NY['Estimated Revenue Range'].value_counts().nlargest(30).sort_index()\n",
    "sns.barplot(y=categories_counts.index, x=categories_counts.values, ax=axes[1,1], color=\"red\", saturation=.8)\n",
    "axes[1,1].set_title('NY')\n",
    "\n",
    "categories_counts= data_BO['Estimated Revenue Range'].value_counts().nlargest(30).sort_index()\n",
    "sns.barplot(y=categories_counts.index, x=categories_counts.values, ax=axes[1,2], color=\"red\", saturation=.8)\n",
    "axes[1,2].set_title('BO')\n",
    "\n",
    "fig.tight_layout()"
   ]
  },
  {
   "cell_type": "code",
   "execution_count": null,
   "metadata": {
    "scrolled": false
   },
   "outputs": [],
   "source": [
    "col_names =  ['Region', 'Category' , 'Total Funding', 'Number of Companies', 'Average Funding']\n",
    "categories = ['Software','Finance','E-Commerce','Health Care','Internet','Biotechnology','Artificial Intelligence'\n",
    "              ,'Information Technology','Education','Advertising','Data','Food','Real Estate','Security',\n",
    "              'Entertainment','Gaming','Robotics','Fashion','Sports','Tourism','Insurance']\n",
    "funding  = pd.DataFrame(columns = col_names)\n",
    "count = 0\n",
    "for i in categories:\n",
    "    funding.loc[count] = ['Bay', i, data_Bay[data_Bay['Categories']==i]['Total Funding Amount Currency (in USD)'].sum(),\n",
    "                          len(data_Bay[data_Bay['Categories']==i]), \n",
    "                          data_Bay[data_Bay['Categories']==i]['Total Funding Amount Currency (in USD)'].sum()/\n",
    "                          len(data_Bay[data_Bay['Categories']==i])]\n",
    "    count = count + 1\n",
    "\n",
    "totalfunding_Bay = funding.sort_values('Total Funding', ascending=False).sort_index()\n",
    "avgfunding_Bay = funding.sort_values('Average Funding', ascending=False).sort_index()\n",
    "\n",
    "count = 0\n",
    "for i in categories:\n",
    "    funding.loc[count] = ['APAC', i, data_APAC[data_APAC['Categories']==i]['Total Funding Amount Currency (in USD)'].sum(),\n",
    "                          len(data_APAC[data_APAC['Categories']==i]), \n",
    "                          data_APAC[data_APAC['Categories']==i]['Total Funding Amount Currency (in USD)'].sum()/\n",
    "                          len(data_APAC[data_APAC['Categories']==i])]\n",
    "    count = count + 1\n",
    "\n",
    "totalfunding_APAC = funding.sort_values('Total Funding', ascending=False).sort_index()\n",
    "avgfunding_APAC = funding.sort_values('Average Funding', ascending=False).sort_index()\n",
    "\n",
    "count = 0\n",
    "for i in categories:\n",
    "    funding.loc[count] = ['EU', i, data_EU[data_EU['Categories']==i]['Total Funding Amount Currency (in USD)'].sum(),\n",
    "                          len(data_EU[data_EU['Categories']==i]), \n",
    "                          data_EU[data_EU['Categories']==i]['Total Funding Amount Currency (in USD)'].sum()/\n",
    "                          len(data_EU[data_EU['Categories']==i])]\n",
    "    count = count + 1\n",
    "\n",
    "totalfunding_EU = funding.sort_values('Total Funding', ascending=False).sort_index()\n",
    "avgfunding_EU = funding.sort_values('Average Funding', ascending=False).sort_index()\n",
    "\n",
    "count = 0\n",
    "for i in categories:\n",
    "    funding.loc[count] = ['LA', i, data_LA[data_LA['Categories']==i]['Total Funding Amount Currency (in USD)'].sum(),\n",
    "                          len(data_LA[data_LA['Categories']==i]), \n",
    "                          data_LA[data_LA['Categories']==i]['Total Funding Amount Currency (in USD)'].sum()/\n",
    "                          len(data_LA[data_LA['Categories']==i])]\n",
    "    count = count + 1\n",
    "\n",
    "totalfunding_LA = funding.sort_values('Total Funding', ascending=False).sort_index()\n",
    "avgfunding_LA = funding.sort_values('Average Funding', ascending=False).sort_index()\n",
    "\n",
    "count = 0\n",
    "for i in categories:\n",
    "    funding.loc[count] = ['NY', i, data_NY[data_NY['Categories']==i]['Total Funding Amount Currency (in USD)'].sum(),\n",
    "                          len(data_NY[data_NY['Categories']==i]), \n",
    "                          data_NY[data_NY['Categories']==i]['Total Funding Amount Currency (in USD)'].sum()/\n",
    "                          len(data_NY[data_NY['Categories']==i])]\n",
    "    count = count + 1\n",
    "\n",
    "totalfunding_NY = funding.sort_values('Total Funding', ascending=False).sort_index()\n",
    "avgfunding_NY = funding.sort_values('Average Funding', ascending=False).sort_index()\n",
    "\n",
    "count = 0\n",
    "for i in categories:\n",
    "    funding.loc[count] = ['BO', i, data_BO[data_BO['Categories']==i]['Total Funding Amount Currency (in USD)'].sum(),\n",
    "                          len(data_BO[data_BO['Categories']==i]), \n",
    "                          data_BO[data_BO['Categories']==i]['Total Funding Amount Currency (in USD)'].sum()/\n",
    "                          len(data_BO[data_BO['Categories']==i])]\n",
    "    count = count + 1\n",
    "\n",
    "totalfunding_BO = funding.sort_values('Total Funding', ascending=False).sort_index()\n",
    "avgfunding_BO = funding.sort_values('Average Funding', ascending=False).sort_index()\n",
    "\n",
    "\n",
    "fig, axes = plt.subplots(nrows=3, ncols=2,figsize=(13,15))\n",
    "\n",
    "rg=totalfunding_Bay.plot.bar(x='Category', y='Total Funding', rot=0,title = 'Bay', ax=axes[0,0])\n",
    "plt.setp(rg.get_xticklabels(), rotation=90)\n",
    "rg=totalfunding_APAC.plot.bar(x='Category', y='Total Funding', rot=0,title = 'APAC', ax=axes[0,1])\n",
    "plt.setp(rg.get_xticklabels(), rotation=90)\n",
    "rg=totalfunding_EU.plot.bar(x='Category', y='Total Funding', rot=0,title = 'EU', ax=axes[1,0])\n",
    "plt.setp(rg.get_xticklabels(), rotation=90)\n",
    "rg=totalfunding_LA.plot.bar(x='Category', y='Total Funding', rot=0,title = 'LA', ax=axes[1,1])\n",
    "plt.setp(rg.get_xticklabels(), rotation=90)\n",
    "rg=totalfunding_NY.plot.bar(x='Category', y='Total Funding', rot=0,title = 'NY', ax=axes[2,0])\n",
    "plt.setp(rg.get_xticklabels(), rotation=90)\n",
    "rg=totalfunding_BO.plot.bar(x='Category', y='Total Funding', rot=0,title = 'BO', ax=axes[2,1])\n",
    "plt.setp(rg.get_xticklabels(), rotation=90)\n",
    "\n",
    "\n",
    "fig.tight_layout()"
   ]
  },
  {
   "cell_type": "code",
   "execution_count": null,
   "metadata": {
    "scrolled": false
   },
   "outputs": [],
   "source": [
    "fig, axes = plt.subplots(nrows=3, ncols=2,figsize=(13,15))\n",
    "\n",
    "rg=avgfunding_Bay.plot.bar(x='Category', y='Average Funding', rot=0, title = 'Bay', ax=axes[0,0])\n",
    "plt.setp(rg.get_xticklabels(), rotation=90)\n",
    "rg=avgfunding_APAC.plot.bar(x='Category', y='Average Funding', rot=0, title = 'APAC', ax=axes[0,1])\n",
    "plt.setp(rg.get_xticklabels(), rotation=90)\n",
    "rg=avgfunding_EU.plot.bar(x='Category', y='Average Funding', rot=0, title = 'EU', ax=axes[1,0])\n",
    "plt.setp(rg.get_xticklabels(), rotation=90)\n",
    "rg=avgfunding_LA.plot.bar(x='Category', y='Average Funding', rot=0, title = 'LA', ax=axes[1,1])\n",
    "plt.setp(rg.get_xticklabels(), rotation=90)\n",
    "rg=avgfunding_NY.plot.bar(x='Category', y='Average Funding', rot=0, title = 'NY', ax=axes[2,0])\n",
    "plt.setp(rg.get_xticklabels(), rotation=90)\n",
    "rg=avgfunding_BO.plot.bar(x='Category', y='Average Funding', rot=0, title = 'BO', ax=axes[2,1])\n",
    "plt.setp(rg.get_xticklabels(), rotation=90)\n",
    "\n",
    "\n",
    "fig.tight_layout()"
   ]
  },
  {
   "cell_type": "code",
   "execution_count": null,
   "metadata": {
    "scrolled": false
   },
   "outputs": [],
   "source": [
    "1. which gender gets the most average funding globally/regionally?\n",
    "2. which gender gets the most funding in each industry globally/regionally?"
   ]
  },
  {
   "cell_type": "code",
   "execution_count": null,
   "metadata": {
    "scrolled": false
   },
   "outputs": [],
   "source": [
    "col_names =  ['Genders', 'Total Funding', 'Average Funding']\n",
    "funding  = pd.DataFrame(columns = col_names)\n",
    "funding.loc[0] = ['Female only', new_df[new_df['Group Gender']=='Female only']['Total Funding Amount Currency (in USD)'].sum(),\n",
    "                  new_df[new_df['Group Gender']=='Female only']['Total Funding Amount Currency (in USD)'].sum()/len(new_df[new_df['Group Gender']=='Female only'])]\n",
    "funding.loc[1] = ['Male only', new_df[new_df['Group Gender']=='Male only']['Total Funding Amount Currency (in USD)'].sum(),\n",
    "                  new_df[new_df['Group Gender']=='Male only']['Total Funding Amount Currency (in USD)'].sum()/len(new_df[new_df['Group Gender']=='Male only'])]\n",
    "funding.loc[2] = ['Mixed', new_df[new_df['Group Gender']=='Mixed']['Total Funding Amount Currency (in USD)'].sum(),\n",
    "                  new_df[new_df['Group Gender']=='Mixed']['Total Funding Amount Currency (in USD)'].sum()/len(new_df[new_df['Group Gender']=='Mixed'])]\n",
    "\n",
    "funding.plot.bar(x='Genders', y='Total Funding', rot=0, title = 'Global Total Funding')\n",
    "funding.plot.bar(x='Genders', y='Average Funding', rot=0, title = 'Global Average Funding')"
   ]
  },
  {
   "cell_type": "code",
   "execution_count": null,
   "metadata": {
    "scrolled": false
   },
   "outputs": [],
   "source": [
    "col_names =  ['Genders', 'Total Funding', 'Average Funding']\n",
    "genders = ['Female only', 'Male only', 'Mixed']\n",
    "funding  = pd.DataFrame(columns = col_names)\n",
    "count = 0\n",
    "for i in genders:\n",
    "    funding.loc[count] = [i, data_Bay[data_Bay['Group Gender']==i]['Total Funding Amount Currency (in USD)'].sum(),\n",
    "                          data_Bay[data_Bay['Group Gender']==i]['Total Funding Amount Currency (in USD)'].sum()/\n",
    "                          len(data_Bay[data_Bay['Group Gender']==i])]\n",
    "    count = count + 1\n",
    "\n",
    "totalfunding_Bay = funding.sort_values('Total Funding', ascending=False).sort_index()\n",
    "avgfunding_Bay = funding.sort_values('Average Funding', ascending=False).sort_index()\n",
    "\n",
    "count = 0\n",
    "for i in genders:\n",
    "    funding.loc[count] = [i, data_APAC[data_APAC['Group Gender']==i]['Total Funding Amount Currency (in USD)'].sum(),\n",
    "                          data_APAC[data_APAC['Group Gender']==i]['Total Funding Amount Currency (in USD)'].sum()/\n",
    "                          len(data_APAC[data_APAC['Group Gender']==i])]\n",
    "    count = count + 1\n",
    "    \n",
    "totalfunding_APAC = funding.sort_values('Total Funding', ascending=False).sort_index()\n",
    "avgfunding_APAC = funding.sort_values('Average Funding', ascending=False).sort_index()\n",
    "\n",
    "count = 0\n",
    "\n",
    "for i in genders:\n",
    "    funding.loc[count] = [i, data_EU[data_EU['Group Gender']==i]['Total Funding Amount Currency (in USD)'].sum(),\n",
    "                          data_EU[data_EU['Group Gender']==i]['Total Funding Amount Currency (in USD)'].sum()/\n",
    "                          len(data_EU[data_EU['Group Gender']==i])]\n",
    "    count = count + 1\n",
    "\n",
    "totalfunding_EU = funding.sort_values('Total Funding', ascending=False).sort_index()\n",
    "avgfunding_EU = funding.sort_values('Average Funding', ascending=False).sort_index()\n",
    "\n",
    "count = 0\n",
    "for i in genders:\n",
    "    funding.loc[count] = [i, data_LA[data_LA['Group Gender']==i]['Total Funding Amount Currency (in USD)'].sum(),\n",
    "                          data_LA[data_LA['Group Gender']==i]['Total Funding Amount Currency (in USD)'].sum()/\n",
    "                          len(data_LA[data_LA['Group Gender']==i])]\n",
    "    count = count + 1\n",
    "\n",
    "totalfunding_LA = funding.sort_values('Total Funding', ascending=False).sort_index()\n",
    "avgfunding_LA = funding.sort_values('Average Funding', ascending=False).sort_index()\n",
    "\n",
    "count = 0\n",
    "for i in genders:\n",
    "    funding.loc[count] = [i, data_NY[data_NY['Group Gender']==i]['Total Funding Amount Currency (in USD)'].sum(),\n",
    "                          data_NY[data_NY['Group Gender']==i]['Total Funding Amount Currency (in USD)'].sum()/\n",
    "                          len(data_NY[data_NY['Group Gender']==i])]\n",
    "    count = count + 1\n",
    "\n",
    "totalfunding_NY = funding.sort_values('Total Funding', ascending=False).sort_index()\n",
    "avgfunding_NY = funding.sort_values('Average Funding', ascending=False).sort_index()\n",
    "\n",
    "count = 0\n",
    "for i in genders:\n",
    "    funding.loc[count] = [i, data_BO[data_BO['Group Gender']==i]['Total Funding Amount Currency (in USD)'].sum(),\n",
    "                          data_BO[data_BO['Group Gender']==i]['Total Funding Amount Currency (in USD)'].sum()/\n",
    "                          len(data_BO[data_BO['Group Gender']==i])]\n",
    "    count = count + 1\n",
    "\n",
    "totalfunding_BO = funding.sort_values('Total Funding', ascending=False).sort_index()\n",
    "avgfunding_BO = funding.sort_values('Average Funding', ascending=False).sort_index()\n",
    "\n",
    "\n",
    "fig, axes = plt.subplots(nrows=3, ncols=2,figsize=(13,15))\n",
    "\n",
    "rg=totalfunding_Bay.plot.bar(x='Genders', y='Total Funding', rot=0,title = 'Bay', ax=axes[0,0])\n",
    "plt.setp(rg.get_xticklabels(), rotation=90)\n",
    "rg=totalfunding_APAC.plot.bar(x='Genders', y='Total Funding', rot=0,title = 'APAC', ax=axes[0,1])\n",
    "plt.setp(rg.get_xticklabels(), rotation=90)\n",
    "rg=totalfunding_EU.plot.bar(x='Genders', y='Total Funding', rot=0,title = 'EU', ax=axes[1,0])\n",
    "plt.setp(rg.get_xticklabels(), rotation=90)\n",
    "rg=totalfunding_LA.plot.bar(x='Genders', y='Total Funding', rot=0,title = 'LA', ax=axes[1,1])\n",
    "plt.setp(rg.get_xticklabels(), rotation=90)\n",
    "rg=totalfunding_NY.plot.bar(x='Genders', y='Total Funding', rot=0,title = 'NY', ax=axes[2,0])\n",
    "plt.setp(rg.get_xticklabels(), rotation=90)\n",
    "rg=totalfunding_BO.plot.bar(x='Genders', y='Total Funding', rot=0,title = 'BO', ax=axes[2,1])\n",
    "plt.setp(rg.get_xticklabels(), rotation=90)\n",
    "\n",
    "\n",
    "fig.tight_layout()"
   ]
  },
  {
   "cell_type": "code",
   "execution_count": null,
   "metadata": {
    "scrolled": false
   },
   "outputs": [],
   "source": [
    "fig, axes = plt.subplots(nrows=3, ncols=2,figsize=(13,15))\n",
    "\n",
    "rg=avgfunding_Bay.plot.bar(x='Genders', y='Average Funding', rot=0, title = 'Bay', ax=axes[0,0])\n",
    "plt.setp(rg.get_xticklabels(), rotation=90)\n",
    "rg=avgfunding_APAC.plot.bar(x='Genders', y='Average Funding', rot=0, title = 'APAC', ax=axes[0,1])\n",
    "plt.setp(rg.get_xticklabels(), rotation=90)\n",
    "rg=avgfunding_EU.plot.bar(x='Genders', y='Average Funding', rot=0, title = 'EU', ax=axes[1,0])\n",
    "plt.setp(rg.get_xticklabels(), rotation=90)\n",
    "rg=avgfunding_LA.plot.bar(x='Genders', y='Average Funding', rot=0, title = 'LA', ax=axes[1,1])\n",
    "plt.setp(rg.get_xticklabels(), rotation=90)\n",
    "rg=avgfunding_NY.plot.bar(x='Genders', y='Average Funding', rot=0, title = 'NY', ax=axes[2,0])\n",
    "plt.setp(rg.get_xticklabels(), rotation=90)\n",
    "rg=avgfunding_BO.plot.bar(x='Genders', y='Average Funding', rot=0, title = 'BO', ax=axes[2,1])\n",
    "plt.setp(rg.get_xticklabels(), rotation=90)\n",
    "\n",
    "\n",
    "fig.tight_layout()"
   ]
  },
  {
   "cell_type": "code",
   "execution_count": null,
   "metadata": {
    "scrolled": true
   },
   "outputs": [],
   "source": [
    "#What other attributes could be useful?\n",
    "print (len(new_df))\n",
    "print (new_df.columns)"
   ]
  }
 ],
 "metadata": {
  "kernelspec": {
   "display_name": "Python 3",
   "language": "python",
   "name": "python3"
  },
  "language_info": {
   "codemirror_mode": {
    "name": "ipython",
    "version": 3
   },
   "file_extension": ".py",
   "mimetype": "text/x-python",
   "name": "python",
   "nbconvert_exporter": "python",
   "pygments_lexer": "ipython3",
   "version": "3.6.9"
  }
 },
 "nbformat": 4,
 "nbformat_minor": 2
}
