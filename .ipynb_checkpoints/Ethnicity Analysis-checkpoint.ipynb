{
 "cells": [
  {
   "cell_type": "code",
   "execution_count": 3,
   "metadata": {},
   "outputs": [],
   "source": [
    "import numpy as np\n",
    "import pandas as pd\n",
    "import matplotlib.pyplot as plt\n",
    "import seaborn as sns"
   ]
  },
  {
   "cell_type": "code",
   "execution_count": 4,
   "metadata": {
    "scrolled": true
   },
   "outputs": [
    {
     "data": {
      "text/html": [
       "<div>\n",
       "<style scoped>\n",
       "    .dataframe tbody tr th:only-of-type {\n",
       "        vertical-align: middle;\n",
       "    }\n",
       "\n",
       "    .dataframe tbody tr th {\n",
       "        vertical-align: top;\n",
       "    }\n",
       "\n",
       "    .dataframe thead th {\n",
       "        text-align: right;\n",
       "    }\n",
       "</style>\n",
       "<table border=\"1\" class=\"dataframe\">\n",
       "  <thead>\n",
       "    <tr style=\"text-align: right;\">\n",
       "      <th></th>\n",
       "      <th>Full Name</th>\n",
       "      <th>Primary Job Title</th>\n",
       "      <th>Primary Organization</th>\n",
       "      <th>CB Rank (Person)</th>\n",
       "      <th>First Name</th>\n",
       "      <th>Last Name</th>\n",
       "      <th>Gender</th>\n",
       "      <th>Number of Exits (IPO)</th>\n",
       "    </tr>\n",
       "  </thead>\n",
       "  <tbody>\n",
       "    <tr>\n",
       "      <th>0</th>\n",
       "      <td>Jason Calacanis</td>\n",
       "      <td>Founder &amp; CEO</td>\n",
       "      <td>Inside.com</td>\n",
       "      <td>2</td>\n",
       "      <td>Jason</td>\n",
       "      <td>Calacanis</td>\n",
       "      <td>Male</td>\n",
       "      <td>18.0</td>\n",
       "    </tr>\n",
       "    <tr>\n",
       "      <th>1</th>\n",
       "      <td>LeBron James</td>\n",
       "      <td>Co-Founder</td>\n",
       "      <td>PureBrands</td>\n",
       "      <td>4</td>\n",
       "      <td>LeBron</td>\n",
       "      <td>James</td>\n",
       "      <td>Male</td>\n",
       "      <td>1.0</td>\n",
       "    </tr>\n",
       "    <tr>\n",
       "      <th>2</th>\n",
       "      <td>Marc Benioff</td>\n",
       "      <td>Founder &amp; Co-CEO</td>\n",
       "      <td>Salesforce</td>\n",
       "      <td>7</td>\n",
       "      <td>Marc</td>\n",
       "      <td>Benioff</td>\n",
       "      <td>Male</td>\n",
       "      <td>24.0</td>\n",
       "    </tr>\n",
       "    <tr>\n",
       "      <th>3</th>\n",
       "      <td>Serena Williams</td>\n",
       "      <td>Founder</td>\n",
       "      <td>Serena Williams Foundation</td>\n",
       "      <td>8</td>\n",
       "      <td>Serena</td>\n",
       "      <td>Williams</td>\n",
       "      <td>Female</td>\n",
       "      <td>NaN</td>\n",
       "    </tr>\n",
       "    <tr>\n",
       "      <th>4</th>\n",
       "      <td>Jeff Kearl</td>\n",
       "      <td>Co-Founder and CEO</td>\n",
       "      <td>Stance</td>\n",
       "      <td>13</td>\n",
       "      <td>Jeff</td>\n",
       "      <td>Kearl</td>\n",
       "      <td>Male</td>\n",
       "      <td>10.0</td>\n",
       "    </tr>\n",
       "  </tbody>\n",
       "</table>\n",
       "</div>"
      ],
      "text/plain": [
       "         Full Name   Primary Job Title        Primary Organization  \\\n",
       "0  Jason Calacanis       Founder & CEO                  Inside.com   \n",
       "1     LeBron James          Co-Founder                  PureBrands   \n",
       "2     Marc Benioff    Founder & Co-CEO                  Salesforce   \n",
       "3  Serena Williams             Founder  Serena Williams Foundation   \n",
       "4       Jeff Kearl  Co-Founder and CEO                      Stance   \n",
       "\n",
       "   CB Rank (Person) First Name  Last Name  Gender  Number of Exits (IPO)  \n",
       "0                 2      Jason  Calacanis    Male                   18.0  \n",
       "1                 4     LeBron      James    Male                    1.0  \n",
       "2                 7       Marc    Benioff    Male                   24.0  \n",
       "3                 8     Serena   Williams  Female                    NaN  \n",
       "4                13       Jeff      Kearl    Male                   10.0  "
      ]
     },
     "execution_count": 4,
     "metadata": {},
     "output_type": "execute_result"
    }
   ],
   "source": [
    "founders = pd.read_csv('all_founders.csv', dtype={\"Number of News Articles\": str})\n",
    "\n",
    "fds = founders.drop(['Unnamed: 0', 'Unnamed: 0.1', 'Full Name URL', 'Primary Organization URL', \n",
    "                     'Trend Score (7 Days)', 'Trend Score (30 Days)', 'Trend Score (90 Days)',\n",
    "                     'Facebook', 'LinkedIn', 'Twitter', \n",
    "                     'Location', 'Regions', 'Biography', 'Number of News Articles', \n",
    "                     'Number of Founded Organizations', 'Number of Portfolio Companies', \n",
    "                     'Number of Lead Investments', 'Number of Exits',\n",
    "                     'Number of Investments', 'Number of Partner Investments', 'Number of Events'], axis=1)\n",
    "\n",
    "fds['CB Rank (Person)'] = fds['CB Rank (Person)'].str.replace(',', '').astype(int)\n",
    "fds.head()"
   ]
  },
  {
   "cell_type": "code",
   "execution_count": 5,
   "metadata": {},
   "outputs": [
    {
     "data": {
      "text/plain": [
       "Full Name                    0\n",
       "Primary Job Title            0\n",
       "Primary Organization         0\n",
       "CB Rank (Person)             0\n",
       "First Name                   0\n",
       "Last Name                    0\n",
       "Gender                     199\n",
       "Number of Exits (IPO)    62266\n",
       "dtype: int64"
      ]
     },
     "execution_count": 5,
     "metadata": {},
     "output_type": "execute_result"
    }
   ],
   "source": [
    "fds.isna().sum()"
   ]
  },
  {
   "cell_type": "code",
   "execution_count": 6,
   "metadata": {},
   "outputs": [
    {
     "data": {
      "text/plain": [
       "Full Name                    0\n",
       "Primary Job Title            0\n",
       "Primary Organization         0\n",
       "CB Rank (Person)             0\n",
       "First Name                   0\n",
       "Last Name                    0\n",
       "Gender                       0\n",
       "Number of Exits (IPO)    62068\n",
       "dtype: int64"
      ]
     },
     "execution_count": 6,
     "metadata": {},
     "output_type": "execute_result"
    }
   ],
   "source": [
    "fds = fds.dropna(subset=['Gender'])\n",
    "fds.isna().sum()"
   ]
  },
  {
   "cell_type": "code",
   "execution_count": 7,
   "metadata": {},
   "outputs": [
    {
     "name": "stderr",
     "output_type": "stream",
     "text": [
      "/home/bossou/.local/lib/python3.6/site-packages/pandas/core/strings.py:1843: UserWarning: This pattern has match groups. To actually get the groups, use str.extract.\n",
      "  return func(self, *args, **kwargs)\n"
     ]
    },
    {
     "data": {
      "text/html": [
       "<div>\n",
       "<style scoped>\n",
       "    .dataframe tbody tr th:only-of-type {\n",
       "        vertical-align: middle;\n",
       "    }\n",
       "\n",
       "    .dataframe tbody tr th {\n",
       "        vertical-align: top;\n",
       "    }\n",
       "\n",
       "    .dataframe thead th {\n",
       "        text-align: right;\n",
       "    }\n",
       "</style>\n",
       "<table border=\"1\" class=\"dataframe\">\n",
       "  <thead>\n",
       "    <tr style=\"text-align: right;\">\n",
       "      <th></th>\n",
       "      <th>Full Name</th>\n",
       "      <th>Primary Job Title</th>\n",
       "      <th>Primary Organization</th>\n",
       "      <th>CB Rank (Person)</th>\n",
       "      <th>First Name</th>\n",
       "      <th>Last Name</th>\n",
       "      <th>Gender</th>\n",
       "      <th>Number of Exits (IPO)</th>\n",
       "    </tr>\n",
       "  </thead>\n",
       "  <tbody>\n",
       "    <tr>\n",
       "      <th>9861</th>\n",
       "      <td>Robyn Speer</td>\n",
       "      <td>Chief Science Officer, Co-founder</td>\n",
       "      <td>Luminoso</td>\n",
       "      <td>22669</td>\n",
       "      <td>Robyn</td>\n",
       "      <td>Speer</td>\n",
       "      <td>Transgender Woman</td>\n",
       "      <td>NaN</td>\n",
       "    </tr>\n",
       "    <tr>\n",
       "      <th>31478</th>\n",
       "      <td>Amir Khan</td>\n",
       "      <td>Founder and CEO</td>\n",
       "      <td>LendTech</td>\n",
       "      <td>83029</td>\n",
       "      <td>Amir</td>\n",
       "      <td>Khan</td>\n",
       "      <td>Genderqueer</td>\n",
       "      <td>NaN</td>\n",
       "    </tr>\n",
       "    <tr>\n",
       "      <th>34387</th>\n",
       "      <td>Leila Khalil</td>\n",
       "      <td>Founder, CEO</td>\n",
       "      <td>Lover.ly</td>\n",
       "      <td>92100</td>\n",
       "      <td>Leila</td>\n",
       "      <td>Khalil</td>\n",
       "      <td>Bigender</td>\n",
       "      <td>NaN</td>\n",
       "    </tr>\n",
       "    <tr>\n",
       "      <th>39872</th>\n",
       "      <td>Kirsten Frisina</td>\n",
       "      <td>CEO, Founder</td>\n",
       "      <td>VRClub Inc.</td>\n",
       "      <td>112409</td>\n",
       "      <td>Kirsten</td>\n",
       "      <td>Frisina</td>\n",
       "      <td>Non-Binary</td>\n",
       "      <td>NaN</td>\n",
       "    </tr>\n",
       "    <tr>\n",
       "      <th>57927</th>\n",
       "      <td>Nicolas Partridge</td>\n",
       "      <td>Founder</td>\n",
       "      <td>LivNao Technologies Corp.</td>\n",
       "      <td>174966</td>\n",
       "      <td>Nicolas</td>\n",
       "      <td>Partridge</td>\n",
       "      <td>Two-Spirit</td>\n",
       "      <td>NaN</td>\n",
       "    </tr>\n",
       "  </tbody>\n",
       "</table>\n",
       "</div>"
      ],
      "text/plain": [
       "               Full Name                  Primary Job Title  \\\n",
       "9861         Robyn Speer  Chief Science Officer, Co-founder   \n",
       "31478          Amir Khan                    Founder and CEO   \n",
       "34387       Leila Khalil                       Founder, CEO   \n",
       "39872    Kirsten Frisina                       CEO, Founder   \n",
       "57927  Nicolas Partridge                            Founder   \n",
       "\n",
       "            Primary Organization  CB Rank (Person) First Name  Last Name  \\\n",
       "9861                    Luminoso             22669      Robyn      Speer   \n",
       "31478                   LendTech             83029       Amir       Khan   \n",
       "34387                   Lover.ly             92100      Leila     Khalil   \n",
       "39872                VRClub Inc.            112409    Kirsten    Frisina   \n",
       "57927  LivNao Technologies Corp.            174966    Nicolas  Partridge   \n",
       "\n",
       "                  Gender  Number of Exits (IPO)  \n",
       "9861   Transgender Woman                    NaN  \n",
       "31478        Genderqueer                    NaN  \n",
       "34387           Bigender                    NaN  \n",
       "39872         Non-Binary                    NaN  \n",
       "57927         Two-Spirit                    NaN  "
      ]
     },
     "execution_count": 7,
     "metadata": {},
     "output_type": "execute_result"
    }
   ],
   "source": [
    "fds[fds['Gender'].str.contains('^(?!(Male|Female|Prefer not to identify)).*$', case=False)]"
   ]
  },
  {
   "cell_type": "code",
   "execution_count": 8,
   "metadata": {},
   "outputs": [
    {
     "name": "stderr",
     "output_type": "stream",
     "text": [
      "/home/bossou/.local/lib/python3.6/site-packages/pandas/core/strings.py:1843: UserWarning: This pattern has match groups. To actually get the groups, use str.extract.\n",
      "  return func(self, *args, **kwargs)\n"
     ]
    }
   ],
   "source": [
    "fds.loc[fds['Gender'].str.contains('^(?!(Male|Female|Prefer not to identify)).*$', \n",
    "                                              case=False),'Gender'] = 'LGBT'"
   ]
  },
  {
   "cell_type": "code",
   "execution_count": 9,
   "metadata": {
    "scrolled": false
   },
   "outputs": [
    {
     "data": {
      "text/plain": [
       "Male                      56125\n",
       "Female                     7297\n",
       "Prefer not to identify       20\n",
       "LGBT                          5\n",
       "Name: Gender, dtype: int64"
      ]
     },
     "execution_count": 9,
     "metadata": {},
     "output_type": "execute_result"
    }
   ],
   "source": [
    "fds['Gender'].value_counts()"
   ]
  },
  {
   "cell_type": "code",
   "execution_count": 10,
   "metadata": {},
   "outputs": [
    {
     "data": {
      "text/plain": [
       "Male      0.884945\n",
       "Female    0.115055\n",
       "Name: Gender, dtype: float64"
      ]
     },
     "execution_count": 10,
     "metadata": {},
     "output_type": "execute_result"
    }
   ],
   "source": [
    "fds = fds[fds['Gender'] != ('LGBT')]\n",
    "fds = fds[fds['Gender'] != ('Prefer not to identify')]\n",
    "fds['Gender'].value_counts(normalize=True)"
   ]
  },
  {
   "cell_type": "code",
   "execution_count": 11,
   "metadata": {},
   "outputs": [
    {
     "data": {
      "image/png": "[encoded data removed]",
      "text/plain": [
       "<Figure size 720x144 with 1 Axes>"
      ]
     },
     "metadata": {
      "needs_background": "light"
     },
     "output_type": "display_data"
    }
   ],
   "source": [
    "plt.figure(figsize=(10,2))\n",
    "ax = sns.countplot(y='Gender', data=fds)\n",
    "plt.show()"
   ]
  },
  {
   "cell_type": "code",
   "execution_count": 12,
   "metadata": {},
   "outputs": [
    {
     "data": {
      "text/html": [
       "<div>\n",
       "<style scoped>\n",
       "    .dataframe tbody tr th:only-of-type {\n",
       "        vertical-align: middle;\n",
       "    }\n",
       "\n",
       "    .dataframe tbody tr th {\n",
       "        vertical-align: top;\n",
       "    }\n",
       "\n",
       "    .dataframe thead th {\n",
       "        text-align: right;\n",
       "    }\n",
       "</style>\n",
       "<table border=\"1\" class=\"dataframe\">\n",
       "  <thead>\n",
       "    <tr style=\"text-align: right;\">\n",
       "      <th></th>\n",
       "      <th>First Name</th>\n",
       "      <th>Last Name</th>\n",
       "      <th>Full Name</th>\n",
       "      <th>Primary Organization</th>\n",
       "      <th>Gender</th>\n",
       "      <th>Primary Job Title</th>\n",
       "      <th>CB Rank (Person)</th>\n",
       "      <th>Number of Exits (IPO)</th>\n",
       "    </tr>\n",
       "  </thead>\n",
       "  <tbody>\n",
       "    <tr>\n",
       "      <th>0</th>\n",
       "      <td>Jason</td>\n",
       "      <td>Calacanis</td>\n",
       "      <td>Jason Calacanis</td>\n",
       "      <td>Inside.com</td>\n",
       "      <td>Male</td>\n",
       "      <td>Founder &amp; CEO</td>\n",
       "      <td>2</td>\n",
       "      <td>18.0</td>\n",
       "    </tr>\n",
       "    <tr>\n",
       "      <th>1</th>\n",
       "      <td>LeBron</td>\n",
       "      <td>James</td>\n",
       "      <td>LeBron James</td>\n",
       "      <td>PureBrands</td>\n",
       "      <td>Male</td>\n",
       "      <td>Co-Founder</td>\n",
       "      <td>4</td>\n",
       "      <td>1.0</td>\n",
       "    </tr>\n",
       "    <tr>\n",
       "      <th>2</th>\n",
       "      <td>Marc</td>\n",
       "      <td>Benioff</td>\n",
       "      <td>Marc Benioff</td>\n",
       "      <td>Salesforce</td>\n",
       "      <td>Male</td>\n",
       "      <td>Founder &amp; Co-CEO</td>\n",
       "      <td>7</td>\n",
       "      <td>24.0</td>\n",
       "    </tr>\n",
       "    <tr>\n",
       "      <th>3</th>\n",
       "      <td>Serena</td>\n",
       "      <td>Williams</td>\n",
       "      <td>Serena Williams</td>\n",
       "      <td>Serena Williams Foundation</td>\n",
       "      <td>Female</td>\n",
       "      <td>Founder</td>\n",
       "      <td>8</td>\n",
       "      <td>NaN</td>\n",
       "    </tr>\n",
       "    <tr>\n",
       "      <th>4</th>\n",
       "      <td>Jeff</td>\n",
       "      <td>Kearl</td>\n",
       "      <td>Jeff Kearl</td>\n",
       "      <td>Stance</td>\n",
       "      <td>Male</td>\n",
       "      <td>Co-Founder and CEO</td>\n",
       "      <td>13</td>\n",
       "      <td>10.0</td>\n",
       "    </tr>\n",
       "  </tbody>\n",
       "</table>\n",
       "</div>"
      ],
      "text/plain": [
       "  First Name  Last Name        Full Name        Primary Organization  Gender  \\\n",
       "0      Jason  Calacanis  Jason Calacanis                  Inside.com    Male   \n",
       "1     LeBron      James     LeBron James                  PureBrands    Male   \n",
       "2       Marc    Benioff     Marc Benioff                  Salesforce    Male   \n",
       "3     Serena   Williams  Serena Williams  Serena Williams Foundation  Female   \n",
       "4       Jeff      Kearl       Jeff Kearl                      Stance    Male   \n",
       "\n",
       "    Primary Job Title  CB Rank (Person)  Number of Exits (IPO)  \n",
       "0       Founder & CEO                 2                   18.0  \n",
       "1          Co-Founder                 4                    1.0  \n",
       "2    Founder & Co-CEO                 7                   24.0  \n",
       "3             Founder                 8                    NaN  \n",
       "4  Co-Founder and CEO                13                   10.0  "
      ]
     },
     "execution_count": 12,
     "metadata": {},
     "output_type": "execute_result"
    }
   ],
   "source": [
    "fds = fds[['First Name', 'Last Name', 'Full Name', 'Primary Organization', 'Gender', \n",
    "           'Primary Job Title', 'CB Rank (Person)', 'Number of Exits (IPO)']]\n",
    "fds.head()"
   ]
  },
  {
   "cell_type": "code",
   "execution_count": 15,
   "metadata": {
    "scrolled": true
   },
   "outputs": [],
   "source": [
    "# from ethnicolr import census_ln, pred_census_ln\n",
    "# census_ln(fds, 'Last Name')"
   ]
  },
  {
   "cell_type": "code",
   "execution_count": null,
   "metadata": {
    "scrolled": true
   },
   "outputs": [],
   "source": []
  },
  {
   "cell_type": "code",
   "execution_count": 25,
   "metadata": {},
   "outputs": [
    {
     "data": {
      "text/plain": [
       "[      First Name Last Name     Full Name Primary Organization Gender  \\\n",
       " 10236       Adam   Rivietz  Adam Rivietz                #paid   Male   \n",
       " 11575      Bryan      Gold    Bryan Gold                #paid   Male   \n",
       " \n",
       "       Primary Job Title  CB Rank (Person)  Number of Exits (IPO)  \n",
       " 10236  Co-Founder & CSO             23543                    NaN  \n",
       " 11575   Co-Founder, CEO             26771                    NaN  ,\n",
       "       First Name Last Name      Full Name Primary Organization  Gender  \\\n",
       " 28050    Tavonia     Evans  Tavonia Evans           $Guap Coin  Female   \n",
       " \n",
       "       Primary Job Title  CB Rank (Person)  Number of Exits (IPO)  \n",
       " 28050     Founder & CEO             72483                    NaN  ,\n",
       "     First Name Last Name         Full Name Primary Organization Gender  \\\n",
       " 366    Michael  Lastoria  Michael Lastoria               &pizza   Male   \n",
       " \n",
       "                   Primary Job Title  CB Rank (Person)  Number of Exits (IPO)  \n",
       " 366  Co-founder and CEO & President               880                    NaN  ]"
      ]
     },
     "execution_count": 25,
     "metadata": {},
     "output_type": "execute_result"
    }
   ],
   "source": [
    "grouped_by_organization = fds.groupby(['Primary Organization'])\n",
    "\n",
    "result = [g[1] for g in list(grouped_by_organization)[:3]]\n",
    "result"
   ]
  },
  {
   "cell_type": "code",
   "execution_count": 12,
   "metadata": {
    "scrolled": false
   },
   "outputs": [],
   "source": [
    "cps = pd.DataFrame()\n",
    "for organization, group in grouped_by_organization:\n",
    "    group = group.reset_index(drop=True)\n",
    "    names = []\n",
    "    job_titles = []\n",
    "    genders = []\n",
    "    group_gender = []\n",
    "    ranks = []\n",
    "    exits = []\n",
    "    n = len(group)\n",
    "    if n == 1:\n",
    "        names = group.loc[0, 'Full Name']\n",
    "        job_titles = group.loc[0, 'Primary Job Title']\n",
    "        genders = group.loc[0, 'Gender']\n",
    "        ranks = group.loc[0, 'CB Rank (Person)']\n",
    "        exits = group.loc[0, 'Number of Exits (IPO)']\n",
    "        if genders == 'Male':\n",
    "            group_gender = 'Male only'\n",
    "        else:\n",
    "            group_gender = 'Female only'\n",
    "        cps = cps.append({'Organization': organization, 'Names': names, 'Job Titles': job_titles,\n",
    "                        'Genders': genders, 'Group Gender': group_gender, 'Ranks': ranks, 'Exits': exits}, \n",
    "                        ignore_index=True)\n",
    "    else:\n",
    "        for i in range(len(group)):\n",
    "            names.append(group.loc[i, 'Full Name'])\n",
    "            job_titles.append(group.loc[i, 'Primary Job Title'])\n",
    "            genders.append(group.loc[i, 'Gender'])\n",
    "            ranks.append(group.loc[i, 'CB Rank (Person)'])\n",
    "            exits.append(group.loc[i, 'Number of Exits (IPO)'])\n",
    "        if len(genders) == genders.count(genders[0]):\n",
    "            if genders[0] == 'Male':\n",
    "                group_gender = 'Male only'\n",
    "            else:\n",
    "                group_gender = 'Female only'\n",
    "        else:\n",
    "            group_gender = 'Mixed'                               \n",
    "        cps = cps.append({'Organization': organization, 'Names': ', '.join(names), \n",
    "                        'Job Titles': ', '.join(job_titles),'Genders': ', '.join(map(str, genders)), \n",
    "                        'Group Gender': group_gender, 'Ranks': ', '.join(map(str, ranks)), \n",
    "                        'Exits': ', '.join(map(str, exits))}, ignore_index=True)"
   ]
  },
  {
   "cell_type": "code",
   "execution_count": 13,
   "metadata": {},
   "outputs": [],
   "source": [
    "cps.to_csv('founders_grouped.csv')"
   ]
  },
  {
   "cell_type": "code",
   "execution_count": 2,
   "metadata": {},
   "outputs": [
    {
     "data": {
      "text/html": [
       "<div>\n",
       "<style scoped>\n",
       "    .dataframe tbody tr th:only-of-type {\n",
       "        vertical-align: middle;\n",
       "    }\n",
       "\n",
       "    .dataframe tbody tr th {\n",
       "        vertical-align: top;\n",
       "    }\n",
       "\n",
       "    .dataframe thead th {\n",
       "        text-align: right;\n",
       "    }\n",
       "</style>\n",
       "<table border=\"1\" class=\"dataframe\">\n",
       "  <thead>\n",
       "    <tr style=\"text-align: right;\">\n",
       "      <th></th>\n",
       "      <th>Exits</th>\n",
       "      <th>Genders</th>\n",
       "      <th>Group Gender</th>\n",
       "      <th>Job Titles</th>\n",
       "      <th>Names</th>\n",
       "      <th>Organization</th>\n",
       "      <th>Ranks</th>\n",
       "    </tr>\n",
       "  </thead>\n",
       "  <tbody>\n",
       "    <tr>\n",
       "      <th>0</th>\n",
       "      <td>nan, nan</td>\n",
       "      <td>Male, Male</td>\n",
       "      <td>Male only</td>\n",
       "      <td>Co-Founder &amp; CSO, Co-Founder, CEO</td>\n",
       "      <td>Adam Rivietz, Bryan Gold</td>\n",
       "      <td>#paid</td>\n",
       "      <td>23543, 26771</td>\n",
       "    </tr>\n",
       "    <tr>\n",
       "      <th>1</th>\n",
       "      <td>NaN</td>\n",
       "      <td>Female</td>\n",
       "      <td>Female only</td>\n",
       "      <td>Founder &amp; CEO</td>\n",
       "      <td>Tavonia Evans</td>\n",
       "      <td>$Guap Coin</td>\n",
       "      <td>72483</td>\n",
       "    </tr>\n",
       "    <tr>\n",
       "      <th>2</th>\n",
       "      <td>NaN</td>\n",
       "      <td>Male</td>\n",
       "      <td>Male only</td>\n",
       "      <td>Co-founder and CEO &amp; President</td>\n",
       "      <td>Michael Lastoria</td>\n",
       "      <td>&amp;pizza</td>\n",
       "      <td>880</td>\n",
       "    </tr>\n",
       "    <tr>\n",
       "      <th>3</th>\n",
       "      <td>NaN</td>\n",
       "      <td>Female</td>\n",
       "      <td>Female only</td>\n",
       "      <td>Founder</td>\n",
       "      <td>Nadeera Nilupamali</td>\n",
       "      <td>'Rock' Your Paper</td>\n",
       "      <td>197041</td>\n",
       "    </tr>\n",
       "    <tr>\n",
       "      <th>4</th>\n",
       "      <td>NaN</td>\n",
       "      <td>Female</td>\n",
       "      <td>Female only</td>\n",
       "      <td>director &amp; co-founder</td>\n",
       "      <td>Kirsten Dirksen</td>\n",
       "      <td>*faircompanies</td>\n",
       "      <td>162629</td>\n",
       "    </tr>\n",
       "    <tr>\n",
       "      <th>5</th>\n",
       "      <td>NaN</td>\n",
       "      <td>Male</td>\n",
       "      <td>Male only</td>\n",
       "      <td>Co-founder &amp; CSO</td>\n",
       "      <td>Ali Amarsy</td>\n",
       "      <td>*gram Labs</td>\n",
       "      <td>50175</td>\n",
       "    </tr>\n",
       "    <tr>\n",
       "      <th>6</th>\n",
       "      <td>nan, nan</td>\n",
       "      <td>Female, Male</td>\n",
       "      <td>Mixed</td>\n",
       "      <td>Co-Founder and Managing Partner, Co-Founder an...</td>\n",
       "      <td>Maria Cirino, Liam Donohue</td>\n",
       "      <td>.406 Ventures</td>\n",
       "      <td>13720, 34587</td>\n",
       "    </tr>\n",
       "    <tr>\n",
       "      <th>7</th>\n",
       "      <td>NaN</td>\n",
       "      <td>Male</td>\n",
       "      <td>Male only</td>\n",
       "      <td>Founder</td>\n",
       "      <td>Dong Nguyen</td>\n",
       "      <td>.GEARS (dotGears) Studios</td>\n",
       "      <td>2226</td>\n",
       "    </tr>\n",
       "    <tr>\n",
       "      <th>8</th>\n",
       "      <td>NaN</td>\n",
       "      <td>Male</td>\n",
       "      <td>Male only</td>\n",
       "      <td>Founder</td>\n",
       "      <td>Makinde Adeagbo</td>\n",
       "      <td>/dev/color</td>\n",
       "      <td>28926</td>\n",
       "    </tr>\n",
       "    <tr>\n",
       "      <th>9</th>\n",
       "      <td>NaN</td>\n",
       "      <td>Male</td>\n",
       "      <td>Male only</td>\n",
       "      <td>Partner &amp; Co-Founder</td>\n",
       "      <td>Marek Zamecnik</td>\n",
       "      <td>0100 Ventures</td>\n",
       "      <td>122734</td>\n",
       "    </tr>\n",
       "    <tr>\n",
       "      <th>10</th>\n",
       "      <td>nan, nan</td>\n",
       "      <td>Male, Male</td>\n",
       "      <td>Male only</td>\n",
       "      <td>Co-Founder &amp; Partner, Co-Founder &amp; Partner</td>\n",
       "      <td>Chris Haley, Eeswaran Navaratnam</td>\n",
       "      <td>01Ventures</td>\n",
       "      <td>130529, 134036</td>\n",
       "    </tr>\n",
       "    <tr>\n",
       "      <th>11</th>\n",
       "      <td>NaN</td>\n",
       "      <td>Male</td>\n",
       "      <td>Male only</td>\n",
       "      <td>Co-Founder</td>\n",
       "      <td>Scott Tranter</td>\n",
       "      <td>0ptimus</td>\n",
       "      <td>62419</td>\n",
       "    </tr>\n",
       "    <tr>\n",
       "      <th>12</th>\n",
       "      <td>nan, nan</td>\n",
       "      <td>Male, Male</td>\n",
       "      <td>Male only</td>\n",
       "      <td>Co-Founder &amp; CEO, Co-Founder &amp; CTO</td>\n",
       "      <td>Will Warren, Amir Bandeali</td>\n",
       "      <td>0x</td>\n",
       "      <td>12722, 22121</td>\n",
       "    </tr>\n",
       "    <tr>\n",
       "      <th>13</th>\n",
       "      <td>NaN</td>\n",
       "      <td>Female</td>\n",
       "      <td>Female only</td>\n",
       "      <td>Co-Founder &amp; CEO</td>\n",
       "      <td>Stephanie Sarka</td>\n",
       "      <td>1 Atelier LLC</td>\n",
       "      <td>68877</td>\n",
       "    </tr>\n",
       "    <tr>\n",
       "      <th>14</th>\n",
       "      <td>NaN</td>\n",
       "      <td>Male</td>\n",
       "      <td>Male only</td>\n",
       "      <td>Founder and CEO</td>\n",
       "      <td>Howard Lefkowitz</td>\n",
       "      <td>1 Degree World Systems, Inc</td>\n",
       "      <td>44399</td>\n",
       "    </tr>\n",
       "    <tr>\n",
       "      <th>15</th>\n",
       "      <td>nan, nan</td>\n",
       "      <td>Male, Male</td>\n",
       "      <td>Male only</td>\n",
       "      <td>Co-founder &amp; COO, Co-founder &amp; CEO</td>\n",
       "      <td>Ravinder Singh, Jay Prakash Shukla</td>\n",
       "      <td>1 India Family Mart</td>\n",
       "      <td>26161, 36803</td>\n",
       "    </tr>\n",
       "    <tr>\n",
       "      <th>16</th>\n",
       "      <td>NaN</td>\n",
       "      <td>Male</td>\n",
       "      <td>Male only</td>\n",
       "      <td>Co-Founder &amp; CTO</td>\n",
       "      <td>Daniel Zuck</td>\n",
       "      <td>1 Mainstream</td>\n",
       "      <td>89998</td>\n",
       "    </tr>\n",
       "    <tr>\n",
       "      <th>17</th>\n",
       "      <td>NaN</td>\n",
       "      <td>Female</td>\n",
       "      <td>Female only</td>\n",
       "      <td>Co-Founder - Director Global Partnerships</td>\n",
       "      <td>Anna Chojnacka</td>\n",
       "      <td>1%Club</td>\n",
       "      <td>105891</td>\n",
       "    </tr>\n",
       "    <tr>\n",
       "      <th>18</th>\n",
       "      <td>NaN</td>\n",
       "      <td>Male</td>\n",
       "      <td>Male only</td>\n",
       "      <td>Founder &amp; CEO</td>\n",
       "      <td>Jonathan Tanner</td>\n",
       "      <td>1-800-Pharmacy</td>\n",
       "      <td>56581</td>\n",
       "    </tr>\n",
       "    <tr>\n",
       "      <th>19</th>\n",
       "      <td>NaN</td>\n",
       "      <td>Female</td>\n",
       "      <td>Female only</td>\n",
       "      <td>Founder and CEO</td>\n",
       "      <td>Estella Gabriel</td>\n",
       "      <td>10 Block</td>\n",
       "      <td>107174</td>\n",
       "    </tr>\n",
       "  </tbody>\n",
       "</table>\n",
       "</div>"
      ],
      "text/plain": [
       "       Exits       Genders Group Gender  \\\n",
       "0   nan, nan    Male, Male    Male only   \n",
       "1        NaN        Female  Female only   \n",
       "2        NaN          Male    Male only   \n",
       "3        NaN        Female  Female only   \n",
       "4        NaN        Female  Female only   \n",
       "5        NaN          Male    Male only   \n",
       "6   nan, nan  Female, Male        Mixed   \n",
       "7        NaN          Male    Male only   \n",
       "8        NaN          Male    Male only   \n",
       "9        NaN          Male    Male only   \n",
       "10  nan, nan    Male, Male    Male only   \n",
       "11       NaN          Male    Male only   \n",
       "12  nan, nan    Male, Male    Male only   \n",
       "13       NaN        Female  Female only   \n",
       "14       NaN          Male    Male only   \n",
       "15  nan, nan    Male, Male    Male only   \n",
       "16       NaN          Male    Male only   \n",
       "17       NaN        Female  Female only   \n",
       "18       NaN          Male    Male only   \n",
       "19       NaN        Female  Female only   \n",
       "\n",
       "                                           Job Titles  \\\n",
       "0                   Co-Founder & CSO, Co-Founder, CEO   \n",
       "1                                       Founder & CEO   \n",
       "2                      Co-founder and CEO & President   \n",
       "3                                             Founder   \n",
       "4                               director & co-founder   \n",
       "5                                    Co-founder & CSO   \n",
       "6   Co-Founder and Managing Partner, Co-Founder an...   \n",
       "7                                             Founder   \n",
       "8                                             Founder   \n",
       "9                                Partner & Co-Founder   \n",
       "10         Co-Founder & Partner, Co-Founder & Partner   \n",
       "11                                         Co-Founder   \n",
       "12                 Co-Founder & CEO, Co-Founder & CTO   \n",
       "13                                   Co-Founder & CEO   \n",
       "14                                    Founder and CEO   \n",
       "15                 Co-founder & COO, Co-founder & CEO   \n",
       "16                                   Co-Founder & CTO   \n",
       "17          Co-Founder - Director Global Partnerships   \n",
       "18                                      Founder & CEO   \n",
       "19                                    Founder and CEO   \n",
       "\n",
       "                                 Names                 Organization  \\\n",
       "0             Adam Rivietz, Bryan Gold                        #paid   \n",
       "1                        Tavonia Evans                   $Guap Coin   \n",
       "2                     Michael Lastoria                       &pizza   \n",
       "3                   Nadeera Nilupamali            'Rock' Your Paper   \n",
       "4                      Kirsten Dirksen               *faircompanies   \n",
       "5                           Ali Amarsy                   *gram Labs   \n",
       "6           Maria Cirino, Liam Donohue                .406 Ventures   \n",
       "7                          Dong Nguyen    .GEARS (dotGears) Studios   \n",
       "8                      Makinde Adeagbo                   /dev/color   \n",
       "9                       Marek Zamecnik                0100 Ventures   \n",
       "10    Chris Haley, Eeswaran Navaratnam                   01Ventures   \n",
       "11                       Scott Tranter                      0ptimus   \n",
       "12          Will Warren, Amir Bandeali                           0x   \n",
       "13                     Stephanie Sarka                1 Atelier LLC   \n",
       "14                    Howard Lefkowitz  1 Degree World Systems, Inc   \n",
       "15  Ravinder Singh, Jay Prakash Shukla          1 India Family Mart   \n",
       "16                         Daniel Zuck                 1 Mainstream   \n",
       "17                      Anna Chojnacka                       1%Club   \n",
       "18                     Jonathan Tanner               1-800-Pharmacy   \n",
       "19                     Estella Gabriel                     10 Block   \n",
       "\n",
       "             Ranks  \n",
       "0     23543, 26771  \n",
       "1            72483  \n",
       "2              880  \n",
       "3           197041  \n",
       "4           162629  \n",
       "5            50175  \n",
       "6     13720, 34587  \n",
       "7             2226  \n",
       "8            28926  \n",
       "9           122734  \n",
       "10  130529, 134036  \n",
       "11           62419  \n",
       "12    12722, 22121  \n",
       "13           68877  \n",
       "14           44399  \n",
       "15    26161, 36803  \n",
       "16           89998  \n",
       "17          105891  \n",
       "18           56581  \n",
       "19          107174  "
      ]
     },
     "execution_count": 2,
     "metadata": {},
     "output_type": "execute_result"
    }
   ],
   "source": [
    "cps = pd.read_csv('founders_grouped.csv')\n",
    "cps = cps.drop(['Unnamed: 0'], axis=1)\n",
    "cps.head(20)"
   ]
  },
  {
   "cell_type": "code",
   "execution_count": 3,
   "metadata": {},
   "outputs": [
    {
     "data": {
      "text/plain": [
       "Male only      40496\n",
       "Female only     4700\n",
       "Mixed           2057\n",
       "Name: Group Gender, dtype: int64"
      ]
     },
     "execution_count": 3,
     "metadata": {},
     "output_type": "execute_result"
    }
   ],
   "source": [
    "cps['Group Gender'].value_counts()"
   ]
  },
  {
   "cell_type": "code",
   "execution_count": 4,
   "metadata": {},
   "outputs": [
    {
     "data": {
      "text/plain": [
       "Male only      0.857004\n",
       "Female only    0.099465\n",
       "Mixed          0.043532\n",
       "Name: Group Gender, dtype: float64"
      ]
     },
     "execution_count": 4,
     "metadata": {},
     "output_type": "execute_result"
    }
   ],
   "source": [
    "cps['Group Gender'].value_counts(normalize=True)"
   ]
  },
  {
   "cell_type": "code",
   "execution_count": 5,
   "metadata": {},
   "outputs": [
    {
     "data": {
      "image/png": "[encoded data removed]",
      "text/plain": [
       "<Figure size 720x216 with 1 Axes>"
      ]
     },
     "metadata": {
      "needs_background": "light"
     },
     "output_type": "display_data"
    }
   ],
   "source": [
    "plt.figure(figsize=(10,3))\n",
    "ax1 = sns.countplot(y='Group Gender', data=cps)\n",
    "plt.show()"
   ]
  },
  {
   "cell_type": "code",
   "execution_count": null,
   "metadata": {},
   "outputs": [],
   "source": []
  },
  {
   "cell_type": "code",
   "execution_count": null,
   "metadata": {},
   "outputs": [],
   "source": []
  },
  {
   "cell_type": "code",
   "execution_count": null,
   "metadata": {},
   "outputs": [],
   "source": []
  },
  {
   "cell_type": "code",
   "execution_count": null,
   "metadata": {},
   "outputs": [],
   "source": []
  },
  {
   "cell_type": "code",
   "execution_count": null,
   "metadata": {},
   "outputs": [],
   "source": []
  },
  {
   "cell_type": "code",
   "execution_count": null,
   "metadata": {},
   "outputs": [],
   "source": []
  },
  {
   "cell_type": "code",
   "execution_count": null,
   "metadata": {},
   "outputs": [],
   "source": []
  },
  {
   "cell_type": "code",
   "execution_count": null,
   "metadata": {},
   "outputs": [],
   "source": []
  },
  {
   "cell_type": "markdown",
   "metadata": {},
   "source": [
    "### Merge"
   ]
  },
  {
   "cell_type": "code",
   "execution_count": null,
   "metadata": {},
   "outputs": [],
   "source": [
    "companies = pd.read_csv('companies.csv')\n",
    "companies.info()"
   ]
  },
  {
   "cell_type": "code",
   "execution_count": null,
   "metadata": {},
   "outputs": [],
   "source": [
    "companies.head()"
   ]
  },
  {
   "cell_type": "code",
   "execution_count": null,
   "metadata": {},
   "outputs": [],
   "source": [
    "cps_fds = pd.merge(companies, cps,  how='left', left_on=['Organization Name'], right_on = ['Organization'])"
   ]
  },
  {
   "cell_type": "code",
   "execution_count": null,
   "metadata": {},
   "outputs": [],
   "source": [
    "cps_fds.to_csv('cps_fds.csv')"
   ]
  },
  {
   "cell_type": "code",
   "execution_count": null,
   "metadata": {},
   "outputs": [],
   "source": []
  },
  {
   "cell_type": "code",
   "execution_count": null,
   "metadata": {},
   "outputs": [],
   "source": []
  },
  {
   "cell_type": "code",
   "execution_count": null,
   "metadata": {},
   "outputs": [],
   "source": []
  },
  {
   "cell_type": "code",
   "execution_count": null,
   "metadata": {},
   "outputs": [],
   "source": []
  },
  {
   "cell_type": "code",
   "execution_count": null,
   "metadata": {},
   "outputs": [],
   "source": [
    "gender = new_df['Gender'].notnull()\n",
    "new_df = new_df[gender]\n",
    "new_df = new_df.drop_duplicates(subset=['Organization Name'])\n",
    "new_df.head()"
   ]
  },
  {
   "cell_type": "code",
   "execution_count": null,
   "metadata": {},
   "outputs": [],
   "source": [
    "null = new_df['Categories'].notnull()\n",
    "new_df = new_df[null]\n",
    "new_df.shape"
   ]
  },
  {
   "cell_type": "code",
   "execution_count": null,
   "metadata": {},
   "outputs": [],
   "source": [
    "null = new_df['Headquarters Regions'].notnull()\n",
    "new_df = new_df[null]\n",
    "new_df.shape"
   ]
  },
  {
   "cell_type": "code",
   "execution_count": null,
   "metadata": {},
   "outputs": [],
   "source": [
    "categories_counts= new_df['Gender'].value_counts()\n",
    "plt.figure(figsize=(6,2))\n",
    "rg = sns.barplot(y=categories_counts.index, x=categories_counts.values)\n",
    "plt.setp(rg.get_xticklabels(), rotation=90)\n",
    "print(categories_counts)"
   ]
  },
  {
   "cell_type": "code",
   "execution_count": null,
   "metadata": {},
   "outputs": [],
   "source": [
    "#simplifying categories\n",
    "new_df.loc[new_df['Categories'].str.contains('Finance|FinTech|Financial|Banking', case=False), 'Categories'] = 'Finance'\n",
    "new_df.loc[new_df['Categories'].str.contains('Biotechnology', case=False), 'Categories'] = 'Biotechnology'\n",
    "new_df.loc[new_df['Categories'].str.contains('Health Care', case=False), 'Categories'] = 'Health Care'\n",
    "new_df.loc[new_df['Categories'].str.contains('E-Commerce', case=False), 'Categories'] = 'E-Commerce'\n",
    "new_df.loc[new_df['Categories'].str.contains('Software', case=False), 'Categories'] = 'Software'\n",
    "new_df.loc[new_df['Categories'].str.contains('Internet', case=False), 'Categories'] = 'Internet'\n",
    "new_df.loc[new_df['Categories'].str.contains('Information Technology', case=False), 'Categories'] = 'Information Technology'\n",
    "new_df.loc[new_df['Categories'].str.contains('Education', case=False), 'Categories'] = 'Education'\n",
    "new_df.loc[new_df['Categories'].str.contains('Network Security|Cyber Security', case=False), 'Categories'] = 'Security'\n",
    "new_df.loc[new_df['Categories'].str.contains('Real Estate', case=False), 'Categories'] = 'Real Estate'\n",
    "new_df.loc[new_df['Categories'].str.contains('Tourism', case=False), 'Categories'] = 'Tourism'\n",
    "new_df.loc[new_df['Categories'].str.contains('Artificial Intelligence', case=False), 'Categories'] = 'Artificial Intelligence'\n",
    "new_df.loc[new_df['Categories'].str.contains('Food', case=False), 'Categories'] = 'Food'\n",
    "new_df.loc[new_df['Categories'].str.contains('Advertising', case=False), 'Categories'] = 'Advertising'\n",
    "new_df.loc[new_df['Categories'].str.contains('Fashion', case=False), 'Categories'] = 'Fashion'\n",
    "new_df.loc[new_df['Categories'].str.contains('Data', case=False), 'Categories'] = 'Data'\n",
    "new_df.loc[new_df['Categories'].str.contains('Robotics', case=False), 'Categories'] = 'Robotics'\n",
    "new_df.loc[new_df['Categories'].str.contains('Gaming', case=False), 'Categories'] = 'Gaming'\n",
    "new_df.loc[new_df['Categories'].str.contains('Sports', case=False), 'Categories'] = 'Sports'\n",
    "new_df.loc[new_df['Categories'].str.contains('Entertainment', case=False), 'Categories'] = 'Entertainment'\n",
    "new_df.loc[new_df['Categories'].str.contains('Insurance', case=False), 'Categories'] = 'Insurance'"
   ]
  },
  {
   "cell_type": "code",
   "execution_count": null,
   "metadata": {
    "scrolled": true
   },
   "outputs": [],
   "source": [
    "categories_counts= new_df['Categories'].value_counts().nlargest(30)\n",
    "plt.figure(figsize=(5,5))\n",
    "rg = sns.barplot(y=categories_counts.index, x=categories_counts.values)\n",
    "plt.setp(rg.get_xticklabels(), rotation=90)\n",
    "print(categories_counts)"
   ]
  },
  {
   "cell_type": "code",
   "execution_count": null,
   "metadata": {},
   "outputs": [],
   "source": [
    "#simplifying regions\n",
    "new_df.loc[new_df['Headquarters Regions'].str.contains('Asia-Pacific', case=False), 'Headquarters Regions'] = 'Asia-Pacific (APAC)'\n",
    "new_df.loc[new_df['Headquarters Regions'].str.contains('European Union', case=False), 'Headquarters Regions'] = 'European Union (EU)'\n",
    "new_df.loc[new_df['Headquarters Regions'].str.contains('San Francisco Bay Area', case=False), 'Headquarters Regions'] = 'San Francisco Bay Area, West Coast, Western US'"
   ]
  },
  {
   "cell_type": "code",
   "execution_count": null,
   "metadata": {},
   "outputs": [],
   "source": [
    "categories_counts= new_df['Headquarters Regions'].value_counts().nlargest(30)\n",
    "plt.figure(figsize=(5,5))\n",
    "rg = sns.barplot(y=categories_counts.index, x=categories_counts.values)\n",
    "plt.setp(rg.get_xticklabels(), rotation=90)\n",
    "print(categories_counts)"
   ]
  },
  {
   "cell_type": "code",
   "execution_count": null,
   "metadata": {},
   "outputs": [],
   "source": [
    "#creating subdatasets for the top 6 regions\n",
    "data_EU = new_df[new_df['Headquarters Regions'] == 'European Union (EU)']\n",
    "data_Bay = new_df[new_df['Headquarters Regions'] == 'San Francisco Bay Area, West Coast, Western US']\n",
    "data_APAC = new_df[new_df['Headquarters Regions'] == 'Asia-Pacific (APAC)']\n",
    "data_NY = new_df[new_df['Headquarters Regions'] == 'Greater New York Area, East Coast, Northeastern US']\n",
    "data_LA = new_df[new_df['Headquarters Regions'] == 'Greater Los Angeles Area, West Coast, Western US']\n",
    "data_BO = new_df[new_df['Headquarters Regions'] == 'Greater Boston Area, East Coast, New England']"
   ]
  },
  {
   "cell_type": "code",
   "execution_count": null,
   "metadata": {},
   "outputs": [],
   "source": [
    "print('Bay Area average funding:',data_Bay['Total Funding Amount Currency (in USD)'].sum()/len(data_Bay))\n",
    "print('EU average funding:',data_EU['Total Funding Amount Currency (in USD)'].sum()/len(data_EU))\n",
    "print('APAC average funding:',data_APAC['Total Funding Amount Currency (in USD)'].sum()/len(data_APAC))\n",
    "print('New York average funding:',data_NY['Total Funding Amount Currency (in USD)'].sum()/len(data_NY))\n",
    "print('Los Angeles average funding:',data_LA['Total Funding Amount Currency (in USD)'].sum()/len(data_LA))\n",
    "print('Boston average funding:',data_BO['Total Funding Amount Currency (in USD)'].sum()/len(data_BO))\n",
    "col_names =  ['Region', 'Total Funding', 'Average Funding', 'Top 10 Average Funding']\n",
    "funding  = pd.DataFrame(columns = col_names)\n",
    "funding.loc[0] = ['Bay', data_Bay['Total Funding Amount Currency (in USD)'].sum(), data_Bay['Total Funding Amount Currency (in USD)'].sum()/len(data_Bay), data_Bay['Total Funding Amount Currency (in USD)'].nlargest(10).sum()/10]\n",
    "funding.loc[1] = ['EU', data_EU['Total Funding Amount Currency (in USD)'].sum(), data_EU['Total Funding Amount Currency (in USD)'].sum()/len(data_EU), data_EU['Total Funding Amount Currency (in USD)'].nlargest(10).sum()/10]\n",
    "funding.loc[2] = ['APAC', data_APAC['Total Funding Amount Currency (in USD)'].sum(), data_APAC['Total Funding Amount Currency (in USD)'].sum()/len(data_APAC), data_APAC['Total Funding Amount Currency (in USD)'].nlargest(10).sum()/10]\n",
    "funding.loc[3] = ['NY', data_NY['Total Funding Amount Currency (in USD)'].sum(), data_NY['Total Funding Amount Currency (in USD)'].sum()/len(data_NY), data_NY['Total Funding Amount Currency (in USD)'].nlargest(10).sum()/10]\n",
    "funding.loc[4] = ['LA', data_LA['Total Funding Amount Currency (in USD)'].sum(), data_LA['Total Funding Amount Currency (in USD)'].sum()/len(data_LA), data_LA['Total Funding Amount Currency (in USD)'].nlargest(10).sum()/10]\n",
    "funding.loc[5] = ['BO', data_BO['Total Funding Amount Currency (in USD)'].sum(), data_BO['Total Funding Amount Currency (in USD)'].sum()/len(data_BO), data_BO['Total Funding Amount Currency (in USD)'].nlargest(10).sum()/10]\n",
    "funding = funding.sort_values('Total Funding', ascending=False)\n",
    "funding.plot.bar(x='Region', y='Total Funding', rot=0)\n",
    "funding = funding.sort_values('Average Funding', ascending=False)\n",
    "funding.plot.bar(x='Region', y='Average Funding', rot=0)\n",
    "funding = funding.sort_values('Top 10 Average Funding', ascending=False)\n",
    "funding.plot.bar(x='Region', y='Top 10 Average Funding', rot=0)"
   ]
  },
  {
   "cell_type": "code",
   "execution_count": null,
   "metadata": {},
   "outputs": [],
   "source": [
    "Bay_10 = data_Bay.head(10).sort_values('Total Funding Amount Currency (in USD)', ascending=False)\n",
    "Bay_10.plot.bar(x='Organization Name', y='Total Funding Amount Currency (in USD)', rot=0, figsize=(10,5),title = 'Bay Top 10')\n",
    "\n",
    "EU_10 = data_EU.head(10).sort_values('Total Funding Amount Currency (in USD)', ascending=False)\n",
    "EU_10.plot.bar(x='Organization Name', y='Total Funding Amount Currency (in USD)', rot=0, figsize=(10,5),title = 'EU Top 10')\n",
    "\n",
    "APAC_10 = data_APAC.head(10).sort_values('Total Funding Amount Currency (in USD)', ascending=False)\n",
    "APAC_10.plot.bar(x='Organization Name', y='Total Funding Amount Currency (in USD)', rot=0, figsize=(10,5),title = 'APAC Top 10')\n",
    "\n",
    "NY_10 = data_NY.head(10).sort_values('Total Funding Amount Currency (in USD)', ascending=False)\n",
    "NY_10.plot.bar(x='Organization Name', y='Total Funding Amount Currency (in USD)', rot=0, figsize=(10,5),title = 'NY Top 10')\n",
    "\n",
    "LA_10 = data_LA.head(10).sort_values('Total Funding Amount Currency (in USD)', ascending=False)\n",
    "LA_10.plot.bar(x='Organization Name', y='Total Funding Amount Currency (in USD)', rot=0, figsize=(10,5),title = 'LA Top 10')\n",
    "\n",
    "BO_10 = data_BO.head(10).sort_values('Total Funding Amount Currency (in USD)', ascending=False)\n",
    "BO_10.plot.bar(x='Organization Name', y='Total Funding Amount Currency (in USD)', rot=0, figsize=(10,5),title = 'BO Top 10')\n",
    "\n"
   ]
  },
  {
   "cell_type": "code",
   "execution_count": null,
   "metadata": {},
   "outputs": [],
   "source": [
    "categories_counts= data_Bay['Categories'].value_counts().nlargest(30)\n",
    "plt.figure(figsize=(5,7))\n",
    "rg = sns.barplot(y=categories_counts.index, x=categories_counts.values)\n",
    "plt.setp(rg.get_xticklabels(), rotation=90)\n",
    "print(categories_counts)"
   ]
  },
  {
   "cell_type": "code",
   "execution_count": null,
   "metadata": {},
   "outputs": [],
   "source": [
    "categories_counts= data_EU['Categories'].value_counts().nlargest(30)\n",
    "plt.figure(figsize=(5,7))\n",
    "rg = sns.barplot(y=categories_counts.index, x=categories_counts.values)\n",
    "plt.setp(rg.get_xticklabels(), rotation=90)\n",
    "print(categories_counts)"
   ]
  },
  {
   "cell_type": "code",
   "execution_count": null,
   "metadata": {},
   "outputs": [],
   "source": [
    "categories_counts= data_APAC['Categories'].value_counts().nlargest(30)\n",
    "plt.figure(figsize=(5,7))\n",
    "rg = sns.barplot(y=categories_counts.index, x=categories_counts.values)\n",
    "plt.setp(rg.get_xticklabels(), rotation=90)\n",
    "print(categories_counts)"
   ]
  },
  {
   "cell_type": "code",
   "execution_count": null,
   "metadata": {},
   "outputs": [],
   "source": [
    "categories_counts= data_NY['Categories'].value_counts().nlargest(30)\n",
    "plt.figure(figsize=(5,7))\n",
    "rg = sns.barplot(y=categories_counts.index, x=categories_counts.values)\n",
    "plt.setp(rg.get_xticklabels(), rotation=90)\n",
    "print(categories_counts)"
   ]
  },
  {
   "cell_type": "code",
   "execution_count": null,
   "metadata": {},
   "outputs": [],
   "source": [
    "categories_counts= data_LA['Categories'].value_counts().nlargest(30)\n",
    "plt.figure(figsize=(5,7))\n",
    "rg = sns.barplot(y=categories_counts.index, x=categories_counts.values)\n",
    "plt.setp(rg.get_xticklabels(), rotation=90)\n",
    "print(categories_counts)"
   ]
  },
  {
   "cell_type": "code",
   "execution_count": null,
   "metadata": {},
   "outputs": [],
   "source": [
    "print (len(data))\n",
    "print (data.columns)"
   ]
  },
  {
   "cell_type": "code",
   "execution_count": null,
   "metadata": {},
   "outputs": [],
   "source": [
    "categories_counts= data_BO['Categories'].value_counts().nlargest(30)\n",
    "plt.figure(figsize=(5,7))\n",
    "rg = sns.barplot(y=categories_counts.index, x=categories_counts.values)\n",
    "plt.setp(rg.get_xticklabels(), rotation=90)\n",
    "print(categories_counts)"
   ]
  },
  {
   "cell_type": "code",
   "execution_count": null,
   "metadata": {},
   "outputs": [],
   "source": [
    "categories_counts= new_df['Number of Funding Rounds'].value_counts().nlargest(30)\n",
    "plt.figure(figsize=(5,7))\n",
    "rg = sns.barplot(y=categories_counts.index, x=categories_counts.values)\n",
    "plt.setp(rg.get_xticklabels(), rotation=90)\n",
    "print(categories_counts)"
   ]
  },
  {
   "cell_type": "code",
   "execution_count": null,
   "metadata": {},
   "outputs": [],
   "source": [
    "categories_counts= new_df['Number of Employees'].value_counts().nlargest(30)\n",
    "plt.figure(figsize=(5,7))\n",
    "rg = sns.barplot(y=categories_counts.index, x=categories_counts.values)\n",
    "plt.setp(rg.get_xticklabels(), rotation=90)\n",
    "print(categories_counts)"
   ]
  },
  {
   "cell_type": "code",
   "execution_count": null,
   "metadata": {},
   "outputs": [],
   "source": [
    "categories_counts= new_df['Funding Status'].value_counts().nlargest(30)\n",
    "plt.figure(figsize=(5,7))\n",
    "rg = sns.barplot(y=categories_counts.index, x=categories_counts.values)\n",
    "plt.setp(rg.get_xticklabels(), rotation=90)\n",
    "print(categories_counts)"
   ]
  },
  {
   "cell_type": "code",
   "execution_count": null,
   "metadata": {},
   "outputs": [],
   "source": [
    "categories_counts= new_df['Estimated Revenue Range'].value_counts().nlargest(30)\n",
    "plt.figure(figsize=(5,7))\n",
    "rg = sns.barplot(y=categories_counts.index, x=categories_counts.values)\n",
    "plt.setp(rg.get_xticklabels(), rotation=90)\n",
    "print(categories_counts)"
   ]
  },
  {
   "cell_type": "code",
   "execution_count": null,
   "metadata": {
    "scrolled": false
   },
   "outputs": [],
   "source": [
    "#What other attributes could be useful?\n",
    "print (new_df.notnull().sum())"
   ]
  },
  {
   "cell_type": "code",
   "execution_count": null,
   "metadata": {},
   "outputs": [],
   "source": [
    "data_numeric = data._get_numeric_data()\n",
    "data_numeric\n",
    "data_numeric.to_csv('data_numeric.csv')"
   ]
  },
  {
   "cell_type": "code",
   "execution_count": null,
   "metadata": {},
   "outputs": [],
   "source": [
    "tmp = data_numeric['Total Funding Amount Currency (in USD)']\n",
    "data_numeric.drop(labels='Total Funding Amount Currency (in USD)',axis=1,inplace=True)\n",
    "data_numeric.insert(0,'Total Funding Amount Currency (in USD)',tmp)\n",
    "data_numeric"
   ]
  },
  {
   "cell_type": "code",
   "execution_count": null,
   "metadata": {},
   "outputs": [],
   "source": [
    "name_array = data_numeric.columns\n",
    "name_array"
   ]
  },
  {
   "cell_type": "code",
   "execution_count": null,
   "metadata": {},
   "outputs": [],
   "source": [
    "pos = 1 # use as position tracker for subplots function\n",
    "#array1 = [\"fixed acidity\",\"volatile acidity\",\"citric acid\",\"residual sugar\",\"chlorides\",\"free sulfur dioxide\",\"total sulfur dioxide\",\"density\",\"pH\",\"sulphates\",\"alcohol\",\"quality\"]\n",
    "plt.subplots(6,3, figsize=(35,30)) # subplot function with 4 rows 3 columns and 15x13 in dimension for each graph\n",
    "for item in name_array: # forloop to plot each graph one by one\n",
    "    plt.subplot(6,3,pos) # plot each graph in all 12 slots\n",
    "    plt.hist(data_numeric[item],rwidth = 0.9, bins = 20) # plot the histograph with each row in white_wine with 0.9 width between bars\n",
    "    plt.xlabel(item) # x label as the name of the column\n",
    "    plt.ylabel('Frequency')\n",
    "    plt.title(item) # title is the same as x label\n",
    "    pos = pos + 1 # increment pos for next graph\n",
    "plt.tight_layout() # tighten the layout to avoid overlap among the titles and labels"
   ]
  },
  {
   "cell_type": "code",
   "execution_count": null,
   "metadata": {},
   "outputs": [],
   "source": [
    "name_array = data_numeric.columns\n",
    "name_array"
   ]
  },
  {
   "cell_type": "code",
   "execution_count": null,
   "metadata": {},
   "outputs": [],
   "source": [
    "cor = data_numeric.corr() # create a 12x12 matrix named cor filled with correlation between each pair of columns\n",
    "plt.figure(figsize=(18,10)) # set the dimension of the heatmap to 18x5\n",
    "print (sns.heatmap(cor,annot=True,cmap=\"Blues\"))"
   ]
  },
  {
   "cell_type": "code",
   "execution_count": null,
   "metadata": {},
   "outputs": [],
   "source": [
    "\n"
   ]
  }
 ],
 "metadata": {
  "kernelspec": {
   "display_name": "Python 3",
   "language": "python",
   "name": "python3"
  },
  "language_info": {
   "codemirror_mode": {
    "name": "ipython",
    "version": 3
   },
   "file_extension": ".py",
   "mimetype": "text/x-python",
   "name": "python",
   "nbconvert_exporter": "python",
   "pygments_lexer": "ipython3",
   "version": "3.6.8"
  }
 },
 "nbformat": 4,
 "nbformat_minor": 2
}
